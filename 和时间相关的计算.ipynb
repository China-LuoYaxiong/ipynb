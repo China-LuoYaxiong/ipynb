{
 "cells": [
  {
   "cell_type": "code",
   "execution_count": 1,
   "id": "86f85969-ed91-4103-a3b4-676a1d73f055",
   "metadata": {},
   "outputs": [],
   "source": [
    "import numpy as np\n",
    "import pandas as pd"
   ]
  },
  {
   "cell_type": "markdown",
   "id": "414b69f7-3080-4d2f-b18b-a4744db3d47f",
   "metadata": {},
   "source": [
    "# 导入数据"
   ]
  },
  {
   "cell_type": "code",
   "execution_count": 2,
   "id": "b99c354e-935b-4022-b5e5-8189b6ee6e0f",
   "metadata": {},
   "outputs": [],
   "source": [
    "df = pd.read_csv(rf'.\\data\\数据1.csv', dtype={'日期':'str', '代理商id':str})\n",
    "\n",
    "df.dtypes\n",
    "\n",
    "df = df[df.代理商id.isin(['1505810869882216449', '1232928398737735682', '1237976749447380993'])]"
   ]
  },
  {
   "cell_type": "code",
   "execution_count": 3,
   "id": "5fbf3369-524f-4441-9e86-ee569aa2961f",
   "metadata": {},
   "outputs": [
    {
     "data": {
      "text/html": [
       "<div>\n",
       "<style scoped>\n",
       "    .dataframe tbody tr th:only-of-type {\n",
       "        vertical-align: middle;\n",
       "    }\n",
       "\n",
       "    .dataframe tbody tr th {\n",
       "        vertical-align: top;\n",
       "    }\n",
       "\n",
       "    .dataframe thead th {\n",
       "        text-align: right;\n",
       "    }\n",
       "</style>\n",
       "<table border=\"1\" class=\"dataframe\">\n",
       "  <thead>\n",
       "    <tr style=\"text-align: right;\">\n",
       "      <th></th>\n",
       "      <th>日期</th>\n",
       "      <th>代理商id</th>\n",
       "      <th>当日销售额</th>\n",
       "    </tr>\n",
       "  </thead>\n",
       "  <tbody>\n",
       "    <tr>\n",
       "      <th>0</th>\n",
       "      <td>2021-01-01</td>\n",
       "      <td>1232928398737735682</td>\n",
       "      <td>177282.0</td>\n",
       "    </tr>\n",
       "    <tr>\n",
       "      <th>2</th>\n",
       "      <td>2021-01-01</td>\n",
       "      <td>1237976749447380993</td>\n",
       "      <td>96340.0</td>\n",
       "    </tr>\n",
       "    <tr>\n",
       "      <th>41</th>\n",
       "      <td>2021-01-01</td>\n",
       "      <td>1505810869882216449</td>\n",
       "      <td>388684.0</td>\n",
       "    </tr>\n",
       "    <tr>\n",
       "      <th>46</th>\n",
       "      <td>2021-01-02</td>\n",
       "      <td>1232928398737735682</td>\n",
       "      <td>140710.0</td>\n",
       "    </tr>\n",
       "    <tr>\n",
       "      <th>48</th>\n",
       "      <td>2021-01-02</td>\n",
       "      <td>1237976749447380993</td>\n",
       "      <td>101642.0</td>\n",
       "    </tr>\n",
       "    <tr>\n",
       "      <th>...</th>\n",
       "      <td>...</td>\n",
       "      <td>...</td>\n",
       "      <td>...</td>\n",
       "    </tr>\n",
       "    <tr>\n",
       "      <th>54834</th>\n",
       "      <td>2024-04-07</td>\n",
       "      <td>1237976749447380993</td>\n",
       "      <td>21086.0</td>\n",
       "    </tr>\n",
       "    <tr>\n",
       "      <th>54873</th>\n",
       "      <td>2024-04-07</td>\n",
       "      <td>1505810869882216449</td>\n",
       "      <td>87958.0</td>\n",
       "    </tr>\n",
       "    <tr>\n",
       "      <th>54878</th>\n",
       "      <td>2024-04-08</td>\n",
       "      <td>1232928398737735682</td>\n",
       "      <td>15790.0</td>\n",
       "    </tr>\n",
       "    <tr>\n",
       "      <th>54880</th>\n",
       "      <td>2024-04-08</td>\n",
       "      <td>1237976749447380993</td>\n",
       "      <td>20486.0</td>\n",
       "    </tr>\n",
       "    <tr>\n",
       "      <th>54919</th>\n",
       "      <td>2024-04-08</td>\n",
       "      <td>1505810869882216449</td>\n",
       "      <td>67462.0</td>\n",
       "    </tr>\n",
       "  </tbody>\n",
       "</table>\n",
       "<p>3582 rows × 3 columns</p>\n",
       "</div>"
      ],
      "text/plain": [
       "               日期                代理商id     当日销售额\n",
       "0      2021-01-01  1232928398737735682  177282.0\n",
       "2      2021-01-01  1237976749447380993   96340.0\n",
       "41     2021-01-01  1505810869882216449  388684.0\n",
       "46     2021-01-02  1232928398737735682  140710.0\n",
       "48     2021-01-02  1237976749447380993  101642.0\n",
       "...           ...                  ...       ...\n",
       "54834  2024-04-07  1237976749447380993   21086.0\n",
       "54873  2024-04-07  1505810869882216449   87958.0\n",
       "54878  2024-04-08  1232928398737735682   15790.0\n",
       "54880  2024-04-08  1237976749447380993   20486.0\n",
       "54919  2024-04-08  1505810869882216449   67462.0\n",
       "\n",
       "[3582 rows x 3 columns]"
      ]
     },
     "execution_count": 3,
     "metadata": {},
     "output_type": "execute_result"
    }
   ],
   "source": [
    "df"
   ]
  },
  {
   "cell_type": "code",
   "execution_count": null,
   "id": "f062d7b1-e00d-4245-9299-d4c749c4eb46",
   "metadata": {},
   "outputs": [],
   "source": []
  },
  {
   "cell_type": "markdown",
   "id": "1247bc1c-ff2f-4478-9bb9-026dacb98372",
   "metadata": {},
   "source": [
    "# 创建完整维度表"
   ]
  },
  {
   "cell_type": "code",
   "execution_count": 4,
   "id": "9d544cfe-5cb9-4e6d-a2d1-792c36f96afa",
   "metadata": {},
   "outputs": [
    {
     "data": {
      "text/plain": [
       "array(['2021-01-01', '2021-01-02', '2021-01-03', ..., '2024-04-06',\n",
       "       '2024-04-07', '2024-04-08'], dtype=object)"
      ]
     },
     "execution_count": 4,
     "metadata": {},
     "output_type": "execute_result"
    }
   ],
   "source": [
    "df.日期.unique()"
   ]
  },
  {
   "cell_type": "code",
   "execution_count": 5,
   "id": "8b3b519b-9497-4873-be0c-00f1dd289aba",
   "metadata": {},
   "outputs": [
    {
     "data": {
      "text/plain": [
       "array(['1232928398737735682', '1237976749447380993',\n",
       "       '1505810869882216449'], dtype=object)"
      ]
     },
     "execution_count": 5,
     "metadata": {},
     "output_type": "execute_result"
    }
   ],
   "source": [
    "df.代理商id.unique()"
   ]
  },
  {
   "cell_type": "code",
   "execution_count": 6,
   "id": "ded7dda2-2285-41a1-9ae6-793f18e42604",
   "metadata": {},
   "outputs": [
    {
     "data": {
      "text/plain": [
       "'2021-01-01'"
      ]
     },
     "execution_count": 6,
     "metadata": {},
     "output_type": "execute_result"
    }
   ],
   "source": [
    "df.日期.min()"
   ]
  },
  {
   "cell_type": "code",
   "execution_count": 7,
   "id": "3e6a1857-6bf2-47cd-9c3f-d11d5177b9f6",
   "metadata": {},
   "outputs": [
    {
     "data": {
      "text/plain": [
       "'2024-04-08'"
      ]
     },
     "execution_count": 7,
     "metadata": {},
     "output_type": "execute_result"
    }
   ],
   "source": [
    "df.日期.max()"
   ]
  },
  {
   "cell_type": "code",
   "execution_count": 8,
   "id": "54396526-6367-416a-9105-b8c4d62d6930",
   "metadata": {},
   "outputs": [
    {
     "data": {
      "text/plain": [
       "Index(['2021-01-01', '2021-01-02', '2021-01-03', '2021-01-04', '2021-01-05',\n",
       "       '2021-01-06', '2021-01-07', '2021-01-08', '2021-01-09', '2021-01-10',\n",
       "       ...\n",
       "       '2024-03-30', '2024-03-31', '2024-04-01', '2024-04-02', '2024-04-03',\n",
       "       '2024-04-04', '2024-04-05', '2024-04-06', '2024-04-07', '2024-04-08'],\n",
       "      dtype='object', length=1194)"
      ]
     },
     "execution_count": 8,
     "metadata": {},
     "output_type": "execute_result"
    }
   ],
   "source": [
    "# 完整日期\n",
    "date_list = pd.date_range(df.日期.min(), df.日期.max()).map(lambda x:str(x)[0:10])\n",
    "date_list"
   ]
  },
  {
   "cell_type": "code",
   "execution_count": 9,
   "id": "91b9260c-1dfd-4ead-a265-40d86ecf7c5b",
   "metadata": {},
   "outputs": [
    {
     "data": {
      "text/plain": [
       "1194"
      ]
     },
     "execution_count": 9,
     "metadata": {},
     "output_type": "execute_result"
    }
   ],
   "source": [
    "len(date_list)"
   ]
  },
  {
   "cell_type": "code",
   "execution_count": 10,
   "id": "028a637b-fee3-4e0c-acc9-901b25df9500",
   "metadata": {},
   "outputs": [
    {
     "data": {
      "text/plain": [
       "array(['1232928398737735682', '1237976749447380993',\n",
       "       '1505810869882216449'], dtype=object)"
      ]
     },
     "execution_count": 10,
     "metadata": {},
     "output_type": "execute_result"
    }
   ],
   "source": [
    "# 完整的经销商\n",
    "agent_id_list = df.代理商id.unique()\n",
    "agent_id_list"
   ]
  },
  {
   "cell_type": "code",
   "execution_count": 11,
   "id": "78504d90-fbf0-4116-b9e1-ac7274b5a1ef",
   "metadata": {},
   "outputs": [
    {
     "data": {
      "text/html": [
       "<div>\n",
       "<style scoped>\n",
       "    .dataframe tbody tr th:only-of-type {\n",
       "        vertical-align: middle;\n",
       "    }\n",
       "\n",
       "    .dataframe tbody tr th {\n",
       "        vertical-align: top;\n",
       "    }\n",
       "\n",
       "    .dataframe thead th {\n",
       "        text-align: right;\n",
       "    }\n",
       "</style>\n",
       "<table border=\"1\" class=\"dataframe\">\n",
       "  <thead>\n",
       "    <tr style=\"text-align: right;\">\n",
       "      <th></th>\n",
       "      <th>0</th>\n",
       "    </tr>\n",
       "  </thead>\n",
       "  <tbody>\n",
       "    <tr>\n",
       "      <th>0</th>\n",
       "      <td>2021-01-01</td>\n",
       "    </tr>\n",
       "    <tr>\n",
       "      <th>1</th>\n",
       "      <td>2021-01-02</td>\n",
       "    </tr>\n",
       "    <tr>\n",
       "      <th>2</th>\n",
       "      <td>2021-01-03</td>\n",
       "    </tr>\n",
       "    <tr>\n",
       "      <th>3</th>\n",
       "      <td>2021-01-04</td>\n",
       "    </tr>\n",
       "    <tr>\n",
       "      <th>4</th>\n",
       "      <td>2021-01-05</td>\n",
       "    </tr>\n",
       "    <tr>\n",
       "      <th>...</th>\n",
       "      <td>...</td>\n",
       "    </tr>\n",
       "    <tr>\n",
       "      <th>1189</th>\n",
       "      <td>2024-04-04</td>\n",
       "    </tr>\n",
       "    <tr>\n",
       "      <th>1190</th>\n",
       "      <td>2024-04-05</td>\n",
       "    </tr>\n",
       "    <tr>\n",
       "      <th>1191</th>\n",
       "      <td>2024-04-06</td>\n",
       "    </tr>\n",
       "    <tr>\n",
       "      <th>1192</th>\n",
       "      <td>2024-04-07</td>\n",
       "    </tr>\n",
       "    <tr>\n",
       "      <th>1193</th>\n",
       "      <td>2024-04-08</td>\n",
       "    </tr>\n",
       "  </tbody>\n",
       "</table>\n",
       "<p>1194 rows × 1 columns</p>\n",
       "</div>"
      ],
      "text/plain": [
       "               0\n",
       "0     2021-01-01\n",
       "1     2021-01-02\n",
       "2     2021-01-03\n",
       "3     2021-01-04\n",
       "4     2021-01-05\n",
       "...          ...\n",
       "1189  2024-04-04\n",
       "1190  2024-04-05\n",
       "1191  2024-04-06\n",
       "1192  2024-04-07\n",
       "1193  2024-04-08\n",
       "\n",
       "[1194 rows x 1 columns]"
      ]
     },
     "execution_count": 11,
     "metadata": {},
     "output_type": "execute_result"
    }
   ],
   "source": [
    "pd.DataFrame(date_list)"
   ]
  },
  {
   "cell_type": "code",
   "execution_count": 12,
   "id": "08b24178-5178-43de-81a3-6852c80a634d",
   "metadata": {},
   "outputs": [],
   "source": [
    "L = []\n",
    "for i in agent_id_list:\n",
    "    dfi = pd.DataFrame(date_list)\n",
    "    dfi[1] = i\n",
    "    L.append(dfi)"
   ]
  },
  {
   "cell_type": "code",
   "execution_count": 13,
   "id": "5d1cbd61-9f7a-4ee4-840e-4f2a99811bba",
   "metadata": {},
   "outputs": [
    {
     "data": {
      "text/html": [
       "<div>\n",
       "<style scoped>\n",
       "    .dataframe tbody tr th:only-of-type {\n",
       "        vertical-align: middle;\n",
       "    }\n",
       "\n",
       "    .dataframe tbody tr th {\n",
       "        vertical-align: top;\n",
       "    }\n",
       "\n",
       "    .dataframe thead th {\n",
       "        text-align: right;\n",
       "    }\n",
       "</style>\n",
       "<table border=\"1\" class=\"dataframe\">\n",
       "  <thead>\n",
       "    <tr style=\"text-align: right;\">\n",
       "      <th></th>\n",
       "      <th>0</th>\n",
       "      <th>1</th>\n",
       "    </tr>\n",
       "  </thead>\n",
       "  <tbody>\n",
       "    <tr>\n",
       "      <th>0</th>\n",
       "      <td>2021-01-01</td>\n",
       "      <td>1232928398737735682</td>\n",
       "    </tr>\n",
       "    <tr>\n",
       "      <th>1</th>\n",
       "      <td>2021-01-02</td>\n",
       "      <td>1232928398737735682</td>\n",
       "    </tr>\n",
       "    <tr>\n",
       "      <th>2</th>\n",
       "      <td>2021-01-03</td>\n",
       "      <td>1232928398737735682</td>\n",
       "    </tr>\n",
       "    <tr>\n",
       "      <th>3</th>\n",
       "      <td>2021-01-04</td>\n",
       "      <td>1232928398737735682</td>\n",
       "    </tr>\n",
       "    <tr>\n",
       "      <th>4</th>\n",
       "      <td>2021-01-05</td>\n",
       "      <td>1232928398737735682</td>\n",
       "    </tr>\n",
       "    <tr>\n",
       "      <th>...</th>\n",
       "      <td>...</td>\n",
       "      <td>...</td>\n",
       "    </tr>\n",
       "    <tr>\n",
       "      <th>1189</th>\n",
       "      <td>2024-04-04</td>\n",
       "      <td>1505810869882216449</td>\n",
       "    </tr>\n",
       "    <tr>\n",
       "      <th>1190</th>\n",
       "      <td>2024-04-05</td>\n",
       "      <td>1505810869882216449</td>\n",
       "    </tr>\n",
       "    <tr>\n",
       "      <th>1191</th>\n",
       "      <td>2024-04-06</td>\n",
       "      <td>1505810869882216449</td>\n",
       "    </tr>\n",
       "    <tr>\n",
       "      <th>1192</th>\n",
       "      <td>2024-04-07</td>\n",
       "      <td>1505810869882216449</td>\n",
       "    </tr>\n",
       "    <tr>\n",
       "      <th>1193</th>\n",
       "      <td>2024-04-08</td>\n",
       "      <td>1505810869882216449</td>\n",
       "    </tr>\n",
       "  </tbody>\n",
       "</table>\n",
       "<p>3582 rows × 2 columns</p>\n",
       "</div>"
      ],
      "text/plain": [
       "               0                    1\n",
       "0     2021-01-01  1232928398737735682\n",
       "1     2021-01-02  1232928398737735682\n",
       "2     2021-01-03  1232928398737735682\n",
       "3     2021-01-04  1232928398737735682\n",
       "4     2021-01-05  1232928398737735682\n",
       "...          ...                  ...\n",
       "1189  2024-04-04  1505810869882216449\n",
       "1190  2024-04-05  1505810869882216449\n",
       "1191  2024-04-06  1505810869882216449\n",
       "1192  2024-04-07  1505810869882216449\n",
       "1193  2024-04-08  1505810869882216449\n",
       "\n",
       "[3582 rows x 2 columns]"
      ]
     },
     "execution_count": 13,
     "metadata": {},
     "output_type": "execute_result"
    }
   ],
   "source": [
    "dd = pd.concat(L)\n",
    "dd"
   ]
  },
  {
   "cell_type": "code",
   "execution_count": 14,
   "id": "3b25be10-98c3-4f52-9e0d-f4c8104d6aa3",
   "metadata": {},
   "outputs": [],
   "source": [
    "dd.columns = ['日期', '代理商id']"
   ]
  },
  {
   "cell_type": "code",
   "execution_count": 15,
   "id": "8f3d27da-6491-4a64-b7fb-6b9693426c76",
   "metadata": {},
   "outputs": [
    {
     "data": {
      "text/html": [
       "<div>\n",
       "<style scoped>\n",
       "    .dataframe tbody tr th:only-of-type {\n",
       "        vertical-align: middle;\n",
       "    }\n",
       "\n",
       "    .dataframe tbody tr th {\n",
       "        vertical-align: top;\n",
       "    }\n",
       "\n",
       "    .dataframe thead th {\n",
       "        text-align: right;\n",
       "    }\n",
       "</style>\n",
       "<table border=\"1\" class=\"dataframe\">\n",
       "  <thead>\n",
       "    <tr style=\"text-align: right;\">\n",
       "      <th></th>\n",
       "      <th>日期</th>\n",
       "      <th>代理商id</th>\n",
       "    </tr>\n",
       "  </thead>\n",
       "  <tbody>\n",
       "    <tr>\n",
       "      <th>0</th>\n",
       "      <td>2021-01-01</td>\n",
       "      <td>1232928398737735682</td>\n",
       "    </tr>\n",
       "    <tr>\n",
       "      <th>1</th>\n",
       "      <td>2021-01-02</td>\n",
       "      <td>1232928398737735682</td>\n",
       "    </tr>\n",
       "    <tr>\n",
       "      <th>2</th>\n",
       "      <td>2021-01-03</td>\n",
       "      <td>1232928398737735682</td>\n",
       "    </tr>\n",
       "    <tr>\n",
       "      <th>3</th>\n",
       "      <td>2021-01-04</td>\n",
       "      <td>1232928398737735682</td>\n",
       "    </tr>\n",
       "    <tr>\n",
       "      <th>4</th>\n",
       "      <td>2021-01-05</td>\n",
       "      <td>1232928398737735682</td>\n",
       "    </tr>\n",
       "    <tr>\n",
       "      <th>...</th>\n",
       "      <td>...</td>\n",
       "      <td>...</td>\n",
       "    </tr>\n",
       "    <tr>\n",
       "      <th>1189</th>\n",
       "      <td>2024-04-04</td>\n",
       "      <td>1505810869882216449</td>\n",
       "    </tr>\n",
       "    <tr>\n",
       "      <th>1190</th>\n",
       "      <td>2024-04-05</td>\n",
       "      <td>1505810869882216449</td>\n",
       "    </tr>\n",
       "    <tr>\n",
       "      <th>1191</th>\n",
       "      <td>2024-04-06</td>\n",
       "      <td>1505810869882216449</td>\n",
       "    </tr>\n",
       "    <tr>\n",
       "      <th>1192</th>\n",
       "      <td>2024-04-07</td>\n",
       "      <td>1505810869882216449</td>\n",
       "    </tr>\n",
       "    <tr>\n",
       "      <th>1193</th>\n",
       "      <td>2024-04-08</td>\n",
       "      <td>1505810869882216449</td>\n",
       "    </tr>\n",
       "  </tbody>\n",
       "</table>\n",
       "<p>3582 rows × 2 columns</p>\n",
       "</div>"
      ],
      "text/plain": [
       "              日期                代理商id\n",
       "0     2021-01-01  1232928398737735682\n",
       "1     2021-01-02  1232928398737735682\n",
       "2     2021-01-03  1232928398737735682\n",
       "3     2021-01-04  1232928398737735682\n",
       "4     2021-01-05  1232928398737735682\n",
       "...          ...                  ...\n",
       "1189  2024-04-04  1505810869882216449\n",
       "1190  2024-04-05  1505810869882216449\n",
       "1191  2024-04-06  1505810869882216449\n",
       "1192  2024-04-07  1505810869882216449\n",
       "1193  2024-04-08  1505810869882216449\n",
       "\n",
       "[3582 rows x 2 columns]"
      ]
     },
     "execution_count": 15,
     "metadata": {},
     "output_type": "execute_result"
    }
   ],
   "source": [
    "dd"
   ]
  },
  {
   "cell_type": "code",
   "execution_count": 16,
   "id": "832e772d-3505-4e40-a49f-2fe185e2f31b",
   "metadata": {},
   "outputs": [
    {
     "data": {
      "text/plain": [
       "1232928398737735682    1194\n",
       "1237976749447380993    1194\n",
       "1505810869882216449    1194\n",
       "Name: 代理商id, dtype: int64"
      ]
     },
     "execution_count": 16,
     "metadata": {},
     "output_type": "execute_result"
    }
   ],
   "source": [
    "dd.代理商id.value_counts()"
   ]
  },
  {
   "cell_type": "code",
   "execution_count": null,
   "id": "b3f5720f-d624-4d81-91ec-f277913f11ac",
   "metadata": {},
   "outputs": [],
   "source": []
  },
  {
   "cell_type": "markdown",
   "id": "f923aec2-1124-4ab2-9379-9959d6955c37",
   "metadata": {},
   "source": [
    "# 合并完整维度表"
   ]
  },
  {
   "cell_type": "code",
   "execution_count": 17,
   "id": "3d879228-9eec-444a-b620-63980b5601af",
   "metadata": {},
   "outputs": [],
   "source": [
    "dd = dd.merge(df, how='left', on=['日期', '代理商id']).fillna(0)"
   ]
  },
  {
   "cell_type": "code",
   "execution_count": 18,
   "id": "1d0a1424-1032-4ee1-8e63-cc1bb567e09b",
   "metadata": {},
   "outputs": [
    {
     "data": {
      "text/html": [
       "<div>\n",
       "<style scoped>\n",
       "    .dataframe tbody tr th:only-of-type {\n",
       "        vertical-align: middle;\n",
       "    }\n",
       "\n",
       "    .dataframe tbody tr th {\n",
       "        vertical-align: top;\n",
       "    }\n",
       "\n",
       "    .dataframe thead th {\n",
       "        text-align: right;\n",
       "    }\n",
       "</style>\n",
       "<table border=\"1\" class=\"dataframe\">\n",
       "  <thead>\n",
       "    <tr style=\"text-align: right;\">\n",
       "      <th></th>\n",
       "      <th>日期</th>\n",
       "      <th>代理商id</th>\n",
       "      <th>当日销售额</th>\n",
       "    </tr>\n",
       "  </thead>\n",
       "  <tbody>\n",
       "    <tr>\n",
       "      <th>0</th>\n",
       "      <td>2021-01-01</td>\n",
       "      <td>1232928398737735682</td>\n",
       "      <td>177282.0</td>\n",
       "    </tr>\n",
       "    <tr>\n",
       "      <th>1</th>\n",
       "      <td>2021-01-02</td>\n",
       "      <td>1232928398737735682</td>\n",
       "      <td>140710.0</td>\n",
       "    </tr>\n",
       "    <tr>\n",
       "      <th>2</th>\n",
       "      <td>2021-01-03</td>\n",
       "      <td>1232928398737735682</td>\n",
       "      <td>120226.0</td>\n",
       "    </tr>\n",
       "    <tr>\n",
       "      <th>3</th>\n",
       "      <td>2021-01-04</td>\n",
       "      <td>1232928398737735682</td>\n",
       "      <td>28482.0</td>\n",
       "    </tr>\n",
       "    <tr>\n",
       "      <th>4</th>\n",
       "      <td>2021-01-05</td>\n",
       "      <td>1232928398737735682</td>\n",
       "      <td>49168.0</td>\n",
       "    </tr>\n",
       "    <tr>\n",
       "      <th>...</th>\n",
       "      <td>...</td>\n",
       "      <td>...</td>\n",
       "      <td>...</td>\n",
       "    </tr>\n",
       "    <tr>\n",
       "      <th>3577</th>\n",
       "      <td>2024-04-04</td>\n",
       "      <td>1505810869882216449</td>\n",
       "      <td>130838.0</td>\n",
       "    </tr>\n",
       "    <tr>\n",
       "      <th>3578</th>\n",
       "      <td>2024-04-05</td>\n",
       "      <td>1505810869882216449</td>\n",
       "      <td>203100.0</td>\n",
       "    </tr>\n",
       "    <tr>\n",
       "      <th>3579</th>\n",
       "      <td>2024-04-06</td>\n",
       "      <td>1505810869882216449</td>\n",
       "      <td>295154.0</td>\n",
       "    </tr>\n",
       "    <tr>\n",
       "      <th>3580</th>\n",
       "      <td>2024-04-07</td>\n",
       "      <td>1505810869882216449</td>\n",
       "      <td>87958.0</td>\n",
       "    </tr>\n",
       "    <tr>\n",
       "      <th>3581</th>\n",
       "      <td>2024-04-08</td>\n",
       "      <td>1505810869882216449</td>\n",
       "      <td>67462.0</td>\n",
       "    </tr>\n",
       "  </tbody>\n",
       "</table>\n",
       "<p>3582 rows × 3 columns</p>\n",
       "</div>"
      ],
      "text/plain": [
       "              日期                代理商id     当日销售额\n",
       "0     2021-01-01  1232928398737735682  177282.0\n",
       "1     2021-01-02  1232928398737735682  140710.0\n",
       "2     2021-01-03  1232928398737735682  120226.0\n",
       "3     2021-01-04  1232928398737735682   28482.0\n",
       "4     2021-01-05  1232928398737735682   49168.0\n",
       "...          ...                  ...       ...\n",
       "3577  2024-04-04  1505810869882216449  130838.0\n",
       "3578  2024-04-05  1505810869882216449  203100.0\n",
       "3579  2024-04-06  1505810869882216449  295154.0\n",
       "3580  2024-04-07  1505810869882216449   87958.0\n",
       "3581  2024-04-08  1505810869882216449   67462.0\n",
       "\n",
       "[3582 rows x 3 columns]"
      ]
     },
     "execution_count": 18,
     "metadata": {},
     "output_type": "execute_result"
    }
   ],
   "source": [
    "dd"
   ]
  },
  {
   "cell_type": "code",
   "execution_count": null,
   "id": "5e907010-6ad5-4824-9cc1-2e7ca877c4b4",
   "metadata": {},
   "outputs": [],
   "source": []
  },
  {
   "cell_type": "markdown",
   "id": "8c8a1d1d-bc4a-4081-899b-0a182824b25e",
   "metadata": {},
   "source": [
    "# 固定统计周期的计算"
   ]
  },
  {
   "cell_type": "markdown",
   "id": "3f44e743-9027-4da8-9a95-64744a94f53b",
   "metadata": {},
   "source": [
    "## 过去n天的聚合\n",
    "- Series.rolling(window=N,min_periods=0).sum()\n",
    "- Series.rolling(window=N,min_periods=0).mean()等等\n",
    "- 这是统计前面N行（包括当前行）数据的聚合"
   ]
  },
  {
   "cell_type": "code",
   "execution_count": 19,
   "id": "e0c77f7a-fb0f-44da-b512-fd5c9712a2c1",
   "metadata": {},
   "outputs": [
    {
     "data": {
      "text/plain": [
       "0    1.0\n",
       "1    2.0\n",
       "2    NaN\n",
       "3    NaN\n",
       "4    3.0\n",
       "5    4.0\n",
       "dtype: float64"
      ]
     },
     "execution_count": 19,
     "metadata": {},
     "output_type": "execute_result"
    }
   ],
   "source": [
    "x = pd.Series([1, 2, np.nan, np.nan, 3, 4])\n",
    "x"
   ]
  },
  {
   "cell_type": "code",
   "execution_count": 20,
   "id": "a14534c7-54ba-488d-8423-29f61117bdb7",
   "metadata": {},
   "outputs": [
    {
     "data": {
      "text/plain": [
       "0    1.0\n",
       "1    3.0\n",
       "2    2.0\n",
       "3    0.0\n",
       "4    3.0\n",
       "5    7.0\n",
       "dtype: float64"
      ]
     },
     "execution_count": 20,
     "metadata": {},
     "output_type": "execute_result"
    }
   ],
   "source": [
    "x.rolling(window=2,min_periods=0).sum() # 过去2条求和"
   ]
  },
  {
   "cell_type": "code",
   "execution_count": 21,
   "id": "4ddf2bbc-5e56-4498-bdb4-a28c05cde021",
   "metadata": {},
   "outputs": [
    {
     "data": {
      "text/html": [
       "<div>\n",
       "<style scoped>\n",
       "    .dataframe tbody tr th:only-of-type {\n",
       "        vertical-align: middle;\n",
       "    }\n",
       "\n",
       "    .dataframe tbody tr th {\n",
       "        vertical-align: top;\n",
       "    }\n",
       "\n",
       "    .dataframe thead th {\n",
       "        text-align: right;\n",
       "    }\n",
       "</style>\n",
       "<table border=\"1\" class=\"dataframe\">\n",
       "  <thead>\n",
       "    <tr style=\"text-align: right;\">\n",
       "      <th></th>\n",
       "      <th>日期</th>\n",
       "      <th>代理商id</th>\n",
       "      <th>当日销售额</th>\n",
       "      <th>近7日销售额</th>\n",
       "      <th>近14日销售额</th>\n",
       "      <th>近30日销售额</th>\n",
       "      <th>近60日销售额</th>\n",
       "      <th>近7日日均销售额</th>\n",
       "    </tr>\n",
       "  </thead>\n",
       "  <tbody>\n",
       "    <tr>\n",
       "      <th>0</th>\n",
       "      <td>2021-01-01</td>\n",
       "      <td>1232928398737735682</td>\n",
       "      <td>177282.0</td>\n",
       "      <td>177282.0</td>\n",
       "      <td>177282.0</td>\n",
       "      <td>177282.0</td>\n",
       "      <td>177282.0</td>\n",
       "      <td>177282.000000</td>\n",
       "    </tr>\n",
       "    <tr>\n",
       "      <th>1</th>\n",
       "      <td>2021-01-02</td>\n",
       "      <td>1232928398737735682</td>\n",
       "      <td>140710.0</td>\n",
       "      <td>317992.0</td>\n",
       "      <td>317992.0</td>\n",
       "      <td>317992.0</td>\n",
       "      <td>317992.0</td>\n",
       "      <td>158996.000000</td>\n",
       "    </tr>\n",
       "    <tr>\n",
       "      <th>2</th>\n",
       "      <td>2021-01-03</td>\n",
       "      <td>1232928398737735682</td>\n",
       "      <td>120226.0</td>\n",
       "      <td>438218.0</td>\n",
       "      <td>438218.0</td>\n",
       "      <td>438218.0</td>\n",
       "      <td>438218.0</td>\n",
       "      <td>146072.666667</td>\n",
       "    </tr>\n",
       "    <tr>\n",
       "      <th>3</th>\n",
       "      <td>2021-01-04</td>\n",
       "      <td>1232928398737735682</td>\n",
       "      <td>28482.0</td>\n",
       "      <td>466700.0</td>\n",
       "      <td>466700.0</td>\n",
       "      <td>466700.0</td>\n",
       "      <td>466700.0</td>\n",
       "      <td>116675.000000</td>\n",
       "    </tr>\n",
       "    <tr>\n",
       "      <th>4</th>\n",
       "      <td>2021-01-05</td>\n",
       "      <td>1232928398737735682</td>\n",
       "      <td>49168.0</td>\n",
       "      <td>515868.0</td>\n",
       "      <td>515868.0</td>\n",
       "      <td>515868.0</td>\n",
       "      <td>515868.0</td>\n",
       "      <td>103173.600000</td>\n",
       "    </tr>\n",
       "    <tr>\n",
       "      <th>...</th>\n",
       "      <td>...</td>\n",
       "      <td>...</td>\n",
       "      <td>...</td>\n",
       "      <td>...</td>\n",
       "      <td>...</td>\n",
       "      <td>...</td>\n",
       "      <td>...</td>\n",
       "      <td>...</td>\n",
       "    </tr>\n",
       "    <tr>\n",
       "      <th>3577</th>\n",
       "      <td>2024-04-04</td>\n",
       "      <td>1505810869882216449</td>\n",
       "      <td>130838.0</td>\n",
       "      <td>789906.0</td>\n",
       "      <td>1570716.0</td>\n",
       "      <td>3643334.0</td>\n",
       "      <td>9469206.0</td>\n",
       "      <td>112843.714286</td>\n",
       "    </tr>\n",
       "    <tr>\n",
       "      <th>3578</th>\n",
       "      <td>2024-04-05</td>\n",
       "      <td>1505810869882216449</td>\n",
       "      <td>203100.0</td>\n",
       "      <td>911750.0</td>\n",
       "      <td>1690860.0</td>\n",
       "      <td>3762578.0</td>\n",
       "      <td>9499998.0</td>\n",
       "      <td>130250.000000</td>\n",
       "    </tr>\n",
       "    <tr>\n",
       "      <th>3579</th>\n",
       "      <td>2024-04-06</td>\n",
       "      <td>1505810869882216449</td>\n",
       "      <td>295154.0</td>\n",
       "      <td>1036286.0</td>\n",
       "      <td>1836190.0</td>\n",
       "      <td>3967984.0</td>\n",
       "      <td>9602452.0</td>\n",
       "      <td>148040.857143</td>\n",
       "    </tr>\n",
       "    <tr>\n",
       "      <th>3580</th>\n",
       "      <td>2024-04-07</td>\n",
       "      <td>1505810869882216449</td>\n",
       "      <td>87958.0</td>\n",
       "      <td>892762.0</td>\n",
       "      <td>1733648.0</td>\n",
       "      <td>3544802.0</td>\n",
       "      <td>9456634.0</td>\n",
       "      <td>127537.428571</td>\n",
       "    </tr>\n",
       "    <tr>\n",
       "      <th>3581</th>\n",
       "      <td>2024-04-08</td>\n",
       "      <td>1505810869882216449</td>\n",
       "      <td>67462.0</td>\n",
       "      <td>903052.0</td>\n",
       "      <td>1704454.0</td>\n",
       "      <td>3431160.0</td>\n",
       "      <td>9293418.0</td>\n",
       "      <td>129007.428571</td>\n",
       "    </tr>\n",
       "  </tbody>\n",
       "</table>\n",
       "<p>3582 rows × 8 columns</p>\n",
       "</div>"
      ],
      "text/plain": [
       "              日期                代理商id     当日销售额     近7日销售额    近14日销售额  \\\n",
       "0     2021-01-01  1232928398737735682  177282.0   177282.0   177282.0   \n",
       "1     2021-01-02  1232928398737735682  140710.0   317992.0   317992.0   \n",
       "2     2021-01-03  1232928398737735682  120226.0   438218.0   438218.0   \n",
       "3     2021-01-04  1232928398737735682   28482.0   466700.0   466700.0   \n",
       "4     2021-01-05  1232928398737735682   49168.0   515868.0   515868.0   \n",
       "...          ...                  ...       ...        ...        ...   \n",
       "3577  2024-04-04  1505810869882216449  130838.0   789906.0  1570716.0   \n",
       "3578  2024-04-05  1505810869882216449  203100.0   911750.0  1690860.0   \n",
       "3579  2024-04-06  1505810869882216449  295154.0  1036286.0  1836190.0   \n",
       "3580  2024-04-07  1505810869882216449   87958.0   892762.0  1733648.0   \n",
       "3581  2024-04-08  1505810869882216449   67462.0   903052.0  1704454.0   \n",
       "\n",
       "        近30日销售额    近60日销售额       近7日日均销售额  \n",
       "0      177282.0   177282.0  177282.000000  \n",
       "1      317992.0   317992.0  158996.000000  \n",
       "2      438218.0   438218.0  146072.666667  \n",
       "3      466700.0   466700.0  116675.000000  \n",
       "4      515868.0   515868.0  103173.600000  \n",
       "...         ...        ...            ...  \n",
       "3577  3643334.0  9469206.0  112843.714286  \n",
       "3578  3762578.0  9499998.0  130250.000000  \n",
       "3579  3967984.0  9602452.0  148040.857143  \n",
       "3580  3544802.0  9456634.0  127537.428571  \n",
       "3581  3431160.0  9293418.0  129007.428571  \n",
       "\n",
       "[3582 rows x 8 columns]"
      ]
     },
     "execution_count": 21,
     "metadata": {},
     "output_type": "execute_result"
    }
   ],
   "source": [
    "def func(dfi):\n",
    "    # 要先排序\n",
    "    dfi = dfi.sort_values('日期', ascending=True)\n",
    "    \n",
    "    # 然后计算\n",
    "    dfi['近7日销售额'] = dfi['当日销售额'].rolling(window=7,min_periods=0).sum()\n",
    "    dfi['近14日销售额'] = dfi['当日销售额'].rolling(window=14,min_periods=0).sum()\n",
    "    dfi['近30日销售额'] = dfi['当日销售额'].rolling(window=30,min_periods=0).sum()\n",
    "    dfi['近60日销售额'] = dfi['当日销售额'].rolling(window=60,min_periods=0).sum()\n",
    "    \n",
    "    dfi['近7日日均销售额'] = dfi['当日销售额'].rolling(window=7,min_periods=0).mean()\n",
    "    return dfi\n",
    "\n",
    "dd.groupby('代理商id', as_index=False).apply(func)"
   ]
  },
  {
   "cell_type": "code",
   "execution_count": 22,
   "id": "955c798b-4afa-4ca5-b0e7-d334c08c9aec",
   "metadata": {},
   "outputs": [
    {
     "data": {
      "text/plain": [
       "1733648.0"
      ]
     },
     "execution_count": 22,
     "metadata": {},
     "output_type": "execute_result"
    }
   ],
   "source": [
    "## 验证\n",
    "dd[(dd.代理商id=='1505810869882216449')&(dd.日期<='2024-04-07')].tail(14)['当日销售额'].sum()"
   ]
  },
  {
   "cell_type": "code",
   "execution_count": 23,
   "id": "76cbf09c-ecbf-4d07-b355-3f66efd27b26",
   "metadata": {},
   "outputs": [
    {
     "data": {
      "text/plain": [
       "9456634.0"
      ]
     },
     "execution_count": 23,
     "metadata": {},
     "output_type": "execute_result"
    }
   ],
   "source": [
    "## 验证\n",
    "dd[(dd.代理商id=='1505810869882216449')&(dd.日期<='2024-04-07')].tail(60)['当日销售额'].sum()"
   ]
  },
  {
   "cell_type": "code",
   "execution_count": 24,
   "id": "46213e0a-e89f-41b2-b22d-bab7f89295d6",
   "metadata": {},
   "outputs": [
    {
     "data": {
      "text/plain": [
       "127537.42857142857"
      ]
     },
     "execution_count": 24,
     "metadata": {},
     "output_type": "execute_result"
    }
   ],
   "source": [
    "## 验证\n",
    "dd[(dd.代理商id=='1505810869882216449')&(dd.日期<='2024-04-07')].tail(7)['当日销售额'].mean()"
   ]
  },
  {
   "cell_type": "code",
   "execution_count": null,
   "id": "486c1bcc-b3d1-42f9-a9f4-090441968069",
   "metadata": {},
   "outputs": [],
   "source": []
  },
  {
   "cell_type": "markdown",
   "id": "50f26ac8-a247-49bc-9b76-2486659d32c7",
   "metadata": {},
   "source": [
    "## 固定时间的聚合\n",
    "- 当周、当月、当季、当年、历史"
   ]
  },
  {
   "cell_type": "code",
   "execution_count": 33,
   "id": "9e11eff7-8968-41c3-9108-ed8b88a13af1",
   "metadata": {},
   "outputs": [
    {
     "data": {
      "text/html": [
       "<div>\n",
       "<style scoped>\n",
       "    .dataframe tbody tr th:only-of-type {\n",
       "        vertical-align: middle;\n",
       "    }\n",
       "\n",
       "    .dataframe tbody tr th {\n",
       "        vertical-align: top;\n",
       "    }\n",
       "\n",
       "    .dataframe thead th {\n",
       "        text-align: right;\n",
       "    }\n",
       "</style>\n",
       "<table border=\"1\" class=\"dataframe\">\n",
       "  <thead>\n",
       "    <tr style=\"text-align: right;\">\n",
       "      <th></th>\n",
       "      <th>日期</th>\n",
       "      <th>代理商id</th>\n",
       "      <th>当日销售额</th>\n",
       "    </tr>\n",
       "  </thead>\n",
       "  <tbody>\n",
       "    <tr>\n",
       "      <th>2388</th>\n",
       "      <td>2021-01-01</td>\n",
       "      <td>1505810869882216449</td>\n",
       "      <td>388684.0</td>\n",
       "    </tr>\n",
       "    <tr>\n",
       "      <th>2389</th>\n",
       "      <td>2021-01-02</td>\n",
       "      <td>1505810869882216449</td>\n",
       "      <td>235560.0</td>\n",
       "    </tr>\n",
       "    <tr>\n",
       "      <th>2390</th>\n",
       "      <td>2021-01-03</td>\n",
       "      <td>1505810869882216449</td>\n",
       "      <td>338014.0</td>\n",
       "    </tr>\n",
       "    <tr>\n",
       "      <th>2391</th>\n",
       "      <td>2021-01-04</td>\n",
       "      <td>1505810869882216449</td>\n",
       "      <td>203288.0</td>\n",
       "    </tr>\n",
       "    <tr>\n",
       "      <th>2392</th>\n",
       "      <td>2021-01-05</td>\n",
       "      <td>1505810869882216449</td>\n",
       "      <td>134530.0</td>\n",
       "    </tr>\n",
       "    <tr>\n",
       "      <th>...</th>\n",
       "      <td>...</td>\n",
       "      <td>...</td>\n",
       "      <td>...</td>\n",
       "    </tr>\n",
       "    <tr>\n",
       "      <th>3577</th>\n",
       "      <td>2024-04-04</td>\n",
       "      <td>1505810869882216449</td>\n",
       "      <td>130838.0</td>\n",
       "    </tr>\n",
       "    <tr>\n",
       "      <th>3578</th>\n",
       "      <td>2024-04-05</td>\n",
       "      <td>1505810869882216449</td>\n",
       "      <td>203100.0</td>\n",
       "    </tr>\n",
       "    <tr>\n",
       "      <th>3579</th>\n",
       "      <td>2024-04-06</td>\n",
       "      <td>1505810869882216449</td>\n",
       "      <td>295154.0</td>\n",
       "    </tr>\n",
       "    <tr>\n",
       "      <th>3580</th>\n",
       "      <td>2024-04-07</td>\n",
       "      <td>1505810869882216449</td>\n",
       "      <td>87958.0</td>\n",
       "    </tr>\n",
       "    <tr>\n",
       "      <th>3581</th>\n",
       "      <td>2024-04-08</td>\n",
       "      <td>1505810869882216449</td>\n",
       "      <td>67462.0</td>\n",
       "    </tr>\n",
       "  </tbody>\n",
       "</table>\n",
       "<p>1194 rows × 3 columns</p>\n",
       "</div>"
      ],
      "text/plain": [
       "              日期                代理商id     当日销售额\n",
       "2388  2021-01-01  1505810869882216449  388684.0\n",
       "2389  2021-01-02  1505810869882216449  235560.0\n",
       "2390  2021-01-03  1505810869882216449  338014.0\n",
       "2391  2021-01-04  1505810869882216449  203288.0\n",
       "2392  2021-01-05  1505810869882216449  134530.0\n",
       "...          ...                  ...       ...\n",
       "3577  2024-04-04  1505810869882216449  130838.0\n",
       "3578  2024-04-05  1505810869882216449  203100.0\n",
       "3579  2024-04-06  1505810869882216449  295154.0\n",
       "3580  2024-04-07  1505810869882216449   87958.0\n",
       "3581  2024-04-08  1505810869882216449   67462.0\n",
       "\n",
       "[1194 rows x 3 columns]"
      ]
     },
     "execution_count": 33,
     "metadata": {},
     "output_type": "execute_result"
    }
   ],
   "source": [
    "a = dd[(dd.代理商id=='1505810869882216449')]\n",
    "a"
   ]
  },
  {
   "cell_type": "markdown",
   "id": "bed80d5c-5030-4aec-a404-d1bab2728942",
   "metadata": {},
   "source": [
    "### 当周第一天"
   ]
  },
  {
   "cell_type": "code",
   "execution_count": 97,
   "id": "7a2aeb6e-3f29-429e-8dbb-0f2a2faa0db5",
   "metadata": {},
   "outputs": [
    {
     "data": {
      "text/plain": [
       "Timestamp('2024-04-23 00:00:00')"
      ]
     },
     "execution_count": 97,
     "metadata": {},
     "output_type": "execute_result"
    }
   ],
   "source": [
    "# 这天是星期二\n",
    "x = pd.to_datetime('2024-04-23')\n",
    "x"
   ]
  },
  {
   "cell_type": "code",
   "execution_count": 98,
   "id": "f253a343-f634-4cdb-ba48-2562b6c4eea3",
   "metadata": {},
   "outputs": [
    {
     "data": {
      "text/plain": [
       "1"
      ]
     },
     "execution_count": 98,
     "metadata": {},
     "output_type": "execute_result"
    }
   ],
   "source": [
    "# 返回该日期是当前周的周几，周一是0， 周二1，一直到6\n",
    "x.weekday()"
   ]
  },
  {
   "cell_type": "code",
   "execution_count": 99,
   "id": "d00ff543-1194-4773-9a84-ac70b1a2789c",
   "metadata": {},
   "outputs": [
    {
     "data": {
      "text/plain": [
       "Timestamp('2024-04-22 00:00:00')"
      ]
     },
     "execution_count": 99,
     "metadata": {},
     "output_type": "execute_result"
    }
   ],
   "source": [
    "# 获取该日期所在周的周一\n",
    "first_day_of_week = x - pd.DateOffset(days=x.weekday()) \n",
    "first_day_of_week"
   ]
  },
  {
   "cell_type": "code",
   "execution_count": 100,
   "id": "aa2cd4b3-1f42-480a-a0d6-9bc2746b2fa6",
   "metadata": {},
   "outputs": [],
   "source": [
    "def first_day_of_week_func(date):\n",
    "    x = pd.to_datetime(date)\n",
    "    first_day_of_week = x - pd.DateOffset(days=x.weekday()) \n",
    "    return str(first_day_of_week)[0:10]"
   ]
  },
  {
   "cell_type": "code",
   "execution_count": 104,
   "id": "a0e3e5f1-f394-44b1-af2a-255add64607c",
   "metadata": {},
   "outputs": [
    {
     "data": {
      "text/plain": [
       "'2024-04-22'"
      ]
     },
     "execution_count": 104,
     "metadata": {},
     "output_type": "execute_result"
    }
   ],
   "source": [
    "first_day_of_week_func('2024-04-23')"
   ]
  },
  {
   "cell_type": "code",
   "execution_count": null,
   "id": "26ed3c2a-aecb-43cf-9212-02df03fee872",
   "metadata": {},
   "outputs": [],
   "source": []
  },
  {
   "cell_type": "markdown",
   "id": "d63bbc87-346a-4594-9181-d71f300cb687",
   "metadata": {},
   "source": [
    "### 当月第一天"
   ]
  },
  {
   "cell_type": "code",
   "execution_count": 106,
   "id": "457fee54-cb48-4dc5-9ad1-8a977d1a0ee9",
   "metadata": {},
   "outputs": [],
   "source": [
    "def first_day_of_month_func(date):\n",
    "    first_day_of_month = str(date)[0:7]+'-01'\n",
    "    return first_day_of_month"
   ]
  },
  {
   "cell_type": "code",
   "execution_count": 108,
   "id": "bf620630-ed69-4b4b-bcb1-5fe9b8cfcdd7",
   "metadata": {},
   "outputs": [
    {
     "data": {
      "text/plain": [
       "'2024-04-01'"
      ]
     },
     "execution_count": 108,
     "metadata": {},
     "output_type": "execute_result"
    }
   ],
   "source": [
    "first_day_of_month_func('2024-04-23')"
   ]
  },
  {
   "cell_type": "code",
   "execution_count": null,
   "id": "75727c17-bb17-4267-9442-307b3f933939",
   "metadata": {},
   "outputs": [],
   "source": []
  },
  {
   "cell_type": "markdown",
   "id": "965bfe53-e6f6-4a69-bf5a-4f5c4f5bff07",
   "metadata": {},
   "source": [
    "### 当季第一天"
   ]
  },
  {
   "cell_type": "code",
   "execution_count": 132,
   "id": "661765fd-de8e-4486-b230-5519595b5d32",
   "metadata": {},
   "outputs": [
    {
     "data": {
      "text/plain": [
       "Timestamp('2024-02-23 00:00:00')"
      ]
     },
     "execution_count": 132,
     "metadata": {},
     "output_type": "execute_result"
    }
   ],
   "source": [
    "date = pd.to_datetime('2024-02-23')\n",
    "date"
   ]
  },
  {
   "cell_type": "code",
   "execution_count": 133,
   "id": "5cd4cd08-0af9-4ff4-bc58-aec059d24385",
   "metadata": {},
   "outputs": [
    {
     "data": {
      "text/plain": [
       "2"
      ]
     },
     "execution_count": 133,
     "metadata": {},
     "output_type": "execute_result"
    }
   ],
   "source": [
    "# 返回日期所在的月份\n",
    "date.month"
   ]
  },
  {
   "cell_type": "code",
   "execution_count": 134,
   "id": "36a1e8e2-5850-47ca-8874-d5a4f8f4ad8c",
   "metadata": {},
   "outputs": [
    {
     "data": {
      "text/plain": [
       "1"
      ]
     },
     "execution_count": 134,
     "metadata": {},
     "output_type": "execute_result"
    }
   ],
   "source": [
    "# 确定季度的起始月份：1（Q1），4（Q2），7（Q3），10（Q4）  \n",
    "quarter_start_month = (date.month - 1) // 3 * 3 + 1 \n",
    "quarter_start_month"
   ]
  },
  {
   "cell_type": "code",
   "execution_count": 136,
   "id": "a288f25b-3d97-4f20-8c70-9e2760e94810",
   "metadata": {},
   "outputs": [
    {
     "data": {
      "text/plain": [
       "Timestamp('2024-01-01 00:00:00')"
      ]
     },
     "execution_count": 136,
     "metadata": {},
     "output_type": "execute_result"
    }
   ],
   "source": [
    "# 设置日期为该季度的第一天  \n",
    "first_day_of_quarter = pd.Timestamp(year=date.year, month=quarter_start_month, day=1) \n",
    "first_day_of_quarter"
   ]
  },
  {
   "cell_type": "code",
   "execution_count": 153,
   "id": "f162f145-156b-4dd0-a403-96ad82477b63",
   "metadata": {},
   "outputs": [],
   "source": [
    "def first_day_of_quarter_func(date):\n",
    "    date = pd.to_datetime(date)\n",
    "    # 确定季度的起始月份：1（Q1），4（Q2），7（Q3），10（Q4）  \n",
    "    quarter_start_month = (date.month - 1) // 3 * 3 + 1\n",
    "    # 设置日期为该季度的第一天  \n",
    "    first_day_of_quarter = pd.Timestamp(year=date.year, month=quarter_start_month, day=1) \n",
    "    return str(first_day_of_quarter)[0:10]"
   ]
  },
  {
   "cell_type": "code",
   "execution_count": 154,
   "id": "bd51823b-c377-4853-80f0-3165859abfc1",
   "metadata": {},
   "outputs": [
    {
     "data": {
      "text/plain": [
       "'2024-07-01'"
      ]
     },
     "execution_count": 154,
     "metadata": {},
     "output_type": "execute_result"
    }
   ],
   "source": [
    "first_day_of_quarter_func('2024-07-08')"
   ]
  },
  {
   "cell_type": "code",
   "execution_count": null,
   "id": "a9fa348b-4940-4a89-b9d4-b231c98302f7",
   "metadata": {},
   "outputs": [],
   "source": []
  },
  {
   "cell_type": "markdown",
   "id": "c85b1fc0-2a1f-4077-9395-d1d0b0320b4b",
   "metadata": {},
   "source": [
    "### 当年第一天"
   ]
  },
  {
   "cell_type": "code",
   "execution_count": 155,
   "id": "e4404923-0dc0-4bf9-b99c-79249190c976",
   "metadata": {},
   "outputs": [],
   "source": [
    "def first_day_of_year_func(date):\n",
    "    date = pd.to_datetime(date)\n",
    "    # 设置日期为该季度的第一天  \n",
    "    first_day_of_year = pd.Timestamp(year=date.year, month=1, day=1) \n",
    "    return str(first_day_of_year)[0:10]"
   ]
  },
  {
   "cell_type": "code",
   "execution_count": 158,
   "id": "7b9d9689-29d3-485f-b812-8eed59e4c2ba",
   "metadata": {},
   "outputs": [
    {
     "data": {
      "text/plain": [
       "'2024-01-01'"
      ]
     },
     "execution_count": 158,
     "metadata": {},
     "output_type": "execute_result"
    }
   ],
   "source": [
    "first_day_of_year_func('2024-10-23')"
   ]
  },
  {
   "cell_type": "code",
   "execution_count": null,
   "id": "b846236b-80d7-424c-99be-ba3b54d3ade0",
   "metadata": {},
   "outputs": [],
   "source": []
  },
  {
   "cell_type": "markdown",
   "id": "a272c923-7f7e-4e5d-a470-6267a0680d45",
   "metadata": {},
   "source": [
    "### 聚合"
   ]
  },
  {
   "cell_type": "code",
   "execution_count": 167,
   "id": "1f9cf4f1-102d-40cb-b409-dfb4f7f7b139",
   "metadata": {},
   "outputs": [
    {
     "data": {
      "text/html": [
       "<div>\n",
       "<style scoped>\n",
       "    .dataframe tbody tr th:only-of-type {\n",
       "        vertical-align: middle;\n",
       "    }\n",
       "\n",
       "    .dataframe tbody tr th {\n",
       "        vertical-align: top;\n",
       "    }\n",
       "\n",
       "    .dataframe thead th {\n",
       "        text-align: right;\n",
       "    }\n",
       "</style>\n",
       "<table border=\"1\" class=\"dataframe\">\n",
       "  <thead>\n",
       "    <tr style=\"text-align: right;\">\n",
       "      <th></th>\n",
       "      <th>日期</th>\n",
       "      <th>代理商id</th>\n",
       "      <th>当日销售额</th>\n",
       "    </tr>\n",
       "  </thead>\n",
       "  <tbody>\n",
       "    <tr>\n",
       "      <th>0</th>\n",
       "      <td>2021-01-01</td>\n",
       "      <td>1505810869882216449</td>\n",
       "      <td>388684.0</td>\n",
       "    </tr>\n",
       "    <tr>\n",
       "      <th>1</th>\n",
       "      <td>2021-01-02</td>\n",
       "      <td>1505810869882216449</td>\n",
       "      <td>235560.0</td>\n",
       "    </tr>\n",
       "    <tr>\n",
       "      <th>2</th>\n",
       "      <td>2021-01-03</td>\n",
       "      <td>1505810869882216449</td>\n",
       "      <td>338014.0</td>\n",
       "    </tr>\n",
       "    <tr>\n",
       "      <th>3</th>\n",
       "      <td>2021-01-04</td>\n",
       "      <td>1505810869882216449</td>\n",
       "      <td>203288.0</td>\n",
       "    </tr>\n",
       "    <tr>\n",
       "      <th>4</th>\n",
       "      <td>2021-01-05</td>\n",
       "      <td>1505810869882216449</td>\n",
       "      <td>134530.0</td>\n",
       "    </tr>\n",
       "    <tr>\n",
       "      <th>...</th>\n",
       "      <td>...</td>\n",
       "      <td>...</td>\n",
       "      <td>...</td>\n",
       "    </tr>\n",
       "    <tr>\n",
       "      <th>1189</th>\n",
       "      <td>2024-04-04</td>\n",
       "      <td>1505810869882216449</td>\n",
       "      <td>130838.0</td>\n",
       "    </tr>\n",
       "    <tr>\n",
       "      <th>1190</th>\n",
       "      <td>2024-04-05</td>\n",
       "      <td>1505810869882216449</td>\n",
       "      <td>203100.0</td>\n",
       "    </tr>\n",
       "    <tr>\n",
       "      <th>1191</th>\n",
       "      <td>2024-04-06</td>\n",
       "      <td>1505810869882216449</td>\n",
       "      <td>295154.0</td>\n",
       "    </tr>\n",
       "    <tr>\n",
       "      <th>1192</th>\n",
       "      <td>2024-04-07</td>\n",
       "      <td>1505810869882216449</td>\n",
       "      <td>87958.0</td>\n",
       "    </tr>\n",
       "    <tr>\n",
       "      <th>1193</th>\n",
       "      <td>2024-04-08</td>\n",
       "      <td>1505810869882216449</td>\n",
       "      <td>67462.0</td>\n",
       "    </tr>\n",
       "  </tbody>\n",
       "</table>\n",
       "<p>1194 rows × 3 columns</p>\n",
       "</div>"
      ],
      "text/plain": [
       "              日期                代理商id     当日销售额\n",
       "0     2021-01-01  1505810869882216449  388684.0\n",
       "1     2021-01-02  1505810869882216449  235560.0\n",
       "2     2021-01-03  1505810869882216449  338014.0\n",
       "3     2021-01-04  1505810869882216449  203288.0\n",
       "4     2021-01-05  1505810869882216449  134530.0\n",
       "...          ...                  ...       ...\n",
       "1189  2024-04-04  1505810869882216449  130838.0\n",
       "1190  2024-04-05  1505810869882216449  203100.0\n",
       "1191  2024-04-06  1505810869882216449  295154.0\n",
       "1192  2024-04-07  1505810869882216449   87958.0\n",
       "1193  2024-04-08  1505810869882216449   67462.0\n",
       "\n",
       "[1194 rows x 3 columns]"
      ]
     },
     "execution_count": 167,
     "metadata": {},
     "output_type": "execute_result"
    }
   ],
   "source": [
    "dfi = dd[(dd.代理商id=='1505810869882216449')]\n",
    "dfi = dfi.reset_index(drop=True)\n",
    "dfi"
   ]
  },
  {
   "cell_type": "code",
   "execution_count": 198,
   "id": "37995d50-91d5-494e-af07-8bc4226b0686",
   "metadata": {},
   "outputs": [
    {
     "data": {
      "text/html": [
       "<div>\n",
       "<style scoped>\n",
       "    .dataframe tbody tr th:only-of-type {\n",
       "        vertical-align: middle;\n",
       "    }\n",
       "\n",
       "    .dataframe tbody tr th {\n",
       "        vertical-align: top;\n",
       "    }\n",
       "\n",
       "    .dataframe thead th {\n",
       "        text-align: right;\n",
       "    }\n",
       "</style>\n",
       "<table border=\"1\" class=\"dataframe\">\n",
       "  <thead>\n",
       "    <tr style=\"text-align: right;\">\n",
       "      <th></th>\n",
       "      <th>当周累计销售额</th>\n",
       "      <th>当月累计销售额</th>\n",
       "      <th>当季累计销售额</th>\n",
       "      <th>当年累计销售额</th>\n",
       "      <th>历史累计销售额</th>\n",
       "    </tr>\n",
       "  </thead>\n",
       "  <tbody>\n",
       "    <tr>\n",
       "      <th>0</th>\n",
       "      <td>388684.0</td>\n",
       "      <td>388684.0</td>\n",
       "      <td>388684.0</td>\n",
       "      <td>388684.0</td>\n",
       "      <td>388684.0</td>\n",
       "    </tr>\n",
       "    <tr>\n",
       "      <th>1</th>\n",
       "      <td>624244.0</td>\n",
       "      <td>624244.0</td>\n",
       "      <td>624244.0</td>\n",
       "      <td>624244.0</td>\n",
       "      <td>624244.0</td>\n",
       "    </tr>\n",
       "    <tr>\n",
       "      <th>2</th>\n",
       "      <td>962258.0</td>\n",
       "      <td>962258.0</td>\n",
       "      <td>962258.0</td>\n",
       "      <td>962258.0</td>\n",
       "      <td>962258.0</td>\n",
       "    </tr>\n",
       "    <tr>\n",
       "      <th>3</th>\n",
       "      <td>203288.0</td>\n",
       "      <td>1165546.0</td>\n",
       "      <td>1165546.0</td>\n",
       "      <td>1165546.0</td>\n",
       "      <td>1165546.0</td>\n",
       "    </tr>\n",
       "    <tr>\n",
       "      <th>4</th>\n",
       "      <td>337818.0</td>\n",
       "      <td>1300076.0</td>\n",
       "      <td>1300076.0</td>\n",
       "      <td>1300076.0</td>\n",
       "      <td>1300076.0</td>\n",
       "    </tr>\n",
       "    <tr>\n",
       "      <th>...</th>\n",
       "      <td>...</td>\n",
       "      <td>...</td>\n",
       "      <td>...</td>\n",
       "      <td>...</td>\n",
       "      <td>...</td>\n",
       "    </tr>\n",
       "    <tr>\n",
       "      <th>1189</th>\n",
       "      <td>306550.0</td>\n",
       "      <td>306550.0</td>\n",
       "      <td>306550.0</td>\n",
       "      <td>13945260.0</td>\n",
       "      <td>312543471.0</td>\n",
       "    </tr>\n",
       "    <tr>\n",
       "      <th>1190</th>\n",
       "      <td>509650.0</td>\n",
       "      <td>509650.0</td>\n",
       "      <td>509650.0</td>\n",
       "      <td>14148360.0</td>\n",
       "      <td>312746571.0</td>\n",
       "    </tr>\n",
       "    <tr>\n",
       "      <th>1191</th>\n",
       "      <td>804804.0</td>\n",
       "      <td>804804.0</td>\n",
       "      <td>804804.0</td>\n",
       "      <td>14443514.0</td>\n",
       "      <td>313041725.0</td>\n",
       "    </tr>\n",
       "    <tr>\n",
       "      <th>1192</th>\n",
       "      <td>892762.0</td>\n",
       "      <td>892762.0</td>\n",
       "      <td>892762.0</td>\n",
       "      <td>14531472.0</td>\n",
       "      <td>313129683.0</td>\n",
       "    </tr>\n",
       "    <tr>\n",
       "      <th>1193</th>\n",
       "      <td>67462.0</td>\n",
       "      <td>960224.0</td>\n",
       "      <td>960224.0</td>\n",
       "      <td>14598934.0</td>\n",
       "      <td>313197145.0</td>\n",
       "    </tr>\n",
       "  </tbody>\n",
       "</table>\n",
       "<p>1194 rows × 5 columns</p>\n",
       "</div>"
      ],
      "text/plain": [
       "       当周累计销售额    当月累计销售额    当季累计销售额     当年累计销售额      历史累计销售额\n",
       "0     388684.0   388684.0   388684.0    388684.0     388684.0\n",
       "1     624244.0   624244.0   624244.0    624244.0     624244.0\n",
       "2     962258.0   962258.0   962258.0    962258.0     962258.0\n",
       "3     203288.0  1165546.0  1165546.0   1165546.0    1165546.0\n",
       "4     337818.0  1300076.0  1300076.0   1300076.0    1300076.0\n",
       "...        ...        ...        ...         ...          ...\n",
       "1189  306550.0   306550.0   306550.0  13945260.0  312543471.0\n",
       "1190  509650.0   509650.0   509650.0  14148360.0  312746571.0\n",
       "1191  804804.0   804804.0   804804.0  14443514.0  313041725.0\n",
       "1192  892762.0   892762.0   892762.0  14531472.0  313129683.0\n",
       "1193   67462.0   960224.0   960224.0  14598934.0  313197145.0\n",
       "\n",
       "[1194 rows x 5 columns]"
      ]
     },
     "execution_count": 198,
     "metadata": {},
     "output_type": "execute_result"
    }
   ],
   "source": [
    "def func(ser):\n",
    "    date = ser['日期']\n",
    "    date_col = dfi['日期']\n",
    "    \n",
    "    当周累计销售额 = dfi[(date_col<=date) & (date_col>=first_day_of_week_func(date))]['当日销售额'].sum()\n",
    "    \n",
    "    当月累计销售额 = dfi[(date_col<=date) & (date_col>=first_day_of_month_func(date))]['当日销售额'].sum()\n",
    "    \n",
    "    当季累计销售额 = dfi[(date_col<=date) & (date_col>=first_day_of_quarter_func(date))]['当日销售额'].sum()\n",
    "    \n",
    "    当年累计销售额 = dfi[(date_col<=date) & (date_col>=first_day_of_year_func(date))]['当日销售额'].sum()\n",
    "    \n",
    "    历史累计销售额 = dfi[(date_col<=date)]['当日销售额'].sum()\n",
    "    \n",
    "    return pd.Series({\n",
    "        \n",
    "        ''\n",
    "    \n",
    "        '当周累计销售额': 当周累计销售额,\n",
    "        '当月累计销售额': 当月累计销售额,\n",
    "        '当季累计销售额': 当季累计销售额,\n",
    "        '当年累计销售额': 当年累计销售额,\n",
    "        '历史累计销售额': 历史累计销售额\n",
    "        \n",
    "    })\n",
    "    \n",
    "    \n",
    "ri = dfi.apply(func, axis=1)\n",
    "ri"
   ]
  },
  {
   "cell_type": "code",
   "execution_count": 201,
   "id": "73ed70d5-f621-4b52-a4ce-6d1fddc9470e",
   "metadata": {},
   "outputs": [
    {
     "data": {
      "text/html": [
       "<div>\n",
       "<style scoped>\n",
       "    .dataframe tbody tr th:only-of-type {\n",
       "        vertical-align: middle;\n",
       "    }\n",
       "\n",
       "    .dataframe tbody tr th {\n",
       "        vertical-align: top;\n",
       "    }\n",
       "\n",
       "    .dataframe thead th {\n",
       "        text-align: right;\n",
       "    }\n",
       "</style>\n",
       "<table border=\"1\" class=\"dataframe\">\n",
       "  <thead>\n",
       "    <tr style=\"text-align: right;\">\n",
       "      <th></th>\n",
       "      <th>日期</th>\n",
       "      <th>代理商id</th>\n",
       "      <th>当日销售额</th>\n",
       "      <th>当周累计销售额</th>\n",
       "      <th>当月累计销售额</th>\n",
       "      <th>当季累计销售额</th>\n",
       "      <th>当年累计销售额</th>\n",
       "      <th>历史累计销售额</th>\n",
       "    </tr>\n",
       "  </thead>\n",
       "  <tbody>\n",
       "    <tr>\n",
       "      <th>0</th>\n",
       "      <td>2021-01-01</td>\n",
       "      <td>1505810869882216449</td>\n",
       "      <td>388684.0</td>\n",
       "      <td>388684.0</td>\n",
       "      <td>388684.0</td>\n",
       "      <td>388684.0</td>\n",
       "      <td>388684.0</td>\n",
       "      <td>388684.0</td>\n",
       "    </tr>\n",
       "    <tr>\n",
       "      <th>1</th>\n",
       "      <td>2021-01-02</td>\n",
       "      <td>1505810869882216449</td>\n",
       "      <td>235560.0</td>\n",
       "      <td>624244.0</td>\n",
       "      <td>624244.0</td>\n",
       "      <td>624244.0</td>\n",
       "      <td>624244.0</td>\n",
       "      <td>624244.0</td>\n",
       "    </tr>\n",
       "    <tr>\n",
       "      <th>2</th>\n",
       "      <td>2021-01-03</td>\n",
       "      <td>1505810869882216449</td>\n",
       "      <td>338014.0</td>\n",
       "      <td>962258.0</td>\n",
       "      <td>962258.0</td>\n",
       "      <td>962258.0</td>\n",
       "      <td>962258.0</td>\n",
       "      <td>962258.0</td>\n",
       "    </tr>\n",
       "    <tr>\n",
       "      <th>3</th>\n",
       "      <td>2021-01-04</td>\n",
       "      <td>1505810869882216449</td>\n",
       "      <td>203288.0</td>\n",
       "      <td>203288.0</td>\n",
       "      <td>1165546.0</td>\n",
       "      <td>1165546.0</td>\n",
       "      <td>1165546.0</td>\n",
       "      <td>1165546.0</td>\n",
       "    </tr>\n",
       "    <tr>\n",
       "      <th>4</th>\n",
       "      <td>2021-01-05</td>\n",
       "      <td>1505810869882216449</td>\n",
       "      <td>134530.0</td>\n",
       "      <td>337818.0</td>\n",
       "      <td>1300076.0</td>\n",
       "      <td>1300076.0</td>\n",
       "      <td>1300076.0</td>\n",
       "      <td>1300076.0</td>\n",
       "    </tr>\n",
       "    <tr>\n",
       "      <th>...</th>\n",
       "      <td>...</td>\n",
       "      <td>...</td>\n",
       "      <td>...</td>\n",
       "      <td>...</td>\n",
       "      <td>...</td>\n",
       "      <td>...</td>\n",
       "      <td>...</td>\n",
       "      <td>...</td>\n",
       "    </tr>\n",
       "    <tr>\n",
       "      <th>1189</th>\n",
       "      <td>2024-04-04</td>\n",
       "      <td>1505810869882216449</td>\n",
       "      <td>130838.0</td>\n",
       "      <td>306550.0</td>\n",
       "      <td>306550.0</td>\n",
       "      <td>306550.0</td>\n",
       "      <td>13945260.0</td>\n",
       "      <td>312543471.0</td>\n",
       "    </tr>\n",
       "    <tr>\n",
       "      <th>1190</th>\n",
       "      <td>2024-04-05</td>\n",
       "      <td>1505810869882216449</td>\n",
       "      <td>203100.0</td>\n",
       "      <td>509650.0</td>\n",
       "      <td>509650.0</td>\n",
       "      <td>509650.0</td>\n",
       "      <td>14148360.0</td>\n",
       "      <td>312746571.0</td>\n",
       "    </tr>\n",
       "    <tr>\n",
       "      <th>1191</th>\n",
       "      <td>2024-04-06</td>\n",
       "      <td>1505810869882216449</td>\n",
       "      <td>295154.0</td>\n",
       "      <td>804804.0</td>\n",
       "      <td>804804.0</td>\n",
       "      <td>804804.0</td>\n",
       "      <td>14443514.0</td>\n",
       "      <td>313041725.0</td>\n",
       "    </tr>\n",
       "    <tr>\n",
       "      <th>1192</th>\n",
       "      <td>2024-04-07</td>\n",
       "      <td>1505810869882216449</td>\n",
       "      <td>87958.0</td>\n",
       "      <td>892762.0</td>\n",
       "      <td>892762.0</td>\n",
       "      <td>892762.0</td>\n",
       "      <td>14531472.0</td>\n",
       "      <td>313129683.0</td>\n",
       "    </tr>\n",
       "    <tr>\n",
       "      <th>1193</th>\n",
       "      <td>2024-04-08</td>\n",
       "      <td>1505810869882216449</td>\n",
       "      <td>67462.0</td>\n",
       "      <td>67462.0</td>\n",
       "      <td>960224.0</td>\n",
       "      <td>960224.0</td>\n",
       "      <td>14598934.0</td>\n",
       "      <td>313197145.0</td>\n",
       "    </tr>\n",
       "  </tbody>\n",
       "</table>\n",
       "<p>1194 rows × 8 columns</p>\n",
       "</div>"
      ],
      "text/plain": [
       "              日期                代理商id     当日销售额   当周累计销售额    当月累计销售额  \\\n",
       "0     2021-01-01  1505810869882216449  388684.0  388684.0   388684.0   \n",
       "1     2021-01-02  1505810869882216449  235560.0  624244.0   624244.0   \n",
       "2     2021-01-03  1505810869882216449  338014.0  962258.0   962258.0   \n",
       "3     2021-01-04  1505810869882216449  203288.0  203288.0  1165546.0   \n",
       "4     2021-01-05  1505810869882216449  134530.0  337818.0  1300076.0   \n",
       "...          ...                  ...       ...       ...        ...   \n",
       "1189  2024-04-04  1505810869882216449  130838.0  306550.0   306550.0   \n",
       "1190  2024-04-05  1505810869882216449  203100.0  509650.0   509650.0   \n",
       "1191  2024-04-06  1505810869882216449  295154.0  804804.0   804804.0   \n",
       "1192  2024-04-07  1505810869882216449   87958.0  892762.0   892762.0   \n",
       "1193  2024-04-08  1505810869882216449   67462.0   67462.0   960224.0   \n",
       "\n",
       "        当季累计销售额     当年累计销售额      历史累计销售额  \n",
       "0      388684.0    388684.0     388684.0  \n",
       "1      624244.0    624244.0     624244.0  \n",
       "2      962258.0    962258.0     962258.0  \n",
       "3     1165546.0   1165546.0    1165546.0  \n",
       "4     1300076.0   1300076.0    1300076.0  \n",
       "...         ...         ...          ...  \n",
       "1189   306550.0  13945260.0  312543471.0  \n",
       "1190   509650.0  14148360.0  312746571.0  \n",
       "1191   804804.0  14443514.0  313041725.0  \n",
       "1192   892762.0  14531472.0  313129683.0  \n",
       "1193   960224.0  14598934.0  313197145.0  \n",
       "\n",
       "[1194 rows x 8 columns]"
      ]
     },
     "execution_count": 201,
     "metadata": {},
     "output_type": "execute_result"
    }
   ],
   "source": [
    "agent_i = pd.concat([dfi, ri], axis=1)\n",
    "agent_i"
   ]
  },
  {
   "cell_type": "code",
   "execution_count": null,
   "id": "36d9669b-6c4e-4c17-8590-383a97a9e522",
   "metadata": {},
   "outputs": [],
   "source": []
  },
  {
   "cell_type": "code",
   "execution_count": null,
   "id": "8f6599b6-7425-457f-bae5-dcca0f2ebf4f",
   "metadata": {},
   "outputs": [],
   "source": []
  },
  {
   "cell_type": "markdown",
   "id": "9b7b4ab6-39a3-45aa-850c-8e34f5c39445",
   "metadata": {},
   "source": [
    "# 与历史日期对比"
   ]
  },
  {
   "cell_type": "markdown",
   "id": "99c2c647-b74c-4d9b-8fb7-e89cbc577fa6",
   "metadata": {},
   "source": [
    "## 与N年前的数据进行对比\n",
    "- 在时间维度上减去N年得到的日期，作为要对比的历史日期"
   ]
  },
  {
   "cell_type": "code",
   "execution_count": 207,
   "id": "4d9c3413-b0f3-475b-94d3-26e1b0d364fd",
   "metadata": {},
   "outputs": [
    {
     "data": {
      "text/html": [
       "<div>\n",
       "<style scoped>\n",
       "    .dataframe tbody tr th:only-of-type {\n",
       "        vertical-align: middle;\n",
       "    }\n",
       "\n",
       "    .dataframe tbody tr th {\n",
       "        vertical-align: top;\n",
       "    }\n",
       "\n",
       "    .dataframe thead th {\n",
       "        text-align: right;\n",
       "    }\n",
       "</style>\n",
       "<table border=\"1\" class=\"dataframe\">\n",
       "  <thead>\n",
       "    <tr style=\"text-align: right;\">\n",
       "      <th></th>\n",
       "      <th>日期</th>\n",
       "      <th>代理商id</th>\n",
       "      <th>当日销售额</th>\n",
       "      <th>当周累计销售额</th>\n",
       "      <th>当月累计销售额</th>\n",
       "      <th>当季累计销售额</th>\n",
       "      <th>当年累计销售额</th>\n",
       "      <th>历史累计销售额</th>\n",
       "    </tr>\n",
       "  </thead>\n",
       "  <tbody>\n",
       "    <tr>\n",
       "      <th>0</th>\n",
       "      <td>2021-01-01</td>\n",
       "      <td>1505810869882216449</td>\n",
       "      <td>388684.0</td>\n",
       "      <td>388684.0</td>\n",
       "      <td>388684.0</td>\n",
       "      <td>388684.0</td>\n",
       "      <td>388684.0</td>\n",
       "      <td>388684.0</td>\n",
       "    </tr>\n",
       "    <tr>\n",
       "      <th>1</th>\n",
       "      <td>2021-01-02</td>\n",
       "      <td>1505810869882216449</td>\n",
       "      <td>235560.0</td>\n",
       "      <td>624244.0</td>\n",
       "      <td>624244.0</td>\n",
       "      <td>624244.0</td>\n",
       "      <td>624244.0</td>\n",
       "      <td>624244.0</td>\n",
       "    </tr>\n",
       "    <tr>\n",
       "      <th>2</th>\n",
       "      <td>2021-01-03</td>\n",
       "      <td>1505810869882216449</td>\n",
       "      <td>338014.0</td>\n",
       "      <td>962258.0</td>\n",
       "      <td>962258.0</td>\n",
       "      <td>962258.0</td>\n",
       "      <td>962258.0</td>\n",
       "      <td>962258.0</td>\n",
       "    </tr>\n",
       "    <tr>\n",
       "      <th>3</th>\n",
       "      <td>2021-01-04</td>\n",
       "      <td>1505810869882216449</td>\n",
       "      <td>203288.0</td>\n",
       "      <td>203288.0</td>\n",
       "      <td>1165546.0</td>\n",
       "      <td>1165546.0</td>\n",
       "      <td>1165546.0</td>\n",
       "      <td>1165546.0</td>\n",
       "    </tr>\n",
       "    <tr>\n",
       "      <th>4</th>\n",
       "      <td>2021-01-05</td>\n",
       "      <td>1505810869882216449</td>\n",
       "      <td>134530.0</td>\n",
       "      <td>337818.0</td>\n",
       "      <td>1300076.0</td>\n",
       "      <td>1300076.0</td>\n",
       "      <td>1300076.0</td>\n",
       "      <td>1300076.0</td>\n",
       "    </tr>\n",
       "    <tr>\n",
       "      <th>...</th>\n",
       "      <td>...</td>\n",
       "      <td>...</td>\n",
       "      <td>...</td>\n",
       "      <td>...</td>\n",
       "      <td>...</td>\n",
       "      <td>...</td>\n",
       "      <td>...</td>\n",
       "      <td>...</td>\n",
       "    </tr>\n",
       "    <tr>\n",
       "      <th>1189</th>\n",
       "      <td>2024-04-04</td>\n",
       "      <td>1505810869882216449</td>\n",
       "      <td>130838.0</td>\n",
       "      <td>306550.0</td>\n",
       "      <td>306550.0</td>\n",
       "      <td>306550.0</td>\n",
       "      <td>13945260.0</td>\n",
       "      <td>312543471.0</td>\n",
       "    </tr>\n",
       "    <tr>\n",
       "      <th>1190</th>\n",
       "      <td>2024-04-05</td>\n",
       "      <td>1505810869882216449</td>\n",
       "      <td>203100.0</td>\n",
       "      <td>509650.0</td>\n",
       "      <td>509650.0</td>\n",
       "      <td>509650.0</td>\n",
       "      <td>14148360.0</td>\n",
       "      <td>312746571.0</td>\n",
       "    </tr>\n",
       "    <tr>\n",
       "      <th>1191</th>\n",
       "      <td>2024-04-06</td>\n",
       "      <td>1505810869882216449</td>\n",
       "      <td>295154.0</td>\n",
       "      <td>804804.0</td>\n",
       "      <td>804804.0</td>\n",
       "      <td>804804.0</td>\n",
       "      <td>14443514.0</td>\n",
       "      <td>313041725.0</td>\n",
       "    </tr>\n",
       "    <tr>\n",
       "      <th>1192</th>\n",
       "      <td>2024-04-07</td>\n",
       "      <td>1505810869882216449</td>\n",
       "      <td>87958.0</td>\n",
       "      <td>892762.0</td>\n",
       "      <td>892762.0</td>\n",
       "      <td>892762.0</td>\n",
       "      <td>14531472.0</td>\n",
       "      <td>313129683.0</td>\n",
       "    </tr>\n",
       "    <tr>\n",
       "      <th>1193</th>\n",
       "      <td>2024-04-08</td>\n",
       "      <td>1505810869882216449</td>\n",
       "      <td>67462.0</td>\n",
       "      <td>67462.0</td>\n",
       "      <td>960224.0</td>\n",
       "      <td>960224.0</td>\n",
       "      <td>14598934.0</td>\n",
       "      <td>313197145.0</td>\n",
       "    </tr>\n",
       "  </tbody>\n",
       "</table>\n",
       "<p>1194 rows × 8 columns</p>\n",
       "</div>"
      ],
      "text/plain": [
       "              日期                代理商id     当日销售额   当周累计销售额    当月累计销售额  \\\n",
       "0     2021-01-01  1505810869882216449  388684.0  388684.0   388684.0   \n",
       "1     2021-01-02  1505810869882216449  235560.0  624244.0   624244.0   \n",
       "2     2021-01-03  1505810869882216449  338014.0  962258.0   962258.0   \n",
       "3     2021-01-04  1505810869882216449  203288.0  203288.0  1165546.0   \n",
       "4     2021-01-05  1505810869882216449  134530.0  337818.0  1300076.0   \n",
       "...          ...                  ...       ...       ...        ...   \n",
       "1189  2024-04-04  1505810869882216449  130838.0  306550.0   306550.0   \n",
       "1190  2024-04-05  1505810869882216449  203100.0  509650.0   509650.0   \n",
       "1191  2024-04-06  1505810869882216449  295154.0  804804.0   804804.0   \n",
       "1192  2024-04-07  1505810869882216449   87958.0  892762.0   892762.0   \n",
       "1193  2024-04-08  1505810869882216449   67462.0   67462.0   960224.0   \n",
       "\n",
       "        当季累计销售额     当年累计销售额      历史累计销售额  \n",
       "0      388684.0    388684.0     388684.0  \n",
       "1      624244.0    624244.0     624244.0  \n",
       "2      962258.0    962258.0     962258.0  \n",
       "3     1165546.0   1165546.0    1165546.0  \n",
       "4     1300076.0   1300076.0    1300076.0  \n",
       "...         ...         ...          ...  \n",
       "1189   306550.0  13945260.0  312543471.0  \n",
       "1190   509650.0  14148360.0  312746571.0  \n",
       "1191   804804.0  14443514.0  313041725.0  \n",
       "1192   892762.0  14531472.0  313129683.0  \n",
       "1193   960224.0  14598934.0  313197145.0  \n",
       "\n",
       "[1194 rows x 8 columns]"
      ]
     },
     "execution_count": 207,
     "metadata": {},
     "output_type": "execute_result"
    }
   ],
   "source": [
    "agent_i"
   ]
  },
  {
   "cell_type": "code",
   "execution_count": null,
   "id": "089d41b7-9c1d-48d1-b569-6a9cd49a60fc",
   "metadata": {},
   "outputs": [],
   "source": []
  },
  {
   "cell_type": "code",
   "execution_count": 215,
   "id": "5ebf842f-213b-4c98-8906-9aaf0577c8cc",
   "metadata": {},
   "outputs": [],
   "source": [
    "def 年同比(df, date_col, value_col, N=1):\n",
    "    '''\n",
    "    df: DataFrame对象\n",
    "    date: 列名，指定以那一列作为日期,yyyy-mm-dd 字符串型\n",
    "    value：值，指定以那一列作为对比的值\n",
    "    N：默认位1，与前一年的数据作对比\n",
    "    '''\n",
    "    df1 = df.copy()\n",
    "    \n",
    "    df2 = df1[[date_col, value_col]]\n",
    "    df2.columns = ['对比日期', value_col+'对比值']\n",
    "    \n",
    "    df1['日期时间型'] = pd.to_datetime(df1[date_col])\n",
    "    df1['对比日期']   = (df1['日期时间型']-pd.DateOffset(years=N)).apply(lambda x:str(x)[0:10])\n",
    "    df1 = df1.drop(columns=['日期时间型'])\n",
    "    \n",
    "    df3 = df1.merge(df2, how='left', on='对比日期')\n",
    "    \n",
    "    df3[value_col+'对比差异'] = df3[value_col]-df3[value_col+'对比值']\n",
    "    df3[value_col+'差异百分比'] = df3[value_col+'对比差异'] / df3[value_col+'对比值']\n",
    "    df3[value_col+'差异百分比'] = df3[value_col+'差异百分比'].replace(np.inf, np.nan)\n",
    "    \n",
    "    print('请确保创建了完整维度表!')\n",
    "    \n",
    "    return df3"
   ]
  },
  {
   "cell_type": "code",
   "execution_count": 216,
   "id": "8b4029d1-6b45-4710-ab95-aa8f1c886641",
   "metadata": {},
   "outputs": [
    {
     "name": "stdout",
     "output_type": "stream",
     "text": [
      "请确保创建了完整维度表!\n"
     ]
    },
    {
     "data": {
      "text/html": [
       "<div>\n",
       "<style scoped>\n",
       "    .dataframe tbody tr th:only-of-type {\n",
       "        vertical-align: middle;\n",
       "    }\n",
       "\n",
       "    .dataframe tbody tr th {\n",
       "        vertical-align: top;\n",
       "    }\n",
       "\n",
       "    .dataframe thead th {\n",
       "        text-align: right;\n",
       "    }\n",
       "</style>\n",
       "<table border=\"1\" class=\"dataframe\">\n",
       "  <thead>\n",
       "    <tr style=\"text-align: right;\">\n",
       "      <th></th>\n",
       "      <th>日期</th>\n",
       "      <th>代理商id</th>\n",
       "      <th>当日销售额</th>\n",
       "      <th>当周累计销售额</th>\n",
       "      <th>当月累计销售额</th>\n",
       "      <th>当季累计销售额</th>\n",
       "      <th>当年累计销售额</th>\n",
       "      <th>历史累计销售额</th>\n",
       "      <th>对比日期</th>\n",
       "      <th>当年累计销售额对比值</th>\n",
       "      <th>当年累计销售额对比差异</th>\n",
       "      <th>当年累计销售额差异百分比</th>\n",
       "    </tr>\n",
       "  </thead>\n",
       "  <tbody>\n",
       "    <tr>\n",
       "      <th>0</th>\n",
       "      <td>2021-01-01</td>\n",
       "      <td>1505810869882216449</td>\n",
       "      <td>388684.0</td>\n",
       "      <td>388684.0</td>\n",
       "      <td>388684.0</td>\n",
       "      <td>388684.0</td>\n",
       "      <td>388684.0</td>\n",
       "      <td>388684.0</td>\n",
       "      <td>2020-01-01</td>\n",
       "      <td>NaN</td>\n",
       "      <td>NaN</td>\n",
       "      <td>NaN</td>\n",
       "    </tr>\n",
       "    <tr>\n",
       "      <th>1</th>\n",
       "      <td>2021-01-02</td>\n",
       "      <td>1505810869882216449</td>\n",
       "      <td>235560.0</td>\n",
       "      <td>624244.0</td>\n",
       "      <td>624244.0</td>\n",
       "      <td>624244.0</td>\n",
       "      <td>624244.0</td>\n",
       "      <td>624244.0</td>\n",
       "      <td>2020-01-02</td>\n",
       "      <td>NaN</td>\n",
       "      <td>NaN</td>\n",
       "      <td>NaN</td>\n",
       "    </tr>\n",
       "    <tr>\n",
       "      <th>2</th>\n",
       "      <td>2021-01-03</td>\n",
       "      <td>1505810869882216449</td>\n",
       "      <td>338014.0</td>\n",
       "      <td>962258.0</td>\n",
       "      <td>962258.0</td>\n",
       "      <td>962258.0</td>\n",
       "      <td>962258.0</td>\n",
       "      <td>962258.0</td>\n",
       "      <td>2020-01-03</td>\n",
       "      <td>NaN</td>\n",
       "      <td>NaN</td>\n",
       "      <td>NaN</td>\n",
       "    </tr>\n",
       "    <tr>\n",
       "      <th>3</th>\n",
       "      <td>2021-01-04</td>\n",
       "      <td>1505810869882216449</td>\n",
       "      <td>203288.0</td>\n",
       "      <td>203288.0</td>\n",
       "      <td>1165546.0</td>\n",
       "      <td>1165546.0</td>\n",
       "      <td>1165546.0</td>\n",
       "      <td>1165546.0</td>\n",
       "      <td>2020-01-04</td>\n",
       "      <td>NaN</td>\n",
       "      <td>NaN</td>\n",
       "      <td>NaN</td>\n",
       "    </tr>\n",
       "    <tr>\n",
       "      <th>4</th>\n",
       "      <td>2021-01-05</td>\n",
       "      <td>1505810869882216449</td>\n",
       "      <td>134530.0</td>\n",
       "      <td>337818.0</td>\n",
       "      <td>1300076.0</td>\n",
       "      <td>1300076.0</td>\n",
       "      <td>1300076.0</td>\n",
       "      <td>1300076.0</td>\n",
       "      <td>2020-01-05</td>\n",
       "      <td>NaN</td>\n",
       "      <td>NaN</td>\n",
       "      <td>NaN</td>\n",
       "    </tr>\n",
       "    <tr>\n",
       "      <th>...</th>\n",
       "      <td>...</td>\n",
       "      <td>...</td>\n",
       "      <td>...</td>\n",
       "      <td>...</td>\n",
       "      <td>...</td>\n",
       "      <td>...</td>\n",
       "      <td>...</td>\n",
       "      <td>...</td>\n",
       "      <td>...</td>\n",
       "      <td>...</td>\n",
       "      <td>...</td>\n",
       "      <td>...</td>\n",
       "    </tr>\n",
       "    <tr>\n",
       "      <th>1189</th>\n",
       "      <td>2024-04-04</td>\n",
       "      <td>1505810869882216449</td>\n",
       "      <td>130838.0</td>\n",
       "      <td>306550.0</td>\n",
       "      <td>306550.0</td>\n",
       "      <td>306550.0</td>\n",
       "      <td>13945260.0</td>\n",
       "      <td>312543471.0</td>\n",
       "      <td>2023-04-04</td>\n",
       "      <td>17829888.0</td>\n",
       "      <td>-3884628.0</td>\n",
       "      <td>-0.217872</td>\n",
       "    </tr>\n",
       "    <tr>\n",
       "      <th>1190</th>\n",
       "      <td>2024-04-05</td>\n",
       "      <td>1505810869882216449</td>\n",
       "      <td>203100.0</td>\n",
       "      <td>509650.0</td>\n",
       "      <td>509650.0</td>\n",
       "      <td>509650.0</td>\n",
       "      <td>14148360.0</td>\n",
       "      <td>312746571.0</td>\n",
       "      <td>2023-04-05</td>\n",
       "      <td>17964414.0</td>\n",
       "      <td>-3816054.0</td>\n",
       "      <td>-0.212423</td>\n",
       "    </tr>\n",
       "    <tr>\n",
       "      <th>1191</th>\n",
       "      <td>2024-04-06</td>\n",
       "      <td>1505810869882216449</td>\n",
       "      <td>295154.0</td>\n",
       "      <td>804804.0</td>\n",
       "      <td>804804.0</td>\n",
       "      <td>804804.0</td>\n",
       "      <td>14443514.0</td>\n",
       "      <td>313041725.0</td>\n",
       "      <td>2023-04-06</td>\n",
       "      <td>18047870.0</td>\n",
       "      <td>-3604356.0</td>\n",
       "      <td>-0.199711</td>\n",
       "    </tr>\n",
       "    <tr>\n",
       "      <th>1192</th>\n",
       "      <td>2024-04-07</td>\n",
       "      <td>1505810869882216449</td>\n",
       "      <td>87958.0</td>\n",
       "      <td>892762.0</td>\n",
       "      <td>892762.0</td>\n",
       "      <td>892762.0</td>\n",
       "      <td>14531472.0</td>\n",
       "      <td>313129683.0</td>\n",
       "      <td>2023-04-07</td>\n",
       "      <td>18117130.0</td>\n",
       "      <td>-3585658.0</td>\n",
       "      <td>-0.197915</td>\n",
       "    </tr>\n",
       "    <tr>\n",
       "      <th>1193</th>\n",
       "      <td>2024-04-08</td>\n",
       "      <td>1505810869882216449</td>\n",
       "      <td>67462.0</td>\n",
       "      <td>67462.0</td>\n",
       "      <td>960224.0</td>\n",
       "      <td>960224.0</td>\n",
       "      <td>14598934.0</td>\n",
       "      <td>313197145.0</td>\n",
       "      <td>2023-04-08</td>\n",
       "      <td>18249152.0</td>\n",
       "      <td>-3650218.0</td>\n",
       "      <td>-0.200021</td>\n",
       "    </tr>\n",
       "  </tbody>\n",
       "</table>\n",
       "<p>1194 rows × 12 columns</p>\n",
       "</div>"
      ],
      "text/plain": [
       "              日期                代理商id     当日销售额   当周累计销售额    当月累计销售额  \\\n",
       "0     2021-01-01  1505810869882216449  388684.0  388684.0   388684.0   \n",
       "1     2021-01-02  1505810869882216449  235560.0  624244.0   624244.0   \n",
       "2     2021-01-03  1505810869882216449  338014.0  962258.0   962258.0   \n",
       "3     2021-01-04  1505810869882216449  203288.0  203288.0  1165546.0   \n",
       "4     2021-01-05  1505810869882216449  134530.0  337818.0  1300076.0   \n",
       "...          ...                  ...       ...       ...        ...   \n",
       "1189  2024-04-04  1505810869882216449  130838.0  306550.0   306550.0   \n",
       "1190  2024-04-05  1505810869882216449  203100.0  509650.0   509650.0   \n",
       "1191  2024-04-06  1505810869882216449  295154.0  804804.0   804804.0   \n",
       "1192  2024-04-07  1505810869882216449   87958.0  892762.0   892762.0   \n",
       "1193  2024-04-08  1505810869882216449   67462.0   67462.0   960224.0   \n",
       "\n",
       "        当季累计销售额     当年累计销售额      历史累计销售额        对比日期  当年累计销售额对比值  当年累计销售额对比差异  \\\n",
       "0      388684.0    388684.0     388684.0  2020-01-01         NaN          NaN   \n",
       "1      624244.0    624244.0     624244.0  2020-01-02         NaN          NaN   \n",
       "2      962258.0    962258.0     962258.0  2020-01-03         NaN          NaN   \n",
       "3     1165546.0   1165546.0    1165546.0  2020-01-04         NaN          NaN   \n",
       "4     1300076.0   1300076.0    1300076.0  2020-01-05         NaN          NaN   \n",
       "...         ...         ...          ...         ...         ...          ...   \n",
       "1189   306550.0  13945260.0  312543471.0  2023-04-04  17829888.0   -3884628.0   \n",
       "1190   509650.0  14148360.0  312746571.0  2023-04-05  17964414.0   -3816054.0   \n",
       "1191   804804.0  14443514.0  313041725.0  2023-04-06  18047870.0   -3604356.0   \n",
       "1192   892762.0  14531472.0  313129683.0  2023-04-07  18117130.0   -3585658.0   \n",
       "1193   960224.0  14598934.0  313197145.0  2023-04-08  18249152.0   -3650218.0   \n",
       "\n",
       "      当年累计销售额差异百分比  \n",
       "0              NaN  \n",
       "1              NaN  \n",
       "2              NaN  \n",
       "3              NaN  \n",
       "4              NaN  \n",
       "...            ...  \n",
       "1189     -0.217872  \n",
       "1190     -0.212423  \n",
       "1191     -0.199711  \n",
       "1192     -0.197915  \n",
       "1193     -0.200021  \n",
       "\n",
       "[1194 rows x 12 columns]"
      ]
     },
     "execution_count": 216,
     "metadata": {},
     "output_type": "execute_result"
    }
   ],
   "source": [
    "年同比(agent_i, '日期', '当年累计销售额', 1)"
   ]
  },
  {
   "cell_type": "code",
   "execution_count": 220,
   "id": "a0beac41-8e25-4b73-a178-40d559833a20",
   "metadata": {},
   "outputs": [
    {
     "data": {
      "text/html": [
       "<div>\n",
       "<style scoped>\n",
       "    .dataframe tbody tr th:only-of-type {\n",
       "        vertical-align: middle;\n",
       "    }\n",
       "\n",
       "    .dataframe tbody tr th {\n",
       "        vertical-align: top;\n",
       "    }\n",
       "\n",
       "    .dataframe thead th {\n",
       "        text-align: right;\n",
       "    }\n",
       "</style>\n",
       "<table border=\"1\" class=\"dataframe\">\n",
       "  <thead>\n",
       "    <tr style=\"text-align: right;\">\n",
       "      <th></th>\n",
       "      <th>日期</th>\n",
       "      <th>代理商id</th>\n",
       "      <th>当日销售额</th>\n",
       "      <th>当周累计销售额</th>\n",
       "      <th>当月累计销售额</th>\n",
       "      <th>当季累计销售额</th>\n",
       "      <th>当年累计销售额</th>\n",
       "      <th>历史累计销售额</th>\n",
       "    </tr>\n",
       "  </thead>\n",
       "  <tbody>\n",
       "    <tr>\n",
       "      <th>827</th>\n",
       "      <td>2023-04-08</td>\n",
       "      <td>1505810869882216449</td>\n",
       "      <td>132022.0</td>\n",
       "      <td>595466.0</td>\n",
       "      <td>1239328.0</td>\n",
       "      <td>1239328.0</td>\n",
       "      <td>18249152.0</td>\n",
       "      <td>242590917.0</td>\n",
       "    </tr>\n",
       "  </tbody>\n",
       "</table>\n",
       "</div>"
      ],
      "text/plain": [
       "             日期                代理商id     当日销售额   当周累计销售额    当月累计销售额  \\\n",
       "827  2023-04-08  1505810869882216449  132022.0  595466.0  1239328.0   \n",
       "\n",
       "       当季累计销售额     当年累计销售额      历史累计销售额  \n",
       "827  1239328.0  18249152.0  242590917.0  "
      ]
     },
     "execution_count": 220,
     "metadata": {},
     "output_type": "execute_result"
    }
   ],
   "source": [
    "agent_i[agent_i.日期=='2023-04-08']"
   ]
  },
  {
   "cell_type": "code",
   "execution_count": null,
   "id": "969e994e-5aa9-4e03-995a-4fee70671f57",
   "metadata": {},
   "outputs": [],
   "source": []
  }
 ],
 "metadata": {
  "kernelspec": {
   "display_name": "Python 3 (ipykernel)",
   "language": "python",
   "name": "python3"
  },
  "language_info": {
   "codemirror_mode": {
    "name": "ipython",
    "version": 3
   },
   "file_extension": ".py",
   "mimetype": "text/x-python",
   "name": "python",
   "nbconvert_exporter": "python",
   "pygments_lexer": "ipython3",
   "version": "3.9.12"
  },
  "toc-autonumbering": true
 },
 "nbformat": 4,
 "nbformat_minor": 5
}
