{
 "cells": [
  {
   "cell_type": "code",
   "execution_count": 1,
   "metadata": {
    "ExecuteTime": {
     "end_time": "2020-01-15T06:53:36.739305Z",
     "start_time": "2020-01-15T06:53:36.155838Z"
    }
   },
   "outputs": [],
   "source": [
    "import numpy as np\n",
    "import pandas as pd\n",
    "import matplotlib.pyplot as plt\n",
    "import requests"
   ]
  },
  {
   "cell_type": "code",
   "execution_count": 2,
   "metadata": {
    "ExecuteTime": {
     "end_time": "2020-01-15T06:53:36.965680Z",
     "start_time": "2020-01-15T06:53:36.759218Z"
    }
   },
   "outputs": [],
   "source": [
    "text= requests.request('GET', 'https://album.zhenai.com/u/1824195258')"
   ]
  },
  {
   "cell_type": "code",
   "execution_count": 3,
   "metadata": {
    "ExecuteTime": {
     "end_time": "2020-01-15T06:53:37.248962Z",
     "start_time": "2020-01-15T06:53:37.230022Z"
    }
   },
   "outputs": [
    {
     "data": {
      "text/plain": [
       "'<!DOCTYPE html><html lang=\"zh-cn\"><head><meta charset=\"utf-8\"><meta http-equiv=\"X-UA-Compatible\" content=\"IE=edge,chrome=1\"><link href=\"https://images.zastatic.com/zhenai3/zhenai2015/img/favicon.ico\" type=\"image/x-icon\" rel=\"shortcut icon\"><meta content=\"{qQsyryN6CNItx4N6_b8jTgNvCP8_r5HI6mJpVzop0mJsVGr0k162q!x7z,aac,amr,asm,avi,bak,bat,bmp,bin,c,cab,css,csv,com,cpp,dat,dll,doc,dot,docx,exe,eot,fla,flc,fon,fot,font,gdb,gif,gz,gho,hlp,hpp,htc,ico,ini,inf,ins,iso,js,jar,jpg,jpeg,json,java,lib,log,mid,mp4,mpa,m4a,mp3,mpg,mkv,mod,mov,mim,mpp,msi,mpeg,obj,ocx,ogg,olb,ole,otf,py,pyc,pas,pgm,ppm,pps,ppt,pdf,pptx,png,pic,pli,psd,qif,qtx,ra,rm,ram,rmvb,reg,res,rtf,rar,so,sbl,sfx,swa,swf,svg,sys,tar,taz,tif,tiff,torrent,txt,ttf,vsd,vss,vsw,vxd,woff,woff2,wmv,wma,wav,wps,xbm,xpm,xls,xlsx,xsl,xml,z,zip,apk,plist,ipaqq{mwK9.5IZY7DcNWPEQAJYXdA;bjbNxUThaTj85M2t5MA7ga;TvgpLy7_FA0c3VQGTdxRaa;VQceIK2Zr1qJlq09DAGmEVxDZYKfJxml3YArYmmVQAt1074790432qqqq|[pJEey1FrxLpd.oi0m.V0gnKUI89JOv5ptRGu9ak9xelHTkcTwxpnX65DwFTS9uH3WeZM0ACiJgqzTPChJgWznakEmtAazqOHlRxSOqbHIy7evG4rk.QezS_ply9w2sYVh9qCpul_cKLlHPyTxD0OMsxbhDaB3OxNI97KUAwJkoS0pcxLxTTnKvgfmoAs3apQx6QxsqSgI2VqFP2zhoqnDn3HqTLHKAEpwKJ.ovlsIpfnsKzqJfqfqGJYkTAcDvYCFa2Srv0kQ2r.Uu3JhCrCq1rkxC0Y1UgEJ6QkK6JYcaSaQuYylO7AE6qdWAELhvgq..aejpEnizh3fRaeVEAIw2IZ2iXhYJ5hSCboKhrfpToVl4098qqqqqkogEqhgz6GPiNNkj1qqqq}iYN29LCt7MJLO5kdnmi7a5sH1JNJ7bC1RiWlffphoE7x5GUOiWegcaOBxhWEgnSvxWWWuSU_MJLm7OK8HIzGuaoMexW7yno_18JEO0ksMxxe6dKBfE_anNOczitqnyPj4wj3uBvFHxh9yBv498h0P.OK4IdmaeoFvxtluqqqqqqqm25673|gxDGAi0qXFrLsV9E21OyvDSlE1k0pJS0bwpyEslJlApprlvq5w9lpqvmJ3qSzrpEDQfgp60B6lZSEZ2Fe1.SOubhAA4T0uUMNlHNiaVd9MefqTYMoQHpG0m4Cw8JJySsm17pe.a..MzqA0osbRIwPnlIxMJwEZrsxI8mG_bhjF5YU9UC3Rzzb5VkkmWeXd0PKVZ3ASKBD1dYAT2H1mew0g0U8UEzDOY4OoH0UPm43ABTYPpt3R_ziGo_EA_zDzbbN3yfSfrCksyxQGT60MRpKbpnloEJnzpnDlH0tr0Y4YqNflRr8VqxLg9RwJB4wqqqqk443KOcHJmqASYfzT_WzZvS_2YGr0hYKpnWvg4XoNqqqqD844807oVu2Zsoal3650r0qqqq\"><!--[if lt IE 9]><script r=\\'m\\'>document.createElement(\"section\")</script><![endif]--><script type=\"text/javascript\" charset=\"iso-8859-1\" src=\"/u/4QbVtADbnLVIc/d.FxJzG50F.844807d.js\" r=\\'m\\'></script><script type=\"text/javascript\" r=\"m\">(function(){var _$qQ=0,_$gn=[[0,1,6,5,9,2,7,3,4,10,8],[28,61,9,5,87,86,89,15,84,15,54,83,34,15,53,64,22,33,43,71,45,1,45,73,2,25,6,25,60,96,15,95,68,8,35,52,48,93,56,23,13,72,93,50,20,17,81,57,93,74,32,55,5,75,93,26,49,16,97,58,51,40,79,93,21,12,93,63,92,94,24,15,91,27,47,94,10,31,15,19,94,15,11,5,4,46,38,66,39,15,69,42,85,30,62,80,0,70,14,41,3,65,88,59,29,67,78,37,98,36,82,76,18,44,7,90,77,15],[4,8,11,13,10,30,26,23,14,32,0,6,5,14,27,25,9,25,15,28,3,33,21,31,29,22,29,2,29,17,29,24,16,29,19,29,12,7,20,18,20,1,14],[14,30,42,33,4,3,38,22,0,13,46,7,10,23,29,20,5,8,27,34,37,19,40,23,9,4,18,39,25,43,6,17,30,28,26,24,2,28,47,35,48,35,44,21,23,35,36,21,8,31,11,16,41,32,1,48,21,36,31,44,15,45,12,6],[3,25,4,2,5,7,33,6,34,25,20,11,32,18,25,31,14,18,22,9,15,19,13,24,26,30,22,17,23,10,27,28,13,16,30,29,17,25,35,12,0,1,8,6,21,25]];function _$if(_$KG,_$tj){return _$ZZ.Math.abs(_$KG)%_$tj;}function _$hR(_$uZ){var _$Nl=_$Ag();var _$fl=_$D$();var _$8r=_$cM();if(_$JI()-_$uZ[_$if(_$dx(),16)]){if(_$cM()+_$Ag()){_$7g(_$uZ);}}var _$8r=_$JI()-_$uZ[_$if(_$dx(),16)];if(_$cM()-_$uZ[_$if(_$dZ(),16)]){var _$8r=_$JI();}if(_$cM()-_$uZ[_$if(_$dZ(),16)]){_$uZ[15]=_$JI();}return _$bM(_$uZ);}function _$JI(){return 5}function _$dx(){return 8}function _$cM(){return 13}function _$Ag(){return 3}function _$7g(_$uZ){var _$fl=_$7q();var _$fl=_$HQ();var _$Nl=_$Th();var _$Nl=_$dZ();_$uZ[_$if(_$W$(),16)]=_$JI();return _$7q();}function _$7q(){return 11}function _$HQ(){return 1}function _$Th(){return 2}function _$dZ(){return 0}function _$W$(){return 15}function _$m$(){return 6}function _$V0(){return 9}function _$D$(){return 10}function _$L0(){return 7}function _$54(_$uZ){var _$8r=_$W$();var _$fl=_$JI();_$uZ[_$if(_$dx(),16)]=_$m$();var _$fl=_$Th();return _$dZ();}function _$bM(_$uZ){_$uZ[12]=_$iK(_$uZ);_$uZ[1]=_$uZ[_$if(_$OZ(),16)];_$uZ[2]=_$V0()+_$W$();_$uZ[10]=_$HQ()+_$L0();var _$fl=_$V0();var _$8r=_$uZ[_$if(_$q2(),16)];return _$ih(_$uZ);}function _$iK(_$uZ){_$uZ[_$if(_$HQ(),16)]=_$L0();_$uZ[_$if(_$Th(),16)]=_$dZ();_$uZ[_$if(_$W$(),16)]=_$JI();return _$7q();}function _$OZ(){return 4}function _$q2(){return 12}function _$ih(_$uZ){_$Kw(_$uZ);_$V5(_$uZ);_$jb(_$uZ);return _$uZ[_$if(_$q2(),16)];}function _$Kw(_$uZ){_$uZ[6]=_$OZ();_$uZ[2]=_$dZ();_$uZ[14]=_$q2();return _$D$();}function _$V5(_$uZ){_$uZ[_$if(_$L0(),16)]=_$cM();_$uZ[3]=_$V0();_$uZ[15]=_$JI();return _$7q();}function _$jb(_$uZ){_$uZ[7]=_$cM();var _$fl=_$CP();var _$fl=_$q2();var _$fl=_$HQ();var _$Nl=_$L0();var _$fl=_$Ag();return _$V0();}function _$CP(){return 14}var _$IO,_$8j,_$ZZ,_$RE,_$xM,_$hR,_$im;var _$pk,_$0c,_$wL=_$qQ,_$6w=_$gn[0];while(1){_$0c=_$6w[_$wL++];if(_$0c<4){if(_$0c<1){_$IO=[4,16,64,256,1024,4096,16384,65536];}else if(_$0c<2){_$ZZ=window,_$im=String,_$RE=Array;}else if(_$0c<3){return;}else{_$wL+=-3;}}else if(_$0c<8){if(_$0c<5){if( !_$pk)_$wL+=1;}else if(_$0c<6){_$pk= !_$xM;}else if(_$0c<7){_$xM=_$ZZ[\\'$_ts\\'];}else{_$5K(0);}}else{if(_$0c<9){_$wL+=-5;}else if(_$0c<10){_$wL+=3;}else{_$xM=_$ZZ[\\'$_ts\\']={};}}}function _$5K(_$fl,_$KG){function _$u6(){var _$im=_$mX.charCodeAt(_$ck++ ),_$if;if(_$im<128){return _$im;}else if(_$im<251){return _$im-32;}else if(_$im===251){return 0;}else if(_$im===254){_$im=_$mX.charCodeAt(_$ck++ );if(_$im>=128)_$im-=32;_$if=_$mX.charCodeAt(_$ck++ );if(_$if>=128)_$if-=32;return _$im*219+_$if;}else if(_$im===255){_$im=_$mX.charCodeAt(_$ck++ );if(_$im>=128)_$im-=32;_$if=_$mX.charCodeAt(_$ck++ );if(_$if>=128)_$if-=32;_$im=_$im*219*219+_$if*219;_$if=_$mX.charCodeAt(_$ck++ );if(_$if>=128)_$if-=32;return _$im+_$if;}else if(_$im===252){_$if=_$mX.charCodeAt(_$ck++ );if(_$if>=128)_$if-=32;return -_$if;}else if(_$im===253){_$im=_$mX.charCodeAt(_$ck++ );if(_$im>=128)_$im-=32;_$if=_$mX.charCodeAt(_$ck++ );if(_$if>=128)_$if-=32;return _$im* -219-_$if;}else{}}var _$ck,_$mX,_$HF,_$XW,_$im,_$if,_$qQ,_$wL,_$pk,_$j9,_$0c,_$6w,_$uZ,_$uN,_$j5,_$8r,_$Nl,_$jz,_$nl,_$bg;var _$dx,_$Ag,_$JI=_$fl,_$7g=_$gn[1];while(1){_$Ag=_$7g[_$JI++];if(_$Ag<64){if(_$Ag<16){if(_$Ag<4){if(_$Ag<1){_$KG._$OK=\"_$8r\";}else if(_$Ag<2){_$im+=\"1qZqJVQczRbFk_7jmZE7VHDvIP8hED7_OoDbDZzn5usi1KoG8b$UwDtx0yKRH37cB$Wq4NbbpTFvosvdwGeOHYbK1w1XzwI8QAZ\";}else if(_$Ag<3){_$im+=\"UeaZnQb7aHo5dT__Yb5K930uiil49SGSTs0040NyqQiISnPqTxUSH$KcycYnfhKUa1MdHwx1hXIk8Y6plSv6mKiUQ_$EUW8koir\";}else{_$KG._$v4=\"_$Ag\";}}else if(_$Ag<8){if(_$Ag<5){ret=_$ZZ.execScript(_$KG);}else if(_$Ag<6){if( !_$dx)_$JI+=2;}else if(_$Ag<7){_$im+=\"sD6kl$7H1EEOPlXadJkLX4_l5yV_J4eGBvDbCRpOmDFtRJTV8yBtnbGwfyQhwieHROcRx9X_202btO9$cAfFp5L5QUVZI40XBe2\";}else{_$KG._$gn=\"_$FO\";}}else if(_$Ag<12){if(_$Ag<9){_$xM[\"844807d\"]=_$8j;}else if(_$Ag<10){_$dx=_$xM[\"844807d\"];}else if(_$Ag<11){return 1;}else{_$dx=_$ZZ.execScript;}}else{if(_$Ag<13){_$5K(79,_$8r);}else if(_$Ag<14){var _$wL=_$mX.length;}else if(_$Ag<15){_$KG._$wA=\"_$fl\";}else{return;}}}else if(_$Ag<32){if(_$Ag<20){if(_$Ag<17){var _$bg=_$u6();}else if(_$Ag<18){var _$nl=_$u6();}else if(_$Ag<19){_$KG._$z0=\"_$KE\";}else{_$dx=_$KG===undefined||_$KG===\"\";}}else if(_$Ag<24){if(_$Ag<21){var _$j9=_$u6();}else if(_$Ag<22){_$if=_$5K(8);}else if(_$Ag<23){_$im+=\"90c6wuZbgj58rNlflJIdxcMAg7g7qHQThdZW$m$V0D$L054bMiKOZq2ihKwV5jbCPiQT3XYiL1pNcKg3YIhqi9i6DgPdOZm7Uii\";}else{var _$qQ=_$5K(72);}}else if(_$Ag<28){if(_$Ag<25){_$xM._$Ik=1;}else if(_$Ag<26){_$JI+=-5;}else if(_$Ag<27){_$ck+=_$6w;}else{_$im=_$im.replace(/[\\\\r\\\\n\\\\s]/g,\"\");}}else{if(_$Ag<29){_$xM._$nu=_$5K(14);}else if(_$Ag<30){_$KG._$Dr=\"Y_pm_5hmfxA\";}else if(_$Ag<31){_$KG._$X_=\"_$dx\";}else{return 0;}}}else if(_$Ag<48){if(_$Ag<36){if(_$Ag<33){var _$6w=_$u6();}else if(_$Ag<34){_$im+=\"Ex6PN6lFCfEvNxlg0$R18t2gzJYi3TH5x_szZ68covpIY_MR$OcdsrtrQGAuvXkdwAGTX_OKv41R8JJ7o0C$upkAVJKEkiHJFOV\";}else if(_$Ag<35){return _$wL;}else{var _$HF=_$xM._$nu;}}else if(_$Ag<40){if(_$Ag<37){_$KG._$6Z=\"_$2N\";}else if(_$Ag<38){_$KG._$RE=_$hR;}else if(_$Ag<39){_$im=_$ZZ.eval;}else{return ret;}}else if(_$Ag<44){if(_$Ag<41){var _$8r=_$uZ.join(\\'\\');}else if(_$Ag<42){_$KG._$GT=\"_$JI\";}else if(_$Ag<43){_$KG._$ZZ=236;}else{_$im+=\"2UwrT5Fp_nOhb4W9oFlC2FQy7pwnufWrKx6c90u2LfOxwkVxCWlRfHn0g8pc3JuG_uw2F$8cr51pOc46q45u_NJ4L4ACAqOw8QR\";}}else{if(_$Ag<45){_$KG._$pM=\"_$k8\";}else if(_$Ag<46){_$JI+=5;}else if(_$Ag<47){_$JI+=2;}else{_$dx=_$im!==\"functioneval(){[nativecode]}\";}}}else{if(_$Ag<52){if(_$Ag<49){var _$if=_$5K(8);}else if(_$Ag<50){var _$uZ=[];}else if(_$Ag<51){var _$pk=_$u6();}else{_$uZ.push(\")();\");}}else if(_$Ag<56){if(_$Ag<53){var _$im=_$5K(8);}else if(_$Ag<54){var _$im=\\'\\';}else if(_$Ag<55){var _$im,_$if,_$qQ=_$KG.length,_$wL=new _$RE(_$qQ/2),_$pk=\\'_$\\';}else{_$dx=_$bg>0;}}else if(_$Ag<60){if(_$Ag<57){var _$XW=_$xM.aebi=[];}else if(_$Ag<58){var _$0c=_$u6();}else if(_$Ag<59){for(_$j5=0;_$j5<_$bg;_$j5++ ){_$uZ.push(\"}\");}}else{_$KG._$xM=\"H.VQPlARMnq\";}}else{if(_$Ag<61){_$im+=\"2VOEOdW$jceKdVd6cL4RCh_ndXsBoxKwzqR7ycRWhSUHAzdHjg9WPOQTqQlHxLM7hyNmDZb2HSguvEWbZr21Dwy9$4UJS3CEQCrJsY8eRC3\";}else if(_$Ag<62){_$5K(90,_$xM);}else if(_$Ag<63){_$KG._$Au=\"_$bg\";}else{var _$Nl=_$5K(8);}}}}else{if(_$Ag<80){if(_$Ag<68){if(_$Ag<65){_$im+=\"IO8jZZRExMhRKGtju6mXHFXWcknluNjz5RgXL6mhIvMx3djLb_DrCY5$b$j6pGAmfaOhvshlg1LVgnJf5KA7z0lQimifqQwLpkj\";}else if(_$Ag<66){_$KG._$j9=\"_$cM\";}else if(_$Ag<67){ret=_$im.call(_$ZZ,_$KG);}else{_$KG._$KG=\"bCSmhSHZFiA9Su9yswrGCZ\";}}else if(_$Ag<72){if(_$Ag<69){var _$mX=_$xM[\"844807d\"];}else if(_$Ag<70){_$KG._$jL=1;}else if(_$Ag<71){_$KG._$kd=\"_$Nl\";}else{_$im+=\"Ik6ZXrpM8NJX4QTd5TkFd3u8DnKuBpDjkZLsOSCcJ0kILfRL3Xa0tzWXy4Roq7$FK8g8KfWKxjld7wrFkBPS0CafSfOs0vKXBSa\";}}else if(_$Ag<76){if(_$Ag<73){var _$ck=0;}else if(_$Ag<74){_$im+=\"_sVMWaTUGEngGGBuy1PhpQHWRX$QxfibCMT7tM2xmP$AWDNqLSrXLyw9IuZOhB927NxgqX3oI3w$Lx2Q5MM03HjT217efKQppRQ\";}else if(_$Ag<75){_$bg=_$u6();}else{_$jz=_$mX.substr(_$ck,_$6w).split(String.fromCharCode(255));}}else{if(_$Ag<77){_$KG._$Xr=\"_$IO\";}else if(_$Ag<78){_$KG._$lQ=\"_$4W\";}else if(_$Ag<79){_$KG._$y7=\"\";}else{_$xM._$hl-=_$5K(8);}}}else if(_$Ag<96){if(_$Ag<84){if(_$Ag<81){_$KG._$vX=\"_$j5\";}else if(_$Ag<82){var _$uN=_$u6();}else if(_$Ag<83){_$KG._$A7=\"_$C$\";}else{for(_$im=0,_$if=0;_$if<_$qQ;_$if+=2){_$wL[_$im++ ]=_$pk+_$KG.substr(_$if,2);}}}else if(_$Ag<88){if(_$Ag<85){return new Date().getTime();}else if(_$Ag<86){_$KG._$b_=3;}else if(_$Ag<87){_$JI+=1;}else{_$5K(31);}}else if(_$Ag<92){if(_$Ag<89){_$KG._$pk=\"_$Jf\";}else if(_$Ag<90){_$A7(0);}else if(_$Ag<91){_$KG._$8N=\"_$Yn\";}else{var _$im=_$ZZ.eval.toString();}}else{if(_$Ag<93){_$dx=_$Nl-_$im>12000;}else if(_$Ag<94){}else if(_$Ag<95){if( !_$dx)_$JI+=1;}else{_$xM._$hl=new Date().getTime();}}}else{if(_$Ag<97){return _$5K(10,_$im);}else if(_$Ag<98){for(_$j5=0;_$j5<_$bg;_$j5++ ){_$A7(14,_$j5,_$uZ);}}else{_$KG._$5K=\"Xb9Zi9ymfB4CijAzJ3nWvG\";}}}}function _$A7(_$wL,_$5R,_$gX){function _$L6(){var _$0c=[0];Array.prototype.push.apply(_$0c,arguments);return _$z0.apply(this,_$0c);}var _$im,_$if,_$qQ,_$mh,_$Iv,_$Mx,_$3d,_$jL,_$b_,_$Dr,_$CY,_$5$,_$b$,_$j6,_$pG,_$Am;var _$j9,_$6w,_$pk=_$wL,_$uZ=_$gn[2];while(1){_$6w=_$uZ[_$pk++];if(_$6w<16){if(_$6w<4){if(_$6w<1){var _$if=new Array(_$im);}else if(_$6w<2){_$z0(9,_$gX);}else if(_$6w<3){var _$b$=_$A7(9);}else{var _$jL=_$u6();}}else if(_$6w<8){if(_$6w<5){var _$im=document.scripts.length;}else if(_$6w<6){return _$if;}else if(_$6w<7){for(_$qQ=0;_$qQ<_$im;_$qQ++ ){_$if[_$qQ]=_$u6();}}else{var _$Am=[];}}else if(_$6w<12){if(_$6w<9){var _$if=_$im>1?document.scripts[_$im-2].src:_$8j;}else if(_$6w<10){for(_$qQ=0;_$qQ<_$if;_$qQ++ ){_$Am[_$qQ]=_$A7(9);}}else if(_$6w<11){_$mh=_$ZZ.ActiveXObject?new _$ZZ.ActiveXObject(\\'Microsoft.XMLHTTP\\'):new _$ZZ.XMLHttpRequest();}else{_$j9=_$if;}}else{if(_$6w<13){var _$if=_$u6();}else if(_$6w<14){if( !_$j9)_$pk+=4;}else if(_$6w<15){return;}else{var _$Mx=_$u6();}}}else if(_$6w<32){if(_$6w<20){if(_$6w<17){_$XW[_$5R]=_$im;}else if(_$6w<18){var _$j6=_$A7(9);}else if(_$6w<19){var _$Iv=_$u6();}else{var _$pG=_$A7(9);}}else if(_$6w<24){if(_$6w<21){_$pk+=-23;}else if(_$6w<22){var _$Dr=_$u6();}else if(_$6w<23){var _$5$=_$A7(9);}else{_$mh.send();}}else if(_$6w<28){if(_$6w<25){var _$im=_$A7(9);}else if(_$6w<26){_$pk+=23;}else if(_$6w<27){_$mh.onreadystatechange=_$L6;}else{var _$mh=_$u6();}}else{if(_$6w<29){var _$3d=_$u6();}else if(_$6w<30){}else if(_$6w<31){_$mh.open(\\'GET\\',_$if,false);}else{var _$CY=_$u6();}}}else{if(_$6w<33){var _$im=_$u6();}else{var _$b_=_$u6();}}}function _$z0(_$if,_$fa){var _$Oh,_$im;var _$wL,_$j9,_$qQ=_$if,_$0c=_$gn[3];while(1){_$j9=_$0c[_$qQ++];if(_$j9<16){if(_$j9<4){if(_$j9<1){_$qQ+=22;}else if(_$j9<2){_$fa.push(\"while(1){\");}else if(_$j9<3){_$fa.push(\";\");}else{_$5K(31);}}else if(_$j9<8){if(_$j9<5){if( !_$wL)_$qQ+=1;}else if(_$j9<6){_$fa.push(\"=$_ts.scj,\");}else if(_$j9<7){return;}else{if( !_$wL)_$qQ+=8;}}else if(_$j9<12){if(_$j9<9){_$fa.push(_$HF[_$uN]);}else if(_$j9<10){_$wL=_$5$.length;}else if(_$j9<11){_$fa.push(\"(function(){var \");}else{_$fa.push(_$5R);}}else{if(_$j9<13){_$fa.push(\"}\");}else if(_$j9<14){var _$im,_$Oh=4;}else if(_$j9<15){_$wL=_$mh.readyState==4;}else{_$fa.push(\"++];\");}}}else if(_$j9<32){if(_$j9<20){if(_$j9<17){_$fa.push(\"];\");}else if(_$j9<18){_$wL=_$b$.length;}else if(_$j9<19){for(_$im=0;_$im<_$5$.length;_$im++ ){_$fa.push(\",\");_$fa.push(_$HF[_$5$[_$im]]);}}else{_$fa.push(_$HF[_$jL]);}}else if(_$j9<24){if(_$j9<21){_$fa.push(_$HF[_$nl]);}else if(_$j9<22){_$fa.push(\"=\");}else if(_$j9<23){_$lQ(10);}else{_$fa.push(_$HF[_$Iv]);}}else if(_$j9<28){if(_$j9<25){for(_$im=1;_$im<_$b$.length;_$im++ ){_$fa.push(\",\");_$fa.push(_$HF[_$b$[_$im]]);}}else if(_$j9<26){for(_$im=0;_$im<_$j6.length;_$im+=2){_$lQ(0,_$j6[_$im],_$j6[_$im+1],_$fa);}}else if(_$j9<27){_$fa.push(_$HF[_$b$[0]]);}else{_$fa.push(\"=$_ts.aebi;\");}}else{if(_$j9<29){_$fa.push(\"var \");}else if(_$j9<30){_$fa.push(\"=0,\");}else if(_$j9<31){if( !_$wL)_$qQ+=4;}else{_$fa.push(\"[\");}}}else if(_$j9<48){if(_$j9<36){if(_$j9<33){if( !_$wL)_$qQ+=9;}else if(_$j9<34){_$wL=_$xM[\"844807d\"];}else if(_$j9<35){_$qQ+=8;}else{_$fa.push(\",\");}}else if(_$j9<40){if(_$j9<37){_$fa.push(_$HF[_$CY]);}else if(_$j9<38){_$fa.push(\"function \");}else if(_$j9<39){_$qQ+=23;}else{_$fa.push(\"){\");}}else if(_$j9<44){if(_$j9<41){_$fa.push(\"(\");}else if(_$j9<42){_$wL=_$Am.length;}else if(_$j9<43){_$5K(79,_$mh.responseText);}else{_$qQ+=-23;}}else{if(_$j9<45){_$fa.push(_$HF[_$mh]);}else if(_$j9<46){_$lQ(38,0,_$Am.length);}else if(_$j9<47){_$wL=_$5R==0;}else{_$fa.push(_$HF[_$Mx]);}}}else{_$fa.push(_$HF[_$Dr]);}}function _$lQ(_$pk,_$vs,_$hl,_$g1){var _$im,_$if,_$qQ,_$wL;var _$0c,_$uZ,_$j9=_$pk,_$bg=_$gn[4];while(1){_$uZ=_$bg[_$j9++];if(_$uZ<16){if(_$uZ<4){if(_$uZ<1){_$im-=_$im%2;}else if(_$uZ<2){for(_$if=0;_$if<_$im;_$if+=2){_$fa.push(_$jz[_$pG[_$if]]);_$fa.push(_$HF[_$pG[_$if+1]]);}}else if(_$uZ<3){var _$if=_$im.length;}else{_$g1.push([\"function \",_$HF[_$vs],\"(){var \",_$HF[_$3d],\"=[\",_$hl,\"];Array.prototype.push.apply(\",_$HF[_$3d],\",arguments);return \",_$HF[_$b_],\".apply(this,\",_$HF[_$3d],\");}\"].join(\\'\\'));}}else if(_$uZ<8){if(_$uZ<5){var _$im=_$Am[_$vs];}else if(_$uZ<6){_$if-=_$if%2;}else if(_$uZ<7){if( !_$0c)_$j9+=1;}else{for(k=0;k<_$if;k+=2){_$fa.push(_$jz[_$im[k]]);_$fa.push(_$HF[_$im[k+1]]);}}}else if(_$uZ<12){if(_$uZ<9){_$0c=_$pG.length!=_$im;}else if(_$uZ<10){_$j9+=17;}else if(_$uZ<11){_$qQ=0;}else{_$j9+=28;}}else{if(_$uZ<13){_$j9+=-28;}else if(_$uZ<14){_$if=\"if(\";}else if(_$uZ<15){_$0c=_$wL==1;}else{_$0c=_$wL<=_$Oh;}}}else if(_$uZ<32){if(_$uZ<20){if(_$uZ<17){for(;_$vs+_$qQ<_$hl;_$vs+=_$qQ){_$fa.push(_$if);_$fa.push(_$HF[_$Dr]);_$fa.push(\\'<\\');_$fa.push(_$vs+_$qQ);_$fa.push(\"){\");_$lQ(38,_$vs,_$vs+_$qQ);_$if=\"}else if(\";}}else if(_$uZ<18){_$fa.push(\"}\");}else if(_$uZ<19){if( !_$0c)_$j9+=2;}else{if( !_$0c)_$j9+=7;}}else if(_$uZ<24){if(_$uZ<21){var _$im=_$pG.length;}else if(_$uZ<22){_$fa.push(_$jz[_$pG[_$im]]);}else if(_$uZ<23){_$lQ(2,_$vs);}else{_$j9+=8;}}else if(_$uZ<28){if(_$uZ<25){_$hl-- ;}else if(_$uZ<26){return;}else if(_$uZ<27){for(;_$vs<_$hl;_$vs++ ){_$fa.push(_$if);_$fa.push(_$HF[_$Dr]);_$fa.push(\\'<\\');_$fa.push(_$vs+1);_$fa.push(\"){\");_$lQ(2,_$vs);_$if=\"}else if(\";}}else{for(_$im=1;_$im<7;_$im++ ){if(_$wL<=_$IO[_$im]){_$qQ=_$IO[_$im-1];break;}}}}else{if(_$uZ<29){}else if(_$uZ<30){_$lQ(38,_$vs,_$hl);}else if(_$uZ<31){_$fa.push(\"}else{\");}else{_$j9+=21;}}}else{if(_$uZ<33){_$0c=_$wL==0;}else if(_$uZ<34){_$0c=_$im.length!=_$if;}else if(_$uZ<35){_$fa.push(_$jz[_$im[_$if]]);}else{var _$im,_$if,_$qQ,_$wL=_$hl-_$vs;}}}}}}}})()</script><script>try{navigator.userAgent.match(/Android|iPhone|iPad|iPod/i)&&window.location.replace(\"https://i.zhenai.com\")}catch(i){}</script><!--[if lt IE 9]>\\r\\n    <meta http-equiv=\"refresh\" content=\"0;url=\\'https://www.zhenai.com/n/update_guidance\\'\" />\\r\\n<![endif]--><title>Colar照片资料_北京Colar征婚交友_珍爱网</title><meta name=\"keywords\" content=\"Colar照片, Colar资料, Colar征婚交友\"><meta name=\"description\" content=\"珍爱网会员Colar年龄、身高、住所、学历、收入、兴趣爱好、生活状况、择偶条件等征婚交友个人信息，想在北京寻找真实可靠的相亲对象选择珍爱网。\"><link rel=\"alternate\" media=\"only screen and (max-width: 640px)\" href=\"http://m.zhenai.com/u/1824195258\"><meta name=\"mobile-agent\" content=\"format=xhtml; url=http://m.zhenai.com/u/1824195258\"><meta name=\"mobile-agent\" content=\"format=html5; url=http://m.zhenai.com/u/1824195258\"><meta name=\"mobile-agent\" content=\"format=wml; url=http://m.zhenai.com/u/1824195258\"><meta http-equiv=\"Cache-Control\" content=\"no-transform\"><meta http-equiv=\"Cache-Control\" content=\"no-siteapp\"><script>var _hmt=_hmt||[];!function(){var e=document.createElement(\"script\");e.src=\"https://hm.baidu.com/hm.js?2c8ad67df9e787ad29dbd54ee608f5d2\";var t=document.getElementsByTagName(\"script\")[0];t.parentNode.insertBefore(e,t)}()</script><link href=\"//i.zhenai.com/pc/portal/user/index/css/index.ac38de9dd52c9663c2714d6025bbda69.css\" rel=\"stylesheet\"></head><body><div id=\"app\" data-server-rendered=\"true\"><div class=\"top-bar overflow-div bg-transparent\" style=\"position:absolute;\" data-v-8f4f6e68><div class=\"CONTAINER primary\" data-v-8f4f6e68><img src=\"//i.zhenai.com/pc/portal/user/index/images/logo.c18c8ac.png\" class=\"f-fl\" data-v-8f4f6e68> <div class=\"right-part f-fr\" data-v-8f4f6e68> </div></div></div> <div><div class=\"m-gap\" data-v-2cb76035><div class=\"CONTAINER relative primary\" data-v-2cb76035><div class=\"box\" data-v-2cb76035><span class=\"forbid\" data-v-2cb76035>屏蔽此人</span> <span class=\"report\" data-v-2cb76035>举报此人</span></div></div> <div class=\"DIALOG\" style=\"z-index:1000;display:none;\" data-v-6d8dded2 data-v-2cb76035><div class=\"DIALOG-box\" style=\"width:498px;background-color:#fff;\"><div class=\"title\">举报该用户 <span class=\"close\"></span></div> <div class=\"content\" style=\"padding:30px 38px;\"><section class=\"m-form\" data-v-6d8dded2><p class=\"reportTarget\" data-v-6d8dded2>将\\xa0<span class=\"purple\" data-v-6d8dded2>Colar</span>\\xa0举报</p> <div class=\"item f-cl\" data-v-6d8dded2><div class=\"label required f-fl\" data-v-6d8dded2>举报类型</div> <div class=\"f-fr ZA-FORM-ITEM\" data-v-6d8dded2><div class=\"SELECT\" data-v-60d00cba data-v-6d8dded2><div class=\"box notSelect\" data-v-60d00cba>请选择</div> <div class=\"optionWrapper\" style=\"display:none;\" data-v-60d00cba><div class=\"option\" data-v-60d00cba>\\n色情相关\\n</div><div class=\"option\" data-v-60d00cba>\\n头像、虚假资料\\n</div><div class=\"option\" data-v-60d00cba>\\n婚托、饭托、酒托等\\n</div><div class=\"option\" data-v-60d00cba>\\n骚扰信息\\n</div><div class=\"option\" data-v-60d00cba>\\n诈骗钱财、虚假中奖信息\\n</div><div class=\"option\" data-v-60d00cba>\\n其他\\n</div></div> <div class=\"arrow\" data-v-60d00cba></div></div> </div></div> <div class=\"item f-cl\" data-v-6d8dded2><div class=\"label required f-fl\" data-v-6d8dded2>举报理由</div> <div class=\"f-fr ZA-FORM-ITEM\" data-v-6d8dded2><div class=\"ZA-TEXTAREA\" data-v-6d8dded2><textarea placeholder=\"请填写举报理由，详细描述你所遇到的情况，以便客服人员快速为你进行处理 \" maxlength=\"500\"></textarea> <div class=\"remain-word\">0/500</div> </div> </div></div> <div class=\"m-images\" data-v-6d8dded2><p class=\"required imgTitle\" data-v-6d8dded2>证据截图（最多6张）</p> <div class=\"ZA-FORM-ITEM\" data-v-6d8dded2><div class=\"imagesWrapper f-cl\" data-v-6d8dded2> <span class=\"upload-box f-fl\" data-v-6de725fd data-v-6d8dded2><div class=\"fake-input\" data-v-6de725fd><input type=\"file\" accept=\"image/jpeg,image/jpg,image/png,image/gif\" data-v-6de725fd></div> <div class=\"DIALOG dialog\" style=\"z-index:1000;display:none;\" data-v-6de725fd><div class=\"DIALOG-box\" style=\"width:424px;background-color:#fff;\"><div class=\"title\">下载APP认证 <span class=\"close\"></span></div> <div class=\"content\"><div data-v-6de725fd><p class=\"text\" data-v-6de725fd>因浏览器版本较低，无法上传照片，请升级浏览器，或者扫描下方二维码进行上传</p> <div class=\"image\" data-v-6de725fd><img src=\"//i.zhenai.com/pc/portal/user/index/images/upload_code.650cb4e.png\" style=\"width:120px;height:120px;\" data-v-6de725fd></div></div></div></div></div> <div class=\"uploadBtn\" data-v-6de725fd data-v-6d8dded2></div></span></div> </div></div> <div class=\"item f-cl\" data-v-6d8dded2><div class=\"label f-fl\" data-v-6d8dded2>你的姓名</div> <div class=\"ZA-INPUT f-fr\" style=\"display:inline-block;width:348px;\" data-v-6d8dded2><input autocomplete=\"\" maxlength=\"20\" placeholder=\"请填写你的姓名\" type=\"text\" value=\"\"> </div></div> <div class=\"item f-cl\" data-v-6d8dded2><div class=\"label f-fl\" data-v-6d8dded2>你的手机号</div> <div class=\"f-fr ZA-FORM-ITEM\" data-v-6d8dded2><div class=\"ZA-INPUT\" style=\"display:inline-block;width:348px;\" data-v-6d8dded2><input autocomplete=\"\" maxlength=\"11\" placeholder=\"请填写真实手机号\" type=\"text\" value=\"\"> </div> </div></div> <div class=\"btn-wrapper f-cl\" data-v-6d8dded2><div inlinetype=\"pure\" class=\"BTN\" style=\"width:150px;display:inline-block;\" data-v-6d8dded2><div class=\"BTN-box plain cancelBtn\" style=\"height:40px;line-height:40px;\">取消</div></div> <div class=\"BTN\" style=\"width:150px;display:inline-block;margin:0 0 0 18px;\" data-v-6d8dded2><div class=\"BTN-box primary\" style=\"height:40px;line-height:40px;\">提交</div></div></div></section></div></div></div></div> <div class=\"CONTAINER f-cl f-topIndex primary\" style=\"margin:-215px auto 0;\"><div class=\"CONTAINER f-fl\" style=\"width:880px;\"><div class=\"m-userInfo\" data-v-5b109fc3><div class=\"top f-cl\" data-v-5b109fc3><div class=\"logo f-fl\" style=\"background-image:url(https://photo.zastatic.com/images/photo/456049/1824195258/648406408281983.png?scrop=1&amp;crop=1&amp;cpos=north&amp;w=200&amp;h=200);\" data-v-5b109fc3></div> <div class=\"right f-fl\" data-v-5b109fc3><div class=\"info\" data-v-5b109fc3><div class=\"name\" data-v-5b109fc3><h1 class=\"nickName\" data-v-5b109fc3>Colar</h1> <div class=\"flag-box\" data-v-5b109fc3><span title=\"珍心会员\" class=\"FLAG zhenxin\" style=\"width:20px;height:20px;margin-left:0;\" data-v-dcad3040 data-v-5b109fc3></span> <span title=\"实名认证\" class=\"FLAG realname\" style=\"width:20px;height:20px;margin-left:0;margin-right:8px;\" data-v-dcad3040 data-v-5b109fc3></span></div> </div> <div class=\"id\" data-v-5b109fc3>ID：1824195258</div> </div> </div></div> <div class=\"bottom\" data-v-5b109fc3><div class=\"actions f-cl\" data-v-5b109fc3><div class=\"item sayHi f-fl\" data-v-5b109fc3>打招呼</div> <div class=\"item sendMsg f-fl\" data-v-5b109fc3>发消息</div> <div class=\"item hongliang f-fl\" data-v-5b109fc3>红娘牵线</div></div></div></div> <div class=\"CONTAINER\" style=\"width:100%;margin:20px auto 0;\"><div class=\"m-userInfoDetail\" data-v-8b1eac0c><div class=\"m-title\" data-v-8b1eac0c>内心独白</div> <div class=\"m-content-box m-des\" data-v-8b1eac0c><span data-v-8b1eac0c>94年10月天蝎座，在北京三年，现在开了两家店，单身半年多，比较要强，感情里小女生，有点喜欢主动，体贴的男生，比我强一点，让我有崇拜感，有上进心，让我觉得有安全感</span></div> <div class=\"m-title\" data-v-8b1eac0c>个人资料</div> <div class=\"m-content-box\" data-v-8b1eac0c><div class=\"purple-btns\" data-v-8b1eac0c><div class=\"m-btn purple\" data-v-8b1eac0c>未婚</div><div class=\"m-btn purple\" data-v-8b1eac0c>25岁</div><div class=\"m-btn purple\" data-v-8b1eac0c>天蝎座(10.23-11.21)</div><div class=\"m-btn purple\" data-v-8b1eac0c>165cm</div><div class=\"m-btn purple\" data-v-8b1eac0c>50kg</div><div class=\"m-btn purple\" data-v-8b1eac0c>工作地:北京房山区</div><div class=\"m-btn purple\" data-v-8b1eac0c>月收入:1.2-2万</div><div class=\"m-btn purple\" data-v-8b1eac0c>餐饮管理</div><div class=\"m-btn purple\" data-v-8b1eac0c>大学本科</div></div> <div class=\"pink-btns\" data-v-8b1eac0c><div class=\"m-btn pink\" data-v-8b1eac0c>汉族</div><div class=\"m-btn pink\" data-v-8b1eac0c>籍贯:河南安阳</div><div class=\"m-btn pink\" data-v-8b1eac0c>体型:苗条</div><div class=\"m-btn pink\" data-v-8b1eac0c>不吸烟</div><div class=\"m-btn pink\" data-v-8b1eac0c>不喝酒</div><div class=\"m-btn pink\" data-v-8b1eac0c>租房</div><div class=\"m-btn pink\" data-v-8b1eac0c>已买车</div><div class=\"m-btn pink\" data-v-8b1eac0c>没有小孩</div><div class=\"m-btn pink\" data-v-8b1eac0c>是否想要孩子:视情况而定</div><div class=\"m-btn pink\" data-v-8b1eac0c>何时结婚:两年内</div></div></div> <div class=\"m-title\" data-v-8b1eac0c>兴趣爱好</div> <div class=\"m-content-box m-interest f-cl\" data-v-8b1eac0c><div class=\"item f-fl\" data-v-8b1eac0c><div class=\"question f-fl\" data-v-8b1eac0c>喜欢的一道菜：</div> <div class=\"answer f-fl\" data-v-8b1eac0c>火锅\\n</div></div><div class=\"item f-fl\" data-v-8b1eac0c><div class=\"question f-fl\" data-v-8b1eac0c>欣赏的一个名人：</div> <div class=\"answer f-fl\" data-v-8b1eac0c>蔡健雅</div></div><div class=\"item f-fl\" data-v-8b1eac0c><div class=\"question f-fl\" data-v-8b1eac0c>喜欢的一首歌：</div> <div class=\"answer f-fl\" data-v-8b1eac0c>别那么骄傲</div></div><div class=\"item f-fl\" data-v-8b1eac0c><div class=\"question f-fl\" data-v-8b1eac0c>喜欢的一本书：</div> <div class=\"answer f-fl\" data-v-8b1eac0c>白夜行</div></div><div class=\"item f-fl\" data-v-8b1eac0c><div class=\"question f-fl\" data-v-8b1eac0c>喜欢做的事：</div> <div class=\"answer f-fl\" data-v-8b1eac0c>歌唱</div></div></div> <div class=\"m-title\" data-v-8b1eac0c>择偶条件</div> <div class=\"m-content-box\" data-v-8b1eac0c><div class=\"gray-btns\" data-v-8b1eac0c><div class=\"m-btn\" data-v-8b1eac0c>21-35岁</div><div class=\"m-btn\" data-v-8b1eac0c>工作地:北京房山区</div><div class=\"m-btn\" data-v-8b1eac0c>月薪:2万以上</div><div class=\"m-btn\" data-v-8b1eac0c>大学本科</div><div class=\"m-btn\" data-v-8b1eac0c>未婚</div><div class=\"m-btn\" data-v-8b1eac0c>没有小孩</div><div class=\"m-btn\" data-v-8b1eac0c>是否想要孩子:视情况而定</div></div></div> <div class=\"m-title\" data-v-8b1eac0c>她的动态</div> <div class=\"m-content-box m-news\" data-v-8b1eac0c><p data-v-8b1eac0c>该用户还发布了<span data-v-8b1eac0c>34条</span>动态分享她的生活<br data-v-8b1eac0c>扫描下载珍爱APP查看她的动态</p> <div class=\"app\" data-v-8b1eac0c></div></div></div></div></div> <div class=\"CONTAINER f-fr\" style=\"width:290px;margin:89px 0 0;\"> <div class=\"m-member\" data-v-4a9ca87a><p class=\"title f-cl\" data-v-4a9ca87a>猜你喜欢<span class=\"switch f-fr\" data-v-4a9ca87a>换一组</span></p> <div class=\"ctn\" data-v-4a9ca87a><a target=\"_blank\" class=\"user f-cl\" data-v-4a9ca87a><div class=\"logo f-fl\" style=\"background-image:url(https://photo.zastatic.com/images/photo/26422/105686421/2364212344060265.png?scrop=1&amp;crop=1&amp;cpos=north&amp;w=100&amp;h=100);\" data-v-4a9ca87a></div> <div class=\"info f-fl\" data-v-4a9ca87a><p class=\"name\" data-v-4a9ca87a><span class=\"nickname f-clamp1\" data-v-4a9ca87a>无心</span> <span title=\"珍心会员\" class=\"FLAG zhenxin\" data-v-dcad3040 data-v-4a9ca87a></span></p> <p class=\"attr\" data-v-4a9ca87a>23岁\\xa0\\xa0157cm</p> <p class=\"des\" data-v-4a9ca87a>我相信世间有真爱，我不只是不相信，我会遇到真...</p></div></a><a target=\"_blank\" class=\"user f-cl\" data-v-4a9ca87a><div class=\"logo f-fl\" style=\"background-image:url(https://photo.zastatic.com/images/photo/27272/109087387/1511147028323.jpg?scrop=1&amp;crop=1&amp;cpos=north&amp;w=100&amp;h=100);\" data-v-4a9ca87a></div> <div class=\"info f-fl\" data-v-4a9ca87a><p class=\"name\" data-v-4a9ca87a><span class=\"nickname f-clamp1\" data-v-4a9ca87a>洁洁</span> </p> <p class=\"attr\" data-v-4a9ca87a>24岁\\xa0\\xa0162cm</p> <p class=\"des\" data-v-4a9ca87a>遇到互相爱的人，，。，。。。。。。。，。，，...</p></div></a><a target=\"_blank\" class=\"user f-cl\" data-v-4a9ca87a><div class=\"logo f-fl\" style=\"background-image:url(https://photo.zastatic.com/images/photo/26602/106407491/1521193441674.jpg?scrop=1&amp;crop=1&amp;cpos=north&amp;w=100&amp;h=100);\" data-v-4a9ca87a></div> <div class=\"info f-fl\" data-v-4a9ca87a><p class=\"name\" data-v-4a9ca87a><span class=\"nickname f-clamp1\" data-v-4a9ca87a>小婕</span> </p> <p class=\"attr\" data-v-4a9ca87a>24岁\\xa0\\xa0173cm</p> <p class=\"des\" data-v-4a9ca87a>我正在寻找云南昆明官渡区,年龄在18-31岁...</p></div></a></div></div></div></div></div> <div class=\"m-userInfoFixed\" style=\"display:none;\" data-v-3c42fade><div class=\"CONTAINER primary\" style=\"padding:22px 42px;\" data-v-3c42fade><div class=\"f-cl\" data-v-3c42fade><div class=\"logo f-fl\" style=\"background-image:url(https://photo.zastatic.com/images/photo/456049/1824195258/648406408281983.png?scrop=1&amp;crop=1&amp;cpos=north&amp;w=200&amp;h=200);\" data-v-3c42fade></div> <div class=\"info f-fl\" data-v-3c42fade><div class=\"name\" data-v-3c42fade><span class=\"nickName\" data-v-3c42fade>Colar</span> <span title=\"珍心会员\" class=\"FLAG zhenxin\" style=\"width:20px;height:20px;\" data-v-dcad3040 data-v-3c42fade></span> <span title=\"实名认证\" class=\"FLAG realname\" style=\"width:20px;height:20px;\" data-v-dcad3040 data-v-3c42fade></span> </div> <div class=\"des f-cl\" data-v-3c42fade>北京 | 25岁 | 大学本科 | 未婚 | 165cm | 12001-20000元</div> <div class=\"actions\" data-v-3c42fade><div class=\"item sayHi\" data-v-3c42fade>打招呼</div> <div class=\"item sendMsg\" data-v-3c42fade>发消息</div> <div class=\"item hongliang\" data-v-3c42fade>红娘牵线</div></div></div></div></div></div> <div class=\"CONTAINER f-topIndex\" style=\"width:100%;padding:1px;margin:37px 0 0;background-color:#fff;\"><div class=\"seoFooter\"><p>当前位置：<span><a href=\"http://www.zhenai.com\">珍爱首页</a><span>&gt;</span></span><span><a href=\"http://www.zhenai.com/zhenghun/fangshan1\">房山征婚</a><span>&gt;</span></span><span><a href=\"http://www.zhenai.com/zhenghun/fangshan1/nv\">房山女士征婚</a></span></p> <p class=\"nearbyCity\">周边征婚：<a target=\"_blank\" href=\"http://www.zhenai.com/zhenghun/dongcheng\">东城征婚</a><a target=\"_blank\" href=\"http://www.zhenai.com/zhenghun/xicheng\">西城征婚</a><a target=\"_blank\" href=\"http://www.zhenai.com/zhenghun/chaoyang1\">朝阳征婚</a><a target=\"_blank\" href=\"http://www.zhenai.com/zhenghun/fengtai1\">丰台征婚</a><a target=\"_blank\" href=\"http://www.zhenai.com/zhenghun/shijingshan\">石景山征婚</a><a target=\"_blank\" href=\"http://www.zhenai.com/zhenghun/haidian\">海淀征婚</a><a target=\"_blank\" href=\"http://www.zhenai.com/zhenghun/mentougou\">门头沟征婚</a><a target=\"_blank\" href=\"http://www.zhenai.com/zhenghun/tongzhou\">通州征婚</a><a target=\"_blank\" href=\"http://www.zhenai.com/zhenghun/shunyi\">顺义征婚</a><a target=\"_blank\" href=\"http://www.zhenai.com/zhenghun/changping\">昌平征婚</a><a target=\"_blank\" href=\"http://www.zhenai.com/zhenghun/daxing\">大兴征婚</a><a target=\"_blank\" href=\"http://www.zhenai.com/zhenghun/huairou\">怀柔征婚</a><a target=\"_blank\" href=\"http://www.zhenai.com/zhenghun/pinggu\">平谷征婚</a><a target=\"_blank\" href=\"http://www.zhenai.com/zhenghun/miyun\">密云征婚</a><a target=\"_blank\" href=\"http://www.zhenai.com/zhenghun/yanqing\">延庆征婚</a></p></div> <div class=\"COPYRIGHT\" data-v-f49aba80><div class=\"city\" data-v-f49aba80>城市：\\n<a target=\"_blank\" href=\"http://www.zhenai.com/zhenghun/beijing\" data-v-f49aba80>北京</a> <a target=\"_blank\" href=\"http://www.zhenai.com/zhenghun/shanghai\" data-v-f49aba80>上海</a> <a target=\"_blank\" href=\"http://www.zhenai.com/zhenghun/guangzhou\" data-v-f49aba80>广州</a> <a target=\"_blank\" href=\"http://www.zhenai.com/zhenghun/shenzhen\" data-v-f49aba80>深圳</a> <a target=\"_blank\" href=\"http://www.zhenai.com/zhenghun/chongqing\" data-v-f49aba80>重庆</a> <a target=\"_blank\" href=\"http://www.zhenai.com/zhenghun/hefei\" data-v-f49aba80>合肥</a> <a target=\"_blank\" href=\"http://www.zhenai.com/zhenghun/nanjing\" data-v-f49aba80>南京</a> <a target=\"_blank\" href=\"http://www.zhenai.com/zhenghun/suzhou\" data-v-f49aba80>苏州</a> <a target=\"_blank\" href=\"http://www.zhenai.com/zhenghun/chengdu\" data-v-f49aba80>成都</a> <a target=\"_blank\" href=\"http://www.zhenai.com/zhenghun/wuhan\" data-v-f49aba80>武汉</a> <a target=\"_blank\" href=\"http://www.zhenai.com/zhenghun/foshan\" data-v-f49aba80>佛山</a> <a target=\"_blank\" href=\"http://www.zhenai.com/zhenghun/zhengzhou\" data-v-f49aba80>郑州</a> <a target=\"_blank\" href=\"http://www.zhenai.com/zhenghun/qingdao\" data-v-f49aba80>青岛</a> <a target=\"_blank\" href=\"http://www.zhenai.com/zhenghun/jinan\" data-v-f49aba80>济南</a> <a target=\"_blank\" href=\"http://www.zhenai.com/zhenghun/shenyang\" data-v-f49aba80>沈阳</a> <a target=\"_blank\" href=\"http://www.zhenai.com/zhenghun/tianjin\" data-v-f49aba80>天津</a> <a target=\"_blank\" href=\"http://www.zhenai.com/zhenghun/xian\" data-v-f49aba80>西安</a> <a target=\"_blank\" href=\"http://www.zhenai.com/zhenghun/hangzhou\" data-v-f49aba80>杭州</a> <a target=\"_blank\" href=\"http://www.zhenai.com/zhenghun/guiyang\" data-v-f49aba80>贵阳</a> <a target=\"_blank\" href=\"http://www.zhenai.com/zhenghun/jinhua\" data-v-f49aba80>金华</a> <a target=\"_blank\" href=\"http://www.zhenai.com/zhenghun/shijiazhuang\" data-v-f49aba80>石家庄</a> <a target=\"_blank\" href=\"http://www.zhenai.com/zhenghun/changsha\" data-v-f49aba80>长沙</a> <a target=\"_blank\" href=\"http://www.zhenai.com/zhenghun/wuxi\" data-v-f49aba80>无锡</a> <a target=\"_blank\" href=\"http://www.zhenai.com/zhenghun/xiamen\" data-v-f49aba80>厦门</a> <a target=\"_blank\" href=\"http://www.zhenai.com/zhenghun\" data-v-f49aba80>[更多]</a></div> <div class=\"quick\" data-v-f49aba80><a target=\"_blank\" href=\"https://www.zhenai.com/n/aboutUs\" data-v-f49aba80>关于我们</a>|<a target=\"_blank\" href=\"https://www.zhenai.com/n/aboutUs\" data-v-f49aba80>联系我们</a>|<a target=\"_blank\" href=\"https://www.zhenai.com/n/aboutUs\" data-v-f49aba80>加入我们</a>|<a target=\"_blank\" href=\"https://www.zhenai.com/n/aboutUs\" rel=\"nofollow\" data-v-f49aba80>合作伙伴</a>|\\n<a target=\"_blank\" rel=\"nofollow\" data-v-f49aba80>意见反馈</a>|<a target=\"_blank\" href=\"https://www.zhenai.com/n/safe\" data-v-f49aba80>安全中心</a>|<a href=\"https://www.zhenai.com/n/webMap\" target=\"_blank\" data-v-f49aba80>网站地图</a> |\\n<a href=\"https://www.zhenai.com/n/help/_index\" target=\"_blank\" data-v-f49aba80>帮助中心</a>|<a target=\"_blank\" data-v-f49aba80>珍心会员</a>|<a href=\"http://city.zhenai.com/\" target=\"_blank\" data-v-f49aba80>珍爱相亲</a>|<a target=\"_blank\" href=\"http://china.zhenai.com/\" data-v-f49aba80>情感咨询</a>|<a target=\"_blank\" href=\"http://www.zhenai.com/ask/\" data-v-f49aba80>珍爱问答</a>|<a href=\"https://i.zhenai.com/m/client/intro/agree.html\" target=\"_blank\" data-v-f49aba80>珍爱网服务协议</a>|<a href=\"https://i.zhenai.com/m/portal/register/serverDeal.html\" target=\"_blank\" data-v-f49aba80>个人信息保护政策</a></div> <div class=\"brand\" data-v-f49aba80><p data-v-f49aba80>品牌：14年专业婚恋服务\\xa0\\xa0专业：庞大的资深红娘队伍</p> <p data-v-f49aba80>客服热线：4001-520-520（周一至周日：9:00-21:00）客服信箱：kefu@zhenai.com</p> <p data-v-f49aba80><span data-v-f49aba80>违法和不良信息举报</span>\\xa0\\xa04001-520-520\\xa0\\xa0举报信箱：<a href=\"mailto:vip@zhenai.com\" rel=\"nofollow\" class=\"underlines\" data-v-f49aba80>vip@zhenai.com</a></p> <p data-v-f49aba80>Copyright © 2005-2019 版权所有：深圳市珍爱网信息技术有限公司</p> <p data-v-f49aba80>增值电信业务经营许可证：粤B2-20040382 <a target=\"_blank\" href=\"http://www.miitbeian.gov.cn\" data-v-f49aba80>粤ICP备09157619号-1</a> 乙测资字4410775 <a target=\"_blank\" href=\"http://www.beian.gov.cn/portal/registerSystemInfo?recordcode=44030502000534\" class=\"gongwang\" data-v-f49aba80><img src=\"//i.zhenai.com/pc/portal/user/index/images/gongan.561dac1.png\" alt data-v-f49aba80></a> 粤公网安备 44030502000534号</p></div> <div class=\"out-link\" data-v-f49aba80><a title=\"AAA级信用企业\" href=\"http://www.itrust.org.cn/home/index/itrust_certifi/wm/1761973720.html\" target=\"_blank\" rel=\"nofollow\" data-v-f49aba80><img src=\"//i.zhenai.com/pc/portal/user/index/images/ratenew.59053d5.png\" alt data-v-f49aba80></a> <a title=\"诚信示范网站\" href=\"https://search.szfw.org/cert/l/CX20150630010588010670\" target=\"_blank\" rel=\"nofollow\" data-v-f49aba80><img src=\"//i.zhenai.com/pc/portal/user/index/images/cert.c313c2f.png\" alt data-v-f49aba80></a> <a title=\"违法和不良信息举报中心\" href=\"http://www.12377.cn/\" target=\"_blank\" rel=\"nofollow\" data-v-f49aba80><img src=\"//i.zhenai.com/pc/portal/user/index/images/report.dfda835.jpg\" alt data-v-f49aba80></a> <a title=\"深圳举报中心\" href=\"http://szwljb.gov.cn/\" target=\"_blank\" rel=\"nofollow\" data-v-f49aba80><img src=\"//i.zhenai.com/pc/portal/user/index/images/report.625a5f6.png\" alt data-v-f49aba80></a> <a target=\"_blank\" title=\"深圳网监备案\" href=\"http://szcert.ebs.org.cn/6398bd09-b195-4fd9-a010-e1fea403a766\" rel=\"nofollow\" data-v-f49aba80><img src=\"//i.zhenai.com/pc/portal/user/index/images/licence.d435d16.png\" alt data-v-f49aba80></a> <a title=\"网文证\" href=\"http://sq.ccm.gov.cn:80/ccnt/sczr/service/business/emark/toDetail/7C7C3F8EFF5648A2950931B65DF13B87\" target=\"_blank\" rel=\"nofollow\" data-v-f49aba80><img src=\"//i.zhenai.com/pc/portal/user/index/images/wen_bc81e4f.bc81e4f.png\" alt data-v-f49aba80></a> <a title=\"互联网诚信联盟\" href=\"http://www.itrust.org.cn/sincerity2.php?id=1005\" target=\"_blank\" rel=\"nofollow\" data-v-f49aba80><img src=\"//i.zhenai.com/pc/portal/user/index/images/sincerity.3106269.png\" alt data-v-f49aba80></a></div></div></div> <div class=\"slideIcon\" data-v-8d0834da><ul data-v-8d0834da><li title=\"在线咨询\" class=\"kefu\" data-v-8d0834da></li> <li title=\"手机珍爱\" class=\"qrcode\" data-v-8d0834da></li> <li title=\"收藏本站\" class=\"collect\" data-v-8d0834da></li> <li title=\"意见反馈\" class=\"qa\" data-v-8d0834da></li> <li title=\"返回顶部\" class=\"gotop\" data-v-8d0834da></li></ul> <div class=\"qr\" data-v-8d0834da><div class=\"pic\" data-v-8d0834da><span data-v-8d0834da>扫一扫下载客户端</span></div> <div class=\"arrow\" data-v-8d0834da></div></div> <div class=\"DIALOG suggestDialog\" style=\"z-index:1000;display:none;\" data-v-8d0834da><div class=\"DIALOG-box\" style=\"width:500px;background-color:#fff;\"><div class=\"title\">意见反馈 <span class=\"close\"></span></div> <div class=\"content\"><div data-v-8d0834da><textarea maxlength=\"500\" name=\"suggestion\" placeholder=\"你觉得这个页面有用得不舒服的地方吗？请在这里告诉我们。\" data-v-8d0834da></textarea> <div class=\"send_btn\" data-v-8d0834da><span data-v-8d0834da>500</span>字\\n<button data-v-8d0834da>发 送</button></div></div></div></div></div> <div class=\"DIALOG\" style=\"z-index:1000;display:none;\" data-v-8d0834da><div class=\"DIALOG-box\" style=\"width:542px;background-color:#fff;\"><div class=\"title\">收藏提示 <span class=\"close\"></span></div> <div class=\"content\"><div data-v-8d0834da><div class=\"ui-dialog-body\" data-v-8d0834da><p data-v-8d0834da>对不起，当前浏览器不支持此操作！</p> <p data-v-8d0834da>请使用Ctrl+D收藏珍爱网（Mac用户，请使用Cmd+D）</p></div> <div class=\"BTN\" style=\"width:234px;margin:35px 0 0 115px;\" data-v-8d0834da><div class=\"BTN-box primary\">确定</div></div></div></div></div></div></div></div><script>window.__INITIAL_STATE__={\"objectInfo\":{\"age\":25,\"avatarPhotoID\":309643297,\"avatarPraiseCount\":1,\"avatarPraised\":false,\"avatarURL\":\"https:\\\\u002F\\\\u002Fphoto.zastatic.com\\\\u002Fimages\\\\u002Fphoto\\\\u002F456049\\\\u002F1824195258\\\\u002F648406408281983.png\",\"basicInfo\":[\"未婚\",\"25岁\",\"天蝎座(10.23-11.21)\",\"165cm\",\"50kg\",\"工作地:北京房山区\",\"月收入:1.2-2万\",\"餐饮管理\",\"大学本科\"],\"detailInfo\":[\"汉族\",\"籍贯:河南安阳\",\"体型:苗条\",\"不吸烟\",\"不喝酒\",\"租房\",\"已买车\",\"没有小孩\",\"是否想要孩子:视情况而定\",\"何时结婚:两年内\"],\"educationString\":\"大学本科\",\"emotionStatus\":0,\"gender\":1,\"genderString\":\"女士\",\"hasIntroduce\":true,\"heightString\":\"165cm\",\"hideVerifyModule\":false,\"introduceContent\":\"94年10月天蝎座，在北京三年，现在开了两家店，单身半年多，比较要强，感情里小女生，有点喜欢主动，体贴的男生，比我强一点，让我有崇拜感，有上进心，让我觉得有安全感\",\"introducePraiseCount\":0,\"isActive\":true,\"isFollowing\":false,\"isInBlackList\":false,\"isStar\":false,\"isZhenaiMail\":true,\"lastLoginTimeString\":\"当前在线\",\"liveAudienceCount\":0,\"liveType\":0,\"marriageString\":\"未婚\",\"memberID\":1824195258,\"momentCount\":34,\"nickname\":\"Colar\",\"objectAgeString\":\"21-35岁\",\"objectBodyString\":\"未填写\",\"objectChildrenString\":\"没有小孩\",\"objectEducationString\":\"大学本科\",\"objectHeightString\":\"未填写\",\"objectInfo\":[\"21-35岁\",\"工作地:北京房山区\",\"月薪:2万以上\",\"大学本科\",\"未婚\",\"没有小孩\",\"是否想要孩子:视情况而定\"],\"objectMarriageString\":\"未婚\",\"objectSalaryString\":\"20000元以上\",\"objectWantChildrenString\":\"视情况而定\",\"objectWorkCityString\":\"北京房山区\",\"onlive\":0,\"photoCount\":15,\"photos\":[{\"createTime\":\"2020-01-14 22:39:15\",\"isAvatar\":true,\"photoID\":309643297,\"photoType\":1,\"photoURL\":\"https:\\\\u002F\\\\u002Fphoto.zastatic.com\\\\u002Fimages\\\\u002Fphoto\\\\u002F456049\\\\u002F1824195258\\\\u002F648406408281983.png\",\"praiseCount\":1,\"praised\":false,\"verified\":true},{\"createTime\":\"2019-12-26 00:19:50\",\"isAvatar\":false,\"photoID\":305644687,\"photoType\":1,\"photoURL\":\"https:\\\\u002F\\\\u002Fphoto.zastatic.com\\\\u002Fimages\\\\u002Fphoto\\\\u002F456049\\\\u002F1824195258\\\\u002F11014020104600126.png\",\"praiseCount\":9,\"praised\":false,\"verified\":true},{\"createTime\":\"2019-12-25 23:09:56\",\"isAvatar\":false,\"photoID\":305629439,\"photoType\":1,\"photoURL\":\"https:\\\\u002F\\\\u002Fphoto.zastatic.com\\\\u002Fimages\\\\u002Fphoto\\\\u002F456049\\\\u002F1824195258\\\\u002F629407719203011.png\",\"praiseCount\":8,\"praised\":false,\"verified\":true},{\"createTime\":\"2019-12-28 00:04:08\",\"isAvatar\":false,\"photoID\":306013713,\"photoType\":1,\"photoURL\":\"https:\\\\u002F\\\\u002Fphoto.zastatic.com\\\\u002Fimages\\\\u002Fphoto\\\\u002F456049\\\\u002F1824195258\\\\u002F11159116277910021.png\",\"praiseCount\":6,\"praised\":false,\"verified\":true},{\"createTime\":\"2019-12-19 13:27:53\",\"isAvatar\":false,\"photoID\":304328763,\"photoType\":1,\"photoURL\":\"https:\\\\u002F\\\\u002Fphoto.zastatic.com\\\\u002Fimages\\\\u002Fphoto\\\\u002F456049\\\\u002F1824195258\\\\u002F10456812987469316.png\",\"praiseCount\":6,\"praised\":false,\"verified\":true},{\"createTime\":\"2019-12-25 23:09:57\",\"isAvatar\":false,\"photoID\":305629441,\"photoType\":1,\"photoURL\":\"https:\\\\u002F\\\\u002Fphoto.zastatic.com\\\\u002Fimages\\\\u002Fphoto\\\\u002F456049\\\\u002F1824195258\\\\u002F629407719199276.png\",\"praiseCount\":5,\"praised\":false,\"verified\":true},{\"createTime\":\"2019-12-25 23:09:57\",\"isAvatar\":false,\"photoID\":305629443,\"photoType\":1,\"photoURL\":\"https:\\\\u002F\\\\u002Fphoto.zastatic.com\\\\u002Fimages\\\\u002Fphoto\\\\u002F456049\\\\u002F1824195258\\\\u002F629407719194118.png\",\"praiseCount\":5,\"praised\":false,\"verified\":true},{\"createTime\":\"2019-12-26 00:19:11\",\"isAvatar\":false,\"photoID\":305644579,\"photoType\":1,\"photoURL\":\"https:\\\\u002F\\\\u002Fphoto.zastatic.com\\\\u002Fimages\\\\u002Fphoto\\\\u002F456049\\\\u002F1824195258\\\\u002F10986563147706189.png\",\"praiseCount\":4,\"praised\":false,\"verified\":true},{\"createTime\":\"2019-12-25 23:09:56\",\"isAvatar\":false,\"photoID\":305629437,\"photoType\":1,\"photoURL\":\"https:\\\\u002F\\\\u002Fphoto.zastatic.com\\\\u002Fimages\\\\u002Fphoto\\\\u002F456049\\\\u002F1824195258\\\\u002F629407719201144.png\",\"praiseCount\":4,\"praised\":false,\"verified\":true}],\"praisedIntroduce\":false,\"previewPhotoURL\":\"\",\"pycreditCertify\":false,\"salaryString\":\"12001-20000元\",\"showValidateIDCardFlag\":false,\"totalPhotoCount\":15,\"validateEducation\":false,\"validateFace\":false,\"validateIDCard\":true,\"videoCount\":0,\"videoID\":0,\"workCity\":10102010,\"workCityString\":\"北京\",\"workProvinceCityString\":\"北京房山区\"},\"interest\":[{\"answerContent\":\"默认选项\",\"answerContentDetail\":\"火锅\\\\n\",\"answerContentDetailStatus\":1,\"answerGuideWord\":\"一个菜名，说一道最符合你口味的菜？\",\"answerID\":1061052,\"answerOrder\":0,\"answerRecordID\":1262827,\"answerWriteRule\":0,\"iconURL\":\"https:\\\\u002F\\\\u002Fimages.zastatic.com\\\\u002Fapp\\\\u002Fmarriageview\\\\u002Finterest_1060889_p.png\",\"newInterest\":false,\"praiseCount\":0,\"questionGuideWord\":\"\",\"questionID\":1060889,\"questionName\":\"喜欢的一道菜\",\"questionType\":0,\"verifyStatus\":1},{\"answerContent\":\"默认选项\",\"answerContentDetail\":\"蔡健雅\",\"answerContentDetailStatus\":1,\"answerGuideWord\":\"一个名字，最让你敬佩的名人是谁？\",\"answerID\":1061054,\"answerOrder\":0,\"answerRecordID\":1262828,\"answerWriteRule\":0,\"iconURL\":\"https:\\\\u002F\\\\u002Fimages.zastatic.com\\\\u002Fapp\\\\u002Fmarriageview\\\\u002Finterest_1060890_p.png\",\"newInterest\":false,\"praiseCount\":0,\"questionGuideWord\":\"\",\"questionID\":1060890,\"questionName\":\"欣赏的一个名人\",\"questionType\":0,\"verifyStatus\":1},{\"answerContent\":\"默认选项\",\"answerContentDetail\":\"别那么骄傲\",\"answerContentDetailStatus\":1,\"answerGuideWord\":\"一首歌名，哪首歌最让你感动？\",\"answerID\":1061056,\"answerOrder\":0,\"answerRecordID\":1262829,\"answerWriteRule\":0,\"iconURL\":\"https:\\\\u002F\\\\u002Fimages.zastatic.com\\\\u002Fapp\\\\u002Fmarriageview\\\\u002Finterest_1060891_p.png\",\"newInterest\":false,\"praiseCount\":0,\"questionGuideWord\":\"\",\"questionID\":1060891,\"questionName\":\"喜欢的一首歌\",\"questionType\":0,\"verifyStatus\":1},{\"answerContent\":\"默认选项\",\"answerContentDetail\":\"白夜行\",\"answerContentDetailStatus\":1,\"answerGuideWord\":\"一本书名，让你印象最深的是哪一本？\",\"answerID\":1061058,\"answerOrder\":0,\"answerRecordID\":1262830,\"answerWriteRule\":0,\"iconURL\":\"https:\\\\u002F\\\\u002Fimages.zastatic.com\\\\u002Fapp\\\\u002Fmarriageview\\\\u002Finterest_1060892_p.png\",\"newInterest\":false,\"praiseCount\":0,\"questionGuideWord\":\"\",\"questionID\":1060892,\"questionName\":\"喜欢的一本书\",\"questionType\":0,\"verifyStatus\":1},{\"answerContent\":\"默认选项\",\"answerContentDetail\":\"歌唱\",\"answerContentDetailRecords\":[{\"answerContentDetail\":\"歌唱\",\"status\":1,\"tagId\":1}],\"answerContentDetailStatus\":1,\"answerGuideWord\":\"还有什么是你喜欢的？\",\"answerID\":1061060,\"answerOrder\":0,\"answerRecordID\":1262831,\"answerWriteRule\":0,\"iconURL\":\"https:\\\\u002F\\\\u002Fimages.zastatic.com\\\\u002Fapp\\\\u002Fmarriageview\\\\u002Finterest_1060893_p.png\",\"newInterest\":true,\"praiseCount\":0,\"questionGuideWord\":\"\",\"questionID\":1060893,\"questionName\":\"喜欢做的事\",\"questionType\":0,\"verifyStatus\":1}],\"memberList\":[{\"advantageMsgList\":[],\"advantageNatureTagList\":[],\"avatarURL\":\"https:\\\\u002F\\\\u002Fphoto.zastatic.com\\\\u002Fimages\\\\u002Fphoto\\\\u002F26422\\\\u002F105686421\\\\u002F2364212344060265.png?scrop=1&crop=1&cpos=north&w=100&h=100\",\"emotionStatus\":0,\"flagList\":[{\"status\":2,\"type\":2},{\"status\":2,\"type\":5}],\"gender\":1,\"hasShortVideo\":true,\"height\":157,\"introduceContent\":\"我相信世间有真爱，我不只是不相信，我会遇到真爱\",\"lastLoginTime\":\"2020-01-15 13:40:41\",\"liveType\":0,\"natureTags\":[{\"tagColor\":2,\"tagDesc\":\"性格活泼热情，看起来好像有用不完的活力，在人群中总能调动气氛，点燃大家的热情。\",\"tagFlag\":2,\"tagName\":\"活泼\",\"tagType\":3},{\"tagColor\":2,\"tagDesc\":\"希望以高于他人的成就来证明自己，有野心有抱负，会努力为自己的人生目标奋斗。\",\"tagFlag\":2,\"tagName\":\"不甘人后\",\"tagType\":3}],\"nickname\":\"无心\",\"objectID\":105686421,\"online\":0,\"onlive\":0,\"showStarsFlag\":false,\"trueName\":\"许*\",\"userAge\":23},{\"advantageMsgList\":[],\"advantageNatureTagList\":[],\"avatarURL\":\"https:\\\\u002F\\\\u002Fphoto.zastatic.com\\\\u002Fimages\\\\u002Fphoto\\\\u002F27272\\\\u002F109087387\\\\u002F1511147028323.jpg?scrop=1&crop=1&cpos=north&w=100&h=100\",\"emotionStatus\":0,\"flagList\":[],\"gender\":1,\"hasShortVideo\":true,\"height\":162,\"introduceContent\":\"遇到互相爱的人，，。，。。。。。。。，。，，，，，，，\",\"lastLoginTime\":\"2018-09-18 03:32:38\",\"liveType\":0,\"natureTags\":[],\"nickname\":\"洁洁\",\"objectID\":109087387,\"online\":0,\"onlive\":0,\"showStarsFlag\":false,\"trueName\":\"\",\"userAge\":24},{\"advantageMsgList\":[],\"advantageNatureTagList\":[],\"avatarURL\":\"https:\\\\u002F\\\\u002Fphoto.zastatic.com\\\\u002Fimages\\\\u002Fphoto\\\\u002F26602\\\\u002F106407491\\\\u002F1521193441674.jpg?scrop=1&crop=1&cpos=north&w=100&h=100\",\"emotionStatus\":0,\"flagList\":[],\"gender\":1,\"hasShortVideo\":true,\"height\":173,\"introduceContent\":\"我正在寻找云南昆明官渡区,年龄在18-31岁,月薪在20000元以上的男性\",\"lastLoginTime\":\"2018-03-24 09:57:26\",\"liveType\":0,\"natureTags\":[],\"nickname\":\"小婕\",\"objectID\":106407491,\"online\":0,\"onlive\":0,\"showStarsFlag\":false,\"trueName\":\"郝**\",\"userAge\":24},{\"advantageMsgList\":[],\"advantageNatureTagList\":[],\"avatarURL\":\"https:\\\\u002F\\\\u002Fphoto.zastatic.com\\\\u002Fimages\\\\u002Fphoto\\\\u002F14390\\\\u002F57559191\\\\u002F1506226687714.jpg?scrop=1&crop=1&cpos=north&w=100&h=100\",\"emotionStatus\":0,\"flagList\":[{\"status\":2,\"type\":5}],\"gender\":1,\"hasShortVideo\":false,\"height\":162,\"introduceContent\":\"\\\\n不知道还能不能遇到那个对的人\\\\n一个能让我心跳崇拜的人…\\\\n会是你吗？…\",\"lastLoginTime\":\"2019-10-11 08:22:10\",\"liveType\":0,\"natureTags\":[],\"nickname\":\"芳芳\",\"objectID\":57559191,\"online\":0,\"onlive\":0,\"showStarsFlag\":false,\"trueName\":\"成**\",\"userAge\":23},{\"advantageMsgList\":[],\"advantageNatureTagList\":[],\"avatarURL\":\"https:\\\\u002F\\\\u002Fphoto.zastatic.com\\\\u002Fimages\\\\u002Fphoto\\\\u002F26990\\\\u002F107957784\\\\u002F3221810411566109.png?scrop=1&crop=1&cpos=north&w=100&h=100\",\"emotionStatus\":0,\"flagList\":[{\"status\":2,\"type\":5}],\"gender\":1,\"hasShortVideo\":true,\"height\":168,\"introduceContent\":\"本人资料都是真实的，喜欢我的可以私聊我～\\\\n\\\\n本人实际：23岁。95年生，净身高168。属猪。父母都二婚，我从小比较独立，14岁就一个人出社会打拼，现在跟朋友合伙开了个网红传媒公司，因为工作比较忙，所以没什么时间上线，可以私信我，我有空会去看看你可贵的资料，然后回复的。\\\\n\\\\n【爱情不是终点，陪伴才是归宿】\\\\n对于我来说，陪伴最重要，我是一个特别没有安全感的人，如果你不能陪我，那就不要打扰我。我是那种你放我置之不理，我就会胡思乱想的人。\\\\n\\\\n本人嘴巴比较笨不太会聊天，更不会找话题。你不主动我们就不会有故事。哈哈哈～\\\\n\\\\n\\\\n(假资料的，大男子主义者，勿扰，我觉得不合适的人就不回复你们私信了)\",\"lastLoginTime\":\"2019-04-26 18:04:01\",\"liveType\":0,\"natureTags\":[{\"tagColor\":1,\"tagDesc\":\"希望独立自主的生活，只和对方过着自由自在的小日子，如非必要不会参与对方的家庭聚会。\",\"tagFlag\":1,\"tagName\":\"自主\",\"tagType\":3}],\"nickname\":\"敏儿\",\"objectID\":107957784,\"online\":0,\"onlive\":0,\"showStarsFlag\":false,\"trueName\":\"黄*\",\"userAge\":23},{\"advantageMsgList\":[],\"advantageNatureTagList\":[],\"avatarURL\":\"https:\\\\u002F\\\\u002Fphoto.zastatic.com\\\\u002Fimages\\\\u002Fphoto\\\\u002F26956\\\\u002F107823295\\\\u002F160175398349659484.png?scrop=1&crop=1&cpos=north&w=100&h=100\",\"emotionStatus\":0,\"flagList\":[{\"status\":2,\"type\":5}],\"gender\":1,\"hasShortVideo\":false,\"height\":163,\"introduceContent\":\"本科毕业于国内985\\\\u002F211，所以本科以下学历不好意思，不用发信息了，麻烦看一下资料，具体资料在动态里，谢谢不合适的不回复，不好意思了。\",\"lastLoginTime\":\"2020-01-12 17:25:07\",\"liveType\":0,\"natureTags\":[{\"tagColor\":2,\"tagDesc\":\"善于与人交谈，能轻松的和别人聊天，总是能找到很多共同话题。\",\"tagFlag\":2,\"tagName\":\"健谈\",\"tagType\":3},{\"tagColor\":2,\"tagDesc\":\"性格活泼开朗，待人热情又落落大方，乐于结交朋友，喜欢和朋友一起度过的时光。\",\"tagFlag\":1,\"tagName\":\"外向\",\"tagType\":3}],\"nickname\":\"么么\",\"objectID\":107823295,\"online\":0,\"onlive\":0,\"showStarsFlag\":false,\"trueName\":\"张**\",\"userAge\":25},{\"advantageMsgList\":[],\"advantageNatureTagList\":[],\"avatarURL\":\"https:\\\\u002F\\\\u002Fphoto.zastatic.com\\\\u002Fimages\\\\u002Fphoto\\\\u002F25782\\\\u002F103125447\\\\u002F102077648629499838.jpg?scrop=1&crop=1&cpos=north&w=100&h=100\",\"emotionStatus\":0,\"flagList\":[{\"status\":2,\"type\":5}],\"gender\":1,\"hasShortVideo\":false,\"height\":158,\"introduceContent\":\"希望你爱我\\\\n\\\\n也希望我也敬你\\\\n\\\\n举案齐眉，相敬如宾\",\"lastLoginTime\":\"2018-05-10 23:10:50\",\"liveType\":0,\"natureTags\":[],\"nickname\":\"小瓶盖\",\"objectID\":103125447,\"online\":0,\"onlive\":0,\"showStarsFlag\":false,\"trueName\":\"吴*\",\"userAge\":25},{\"advantageMsgList\":[],\"advantageNatureTagList\":[],\"avatarURL\":\"https:\\\\u002F\\\\u002Fphoto.zastatic.com\\\\u002Fimages\\\\u002Fphoto\\\\u002F26245\\\\u002F104976591\\\\u002F13407323578525091.png?scrop=1&crop=1&cpos=north&w=100&h=100\",\"emotionStatus\":0,\"flagList\":[],\"gender\":1,\"hasShortVideo\":true,\"height\":161,\"introduceContent\":\"脾气还可以，但小脾气有时候还是会爆发，每个女人都会有，但是会适可而止，个人比较独立，好强，属于女强人类型，但是内心还是很想找个成熟，稳重，的男人来呵护我，最好是物质条件相当，首先考虑到男方内心想法，因为上一任就是因为经济落差太大，导致观点不一，分手了，希望避免。我比较喜欢肌肉型男，最好是比较浪漫，暖一些！以结婚为目的，不喜欢未来另一半抽烟。非诚勿扰，不想浪费大家时间，都是成年人，青春耗不起！\",\"lastLoginTime\":\"2019-01-19 15:49:55\",\"liveType\":0,\"natureTags\":[],\"nickname\":\"Simon\",\"objectID\":104976591,\"online\":0,\"onlive\":0,\"showStarsFlag\":false,\"trueName\":\"\",\"userAge\":24},{\"advantageMsgList\":[],\"advantageNatureTagList\":[],\"avatarURL\":\"https:\\\\u002F\\\\u002Fphoto.zastatic.com\\\\u002Fimages\\\\u002Fphoto\\\\u002F25277\\\\u002F101107471\\\\u002F15452149066986770.jpg?scrop=1&crop=1&cpos=north&w=100&h=100\",\"emotionStatus\":0,\"flagList\":[{\"status\":2,\"type\":5}],\"gender\":1,\"hasShortVideo\":true,\"height\":150,\"introduceContent\":\"2020第三天\\\\n           我是一个爱自由的女孩，不喜欢条条框框，不喜欢按部就班。向往农村里的生活，每一天都能呼吸新鲜的，自由的空气。我很大方，很善良，很坦诚，我希望未来的你也一样。\\\\n          因为很小就出来独立生活了，没有享受过家庭的温暖，家族是比较重男轻女的，很羡慕别人温馨的团圆，甚至会害怕，会逃离这样的现场。我希望未来的他会了解我\\\\n         除了广西的不考虑，其他地方的都没有问题，喜欢成熟大叔型，不介意离异带孩子的（我会照顾小孩子并且很喜欢小孩子）但是未来可能不怎么想生娃娃了，如果以后想生也是看经济情况。\\\\n          我除了有点单纯， 还不会赚钱。。。这一点会不会很多人都介意呢？\",\"lastLoginTime\":\"2020-01-14 21:43:25\",\"liveType\":0,\"natureTags\":[{\"tagColor\":1,\"tagDesc\":\"常常会安静的待在自己的世界里，在人群中也化身小透明，不会参与大家的话题。\",\"tagFlag\":2,\"tagName\":\"安静\",\"tagType\":3},{\"tagColor\":2,\"tagDesc\":\"即使是新认识的朋友也能很快熟络起来，一遇见就好像相识了很久一样。\",\"tagFlag\":2,\"tagName\":\"自来熟\",\"tagType\":3}],\"nickname\":\"妹叮\",\"objectID\":101107471,\"online\":0,\"onlive\":0,\"showStarsFlag\":false,\"trueName\":\"林*\",\"userAge\":23},{\"advantageMsgList\":[],\"advantageNatureTagList\":[],\"avatarURL\":\"https:\\\\u002F\\\\u002Fphoto.zastatic.com\\\\u002Fimages\\\\u002Fphoto\\\\u002F26819\\\\u002F107275413\\\\u002F3200923460677520.png?scrop=1&crop=1&cpos=north&w=100&h=100\",\"emotionStatus\":0,\"flagList\":[{\"status\":2,\"type\":5}],\"gender\":1,\"hasShortVideo\":false,\"height\":158,\"introduceContent\":\"我是一个缺乏安全感的人，我生活的家庭并不是很幸福，我不喜欢大男子主义的人，遇到事情更希望能一起商量、彼此扶持。信任很重要！我认真对待交友的态度，彼此合适就在一起，我也是一个果断的人，不适合、不能在一起的绝不拖累对方。感情，我经历一次就够了！结婚在3年后！目前想遇到一个跟我谈着恋爱然后一起走向婚姻的人。我是2017年9月15号注册的珍爱网。\\\\r\\\\n注:我不能接受离异的男人，另一半必须孝顺，有主见，有担当，上进，成熟。\\\\r\\\\n(明知道在这里找个那个合适的人几率十分渺小，但我还是抱着侥幸的心理在寻)\",\"lastLoginTime\":\"2018-09-23 12:45:44\",\"liveType\":0,\"natureTags\":[{\"tagColor\":2,\"tagDesc\":\"有自我批判精神，时常检视自己，心中有向往的生活并愿意为之付出努力。\",\"tagFlag\":1,\"tagName\":\"有追求\",\"tagType\":3}],\"nickname\":\"桔子\",\"objectID\":107275413,\"online\":0,\"onlive\":0,\"showStarsFlag\":false,\"trueName\":\"梁*\",\"userAge\":23},{\"advantageMsgList\":[],\"advantageNatureTagList\":[],\"avatarURL\":\"https:\\\\u002F\\\\u002Fphoto.zastatic.com\\\\u002Fimages\\\\u002Fphoto\\\\u002F27248\\\\u002F108988831\\\\u002F11162549842929844.png?scrop=1&crop=1&cpos=north&w=100&h=100\",\"emotionStatus\":0,\"flagList\":[{\"status\":2,\"type\":5}],\"gender\":1,\"hasShortVideo\":false,\"height\":162,\"introduceContent\":\"本人，萌妹子一枚，偶尔犯傻，比较粘人，想找一个喜欢被我黏的大哥哥，哈哈，喜欢高个子男生，178—185的男生，头像是本人照片，非网图。照骗勿扰，谢谢！\",\"lastLoginTime\":\"2017-12-23 03:44:48\",\"liveType\":0,\"natureTags\":[{\"tagColor\":1,\"tagDesc\":\"和新认识的朋友没那么容易熟起来，需要多一些交流才会慢慢的展露自我。\",\"tagFlag\":2,\"tagName\":\"慢热\",\"tagType\":3},{\"tagColor\":1,\"tagDesc\":\"享受自己的生活，内心安然平静，不会计较太多得失，淡泊以明志，宁静以致远。\",\"tagFlag\":2,\"tagName\":\"悠然自得\",\"tagType\":3}],\"nickname\":\"jasmine\",\"objectID\":108988831,\"online\":0,\"onlive\":0,\"showStarsFlag\":false,\"trueName\":\"何**\",\"userAge\":23},{\"advantageMsgList\":[],\"advantageNatureTagList\":[],\"avatarURL\":\"https:\\\\u002F\\\\u002Fphoto.zastatic.com\\\\u002Fimages\\\\u002Fphoto\\\\u002F26017\\\\u002F104066242\\\\u002F100408541086175194.jpg?scrop=1&crop=1&cpos=north&w=100&h=100\",\"emotionStatus\":0,\"flagList\":[],\"gender\":1,\"hasShortVideo\":true,\"height\":168,\"introduceContent\":\"我正在寻找广东广州越秀区,年龄在18-30岁,月薪在20000元以上的男性\",\"lastLoginTime\":\"2017-05-23 20:42:07\",\"liveType\":0,\"natureTags\":[],\"nickname\":\"佳宝\",\"objectID\":104066242,\"online\":0,\"onlive\":0,\"showStarsFlag\":false,\"trueName\":\"\",\"userAge\":23},{\"advantageMsgList\":[],\"advantageNatureTagList\":[],\"avatarURL\":\"https:\\\\u002F\\\\u002Fphoto.zastatic.com\\\\u002Fimages\\\\u002Fphoto\\\\u002F27346\\\\u002F109382545\\\\u002F115667880187953968.jpg?scrop=1&crop=1&cpos=north&w=100&h=100\",\"emotionStatus\":0,\"flagList\":[{\"status\":2,\"type\":5}],\"gender\":1,\"hasShortVideo\":true,\"height\":155,\"introduceContent\":\"   要么就一辈子， \\\\n                    要么就不要开始。\\'\",\"lastLoginTime\":\"2019-02-06 12:40:48\",\"liveType\":0,\"natureTags\":[],\"nickname\":\"不可碰触的伤\",\"objectID\":109382545,\"online\":0,\"onlive\":0,\"showStarsFlag\":false,\"trueName\":\"何**\",\"userAge\":23},{\"advantageMsgList\":[],\"advantageNatureTagList\":[],\"avatarURL\":\"https:\\\\u002F\\\\u002Fphoto.zastatic.com\\\\u002Fimages\\\\u002Fphoto\\\\u002F27277\\\\u002F109106672\\\\u002F97092422031970587.png?scrop=1&crop=1&cpos=north&w=100&h=100\",\"emotionStatus\":0,\"flagList\":[],\"gender\":1,\"hasShortVideo\":true,\"height\":162,\"introduceContent\":\"我正在寻找广东深圳宝安区,年龄在18-31岁,月薪在8000元以上的男性\",\"lastLoginTime\":\"2017-12-14 20:42:36\",\"liveType\":0,\"natureTags\":[{\"tagColor\":2,\"tagDesc\":\"愿意承担家务，能把家里打理的井井有条，营造出温馨的家庭氛围。\",\"tagFlag\":2,\"tagName\":\"家务达人\",\"tagType\":3},{\"tagColor\":1,\"tagDesc\":\"对生活有豁达而乐观的态度，享受现在拥有的一切，不会太为难自己。\",\"tagFlag\":1,\"tagName\":\"知足\",\"tagType\":3}],\"nickname\":\"送你一个瓜子脸\",\"objectID\":109106672,\"online\":0,\"onlive\":0,\"showStarsFlag\":false,\"trueName\":\"\",\"userAge\":24},{\"advantageMsgList\":[],\"advantageNatureTagList\":[],\"avatarURL\":\"https:\\\\u002F\\\\u002Fphoto.zastatic.com\\\\u002Fimages\\\\u002Fphoto\\\\u002F27176\\\\u002F108703924\\\\u002F95891140217254002.png?scrop=1&crop=1&cpos=north&w=100&h=100\",\"emotionStatus\":0,\"flagList\":[],\"gender\":1,\"hasShortVideo\":true,\"height\":166,\"introduceContent\":\"我正在寻找广东佛山高明区,年龄在18-31岁,月薪在12000元以上的男性\",\"lastLoginTime\":\"2018-02-23 17:45:42\",\"liveType\":0,\"natureTags\":[{\"tagColor\":1,\"tagDesc\":\"对生活有豁达而乐观的态度，享受现在拥有的一切，不会太为难自己。\",\"tagFlag\":1,\"tagName\":\"知足\",\"tagType\":3},{\"tagColor\":1,\"tagDesc\":\"相处中希望能有一些时间留给自己，内心会有所保留，即使亲密无间也要有独立的灵魂。\",\"tagFlag\":1,\"tagName\":\"独立\",\"tagType\":3}],\"nickname\":\"梦小夏宝宝\",\"objectID\":108703924,\"online\":0,\"onlive\":0,\"showStarsFlag\":false,\"trueName\":\"\",\"userAge\":24},{\"advantageMsgList\":[],\"advantageNatureTagList\":[],\"avatarURL\":\"https:\\\\u002F\\\\u002Fphoto.zastatic.com\\\\u002Fimages\\\\u002Fphoto\\\\u002F21233\\\\u002F84931563\\\\u002F4720164746208101.png?scrop=1&crop=1&cpos=north&w=100&h=100\",\"emotionStatus\":0,\"flagList\":[{\"status\":2,\"type\":5}],\"gender\":1,\"hasShortVideo\":true,\"height\":165,\"introduceContent\":\"感情家庭需要双方同为一心、不羡慕别人的爱情，只想经营好自己的幸福\",\"lastLoginTime\":\"2019-10-14 02:46:14\",\"liveType\":0,\"natureTags\":[{\"tagColor\":1,\"tagDesc\":\"常常会安静的待在自己的世界里，在人群中也化身小透明，不会参与大家的话题。\",\"tagFlag\":2,\"tagName\":\"安静\",\"tagType\":3},{\"tagColor\":2,\"tagDesc\":\"爱是灵魂，可以为爱情做出很多改变，只要两个人能相濡以沫，付出再多也愿意。\",\"tagFlag\":2,\"tagName\":\"爱情至上\",\"tagType\":3}],\"nickname\":\"叶子\",\"objectID\":84931563,\"online\":0,\"onlive\":0,\"showStarsFlag\":false,\"trueName\":\"韦**\",\"userAge\":25},{\"advantageMsgList\":[],\"advantageNatureTagList\":[],\"avatarURL\":\"https:\\\\u002F\\\\u002Fphoto.zastatic.com\\\\u002Fimages\\\\u002Fphoto\\\\u002F27543\\\\u002F110169032\\\\u002F101240871765343638.png?scrop=1&crop=1&cpos=north&w=100&h=100\",\"emotionStatus\":0,\"flagList\":[{\"status\":2,\"type\":5}],\"gender\":1,\"hasShortVideo\":true,\"height\":163,\"introduceContent\":\"想要的不仅仅是爱情，还需要一份安全感吧！\\\\n特别喜欢自己做饭吃，拿手菜：红烧肉，清蒸鳕鱼，煲汤，回锅肉，小炒肉，各种家常菜！\\\\n酒量还可以，没事喜欢听会萨克斯，喝杯红酒，我是一个比较有情调的人，喜欢浪漫！\\\\n喜欢温柔体贴，成熟稳重的大叔！\\\\n喜欢旅游，特别喜欢海边！\\\\n我是一个吃货专业户，特别爱吃火锅！不过我不上火，不长痘痘！\\\\n我是颜值控！颜值控，肌肉控！\\\\n我希望陪我走一辈子的那个人是你！\",\"lastLoginTime\":\"2018-04-24 13:04:02\",\"liveType\":0,\"natureTags\":[],\"nickname\":\"社会你庹姐\",\"objectID\":110169032,\"online\":0,\"onlive\":0,\"showStarsFlag\":false,\"trueName\":\"庹*\",\"userAge\":24},{\"advantageMsgList\":[],\"advantageNatureTagList\":[],\"avatarURL\":\"https:\\\\u002F\\\\u002Fphoto.zastatic.com\\\\u002Fimages\\\\u002Fphoto\\\\u002F27437\\\\u002F109745995\\\\u002F99384276859339937.png?scrop=1&crop=1&cpos=north&w=100&h=100\",\"emotionStatus\":0,\"flagList\":[],\"gender\":1,\"hasShortVideo\":true,\"height\":161,\"introduceContent\":\"我正在寻找江苏南京鼓楼区,年龄在18-30岁,月薪在12000元以上的男性\",\"lastLoginTime\":\"2018-01-01 15:34:02\",\"liveType\":0,\"natureTags\":[],\"nickname\":\"熊小倩\",\"objectID\":109745995,\"online\":0,\"onlive\":0,\"showStarsFlag\":false,\"trueName\":\"\",\"userAge\":23},{\"advantageMsgList\":[],\"advantageNatureTagList\":[],\"avatarURL\":\"https:\\\\u002F\\\\u002Fphoto.zastatic.com\\\\u002Fimages\\\\u002Fphoto\\\\u002F27415\\\\u002F109656638\\\\u002F1512993433052.jpg?scrop=1&crop=1&cpos=north&w=100&h=100\",\"emotionStatus\":0,\"flagList\":[],\"gender\":1,\"hasShortVideo\":true,\"height\":179,\"introduceContent\":\"我正在寻找辽宁大连金州区,年龄在18-31岁,月薪在5000元以上的男性\",\"lastLoginTime\":\"2019-12-12 13:27:33\",\"liveType\":0,\"natureTags\":[],\"nickname\":\"安妮儿\",\"objectID\":109656638,\"online\":0,\"onlive\":0,\"showStarsFlag\":false,\"trueName\":\"\",\"userAge\":24},{\"advantageMsgList\":[],\"advantageNatureTagList\":[],\"avatarURL\":\"https:\\\\u002F\\\\u002Fphoto.zastatic.com\\\\u002Fimages\\\\u002Fphoto\\\\u002F26821\\\\u002F107280212\\\\u002F101428457940928970.png?scrop=1&crop=1&cpos=north&w=100&h=100\",\"emotionStatus\":0,\"flagList\":[{\"status\":2,\"type\":5}],\"gender\":1,\"hasShortVideo\":true,\"height\":170,\"introduceContent\":\"本人活泼开朗，有爱心，热爱小动物，孝顺，专一，幽默，善良，大方，独立，逗比一个，爱玩游戏看剧打篮球旅游，游戏玩的特别6，喜欢挑战自己，正在艰辛的创业途中，目标赚到钱和心爱的人一起环游世界。你不离我不弃。\\\\nPs:没有会员看不到看不到看不到信息， 外貌协会及骗子勿扰 \",\"lastLoginTime\":\"2018-08-27 10:59:59\",\"liveType\":0,\"natureTags\":[{\"tagColor\":2,\"tagDesc\":\"爱是灵魂，可以为爱情做出很多改变，只要两个人能相濡以沫，付出再多也愿意。\",\"tagFlag\":2,\"tagName\":\"爱情至上\",\"tagType\":3},{\"tagColor\":2,\"tagDesc\":\"愿意承担家务，能把家里打理的井井有条，营造出温馨的家庭氛围。\",\"tagFlag\":2,\"tagName\":\"家务达人\",\"tagType\":3}],\"nickname\":\"小婷\",\"objectID\":107280212,\"online\":0,\"onlive\":0,\"showStarsFlag\":false,\"trueName\":\"王*\",\"userAge\":24},{\"advantageMsgList\":[],\"advantageNatureTagList\":[],\"avatarURL\":\"https:\\\\u002F\\\\u002Fphoto.zastatic.com\\\\u002Fimages\\\\u002Fphoto\\\\u002F24341\\\\u002F97362354\\\\u002F3828240065764885.jpg?scrop=1&crop=1&cpos=north&w=100&h=100\",\"emotionStatus\":0,\"flagList\":[{\"status\":2,\"type\":5}],\"gender\":1,\"hasShortVideo\":false,\"height\":157,\"introduceContent\":\"如果觉得我们合适，可以看下我的主页\\\\n诚心交友，在一起就是一辈子\\\\n本人属于那种乖乖女的，平时也算宅吧\\\\n除了工作，运动，电影，阅读，蒸煮，\\\\n偶尔也旅游，但是还是希望有你陪走天下就够\\\\n好的事物喜欢去学习，坏的绝不沾！\\\\n需要我的另一半是一位暖男，踏实稳定就好！\\\\n（拒绝异地恋）本人实际年龄21岁！\",\"lastLoginTime\":\"2019-02-11 13:58:01\",\"liveType\":0,\"natureTags\":[{\"tagColor\":2,\"tagDesc\":\"不安于现状，希望凭借自己的努力改变现在的生活，达到理想的生活状态。\",\"tagFlag\":2,\"tagName\":\"上进\",\"tagType\":3}],\"nickname\":\"甜甜266\",\"objectID\":97362354,\"online\":0,\"onlive\":0,\"showStarsFlag\":false,\"trueName\":\"吴**\",\"userAge\":24},{\"advantageMsgList\":[],\"advantageNatureTagList\":[],\"avatarURL\":\"https:\\\\u002F\\\\u002Fphoto.zastatic.com\\\\u002Fimages\\\\u002Fphoto\\\\u002F26494\\\\u002F105972381\\\\u002F1510289249582.png?scrop=1&crop=1&cpos=north&w=100&h=100\",\"emotionStatus\":0,\"flagList\":[{\"status\":2,\"type\":2},{\"status\":2,\"type\":5}],\"gender\":1,\"hasShortVideo\":true,\"height\":161,\"introduceContent\":\"面对生活积极乐观，性格活泼开朗，平常爱笑，对待生活比较有情怀，喜欢看书，喜欢跳舞，喜欢唱歌，还喜欢到处学习，，我还是个小吃货，爱漂亮所以怕胖，一年都在减肥，一年都在吃，希望找到我的那个他，一起赚钱，一起旅游，一起孝敬家人，一起白头到老，对了我还是个可柔可汉子的人，哈哈哈，\",\"lastLoginTime\":\"2020-01-15 10:50:36\",\"liveType\":0,\"natureTags\":[{\"tagColor\":2,\"tagDesc\":\"性格活泼热情，看起来好像有用不完的活力，在人群中总能调动气氛，点燃大家的热情。\",\"tagFlag\":2,\"tagName\":\"活泼\",\"tagType\":3},{\"tagColor\":2,\"tagDesc\":\"喜欢和朋友待在一起，享受和朋友们热热闹闹一起玩儿的时刻。\",\"tagFlag\":2,\"tagName\":\"爱热闹\",\"tagType\":3}],\"nickname\":\"小妖\",\"objectID\":105972381,\"online\":0,\"onlive\":0,\"showStarsFlag\":false,\"trueName\":\"饶**\",\"userAge\":22},{\"advantageMsgList\":[],\"advantageNatureTagList\":[],\"avatarURL\":\"https:\\\\u002F\\\\u002Fphoto.zastatic.com\\\\u002Fimages\\\\u002Fphoto\\\\u002F25435\\\\u002F101736896\\\\u002F12797688545935087.png?scrop=1&crop=1&cpos=north&w=100&h=100\",\"emotionStatus\":0,\"flagList\":[{\"status\":2,\"type\":5}],\"gender\":1,\"hasShortVideo\":true,\"height\":165,\"introduceContent\":\"我不喜欢单方面付出。我比较直性子有什么说什么，喜欢一起运动爬山游泳等...看书、听歌、旅游！我比较宅女、一般没什么事喜欢独处、自己做点菜、学点甜品什么的！然后呢！我喜欢唱歌、喜欢民族乐器、也在学习当中！现在呢在休息当中考驾照，至少十一月份十二月份不会上班喜欢我就找我聊天吧哈哈……\\\\r\\\\n还有我比较自恋喜欢拍照片?\",\"lastLoginTime\":\"2018-03-04 20:45:36\",\"liveType\":0,\"natureTags\":[{\"tagColor\":1,\"tagDesc\":\"遇到问题时有能力自己解决，不依靠别人的帮助，有独立自主的钻研精神。\",\"tagFlag\":2,\"tagName\":\"有能力\",\"tagType\":3},{\"tagColor\":1,\"tagDesc\":\"喜欢自己待着，享受独处的时间，一个人静静的思考，做些自己喜欢的事。\",\"tagFlag\":2,\"tagName\":\"享受独处\",\"tagType\":3}],\"nickname\":\"任心荒芜\",\"objectID\":101736896,\"online\":0,\"onlive\":0,\"showStarsFlag\":false,\"trueName\":\"陆**\",\"userAge\":22},{\"advantageMsgList\":[],\"advantageNatureTagList\":[],\"avatarURL\":\"https:\\\\u002F\\\\u002Fphoto.zastatic.com\\\\u002Fimages\\\\u002Fphoto\\\\u002F23345\\\\u002F93379300\\\\u002F1502810946877.png?scrop=1&crop=1&cpos=north&w=100&h=100\",\"emotionStatus\":0,\"flagList\":[],\"gender\":1,\"hasShortVideo\":false,\"height\":163,\"introduceContent\":\"活泼可爱。非诚勿扰……\",\"lastLoginTime\":\"2018-05-19 22:05:49\",\"liveType\":0,\"natureTags\":[],\"nickname\":\"芳芳\",\"objectID\":93379300,\"online\":0,\"onlive\":0,\"showStarsFlag\":false,\"trueName\":\"\",\"userAge\":24},{\"advantageMsgList\":[],\"advantageNatureTagList\":[],\"avatarURL\":\"https:\\\\u002F\\\\u002Fphoto.zastatic.com\\\\u002Fimages\\\\u002Fphoto\\\\u002F24090\\\\u002F96359267\\\\u002F1489027684565.jpg?scrop=1&crop=1&cpos=north&w=100&h=100\",\"emotionStatus\":0,\"flagList\":[],\"gender\":1,\"hasShortVideo\":false,\"height\":160,\"introduceContent\":\"谢谢你看我的资料。我是山东烟台的女孩，去年刚从北语毕业。就这些。\",\"lastLoginTime\":\"2017-07-04 22:13:55\",\"liveType\":0,\"natureTags\":[],\"nickname\":\"语嫣\",\"objectID\":96359267,\"online\":0,\"onlive\":0,\"showStarsFlag\":false,\"trueName\":\"\",\"userAge\":24},{\"advantageMsgList\":[],\"advantageNatureTagList\":[],\"avatarURL\":\"https:\\\\u002F\\\\u002Fphoto.zastatic.com\\\\u002Fimages\\\\u002Fphoto\\\\u002F461089\\\\u002F1844354701\\\\u002F4487995046417434.png?scrop=1&crop=1&cpos=north&w=100&h=100\",\"emotionStatus\":0,\"flagList\":[{\"status\":2,\"type\":2},{\"status\":2,\"type\":3},{\"status\":2,\"type\":5}],\"gender\":1,\"hasShortVideo\":false,\"height\":162,\"introduceContent\":\"我欣赏经历了大风大浪，却还平静地像只是下雨时踩湿了裤脚一样的人，这样的人性格里有一种荒腔走板的力量，温柔又不匆忙。愿你已满42岁，有宽厚的肩膀，温暖善良。\",\"lastLoginTime\":\"2020-01-15 14:51:00\",\"liveType\":0,\"natureTags\":[{\"tagColor\":1,\"tagDesc\":\"不喜欢生活中有太多的变化，想要安安稳稳的日子，岁月静好就是最美的样子。\",\"tagFlag\":2,\"tagName\":\"安稳\",\"tagType\":3}],\"nickname\":\"小手冰凉儿\",\"objectID\":1844354701,\"online\":0,\"onlive\":0,\"showStarsFlag\":true,\"trueName\":\"韩**\",\"userAge\":24},{\"advantageMsgList\":[],\"advantageNatureTagList\":[],\"avatarURL\":\"https:\\\\u002F\\\\u002Fphoto.zastatic.com\\\\u002Fimages\\\\u002Fphoto\\\\u002F24893\\\\u002F99568126\\\\u002F5797293916570641.png?scrop=1&crop=1&cpos=north&w=100&h=100\",\"emotionStatus\":0,\"flagList\":[{\"status\":2,\"type\":5}],\"gender\":1,\"hasShortVideo\":true,\"height\":156,\"introduceContent\":\"抱歉不是会员看不到信息，如果有个人会为我倾尽所有，为我赴汤蹈火，为我百般疼爱我……嗯，我就嫁给你了\",\"lastLoginTime\":\"2018-10-23 13:56:01\",\"liveType\":0,\"natureTags\":[{\"tagColor\":2,\"tagDesc\":\"愿意承担家务，能把家里打理的井井有条，营造出温馨的家庭氛围。\",\"tagFlag\":2,\"tagName\":\"家务达人\",\"tagType\":3}],\"nickname\":\"Lili\",\"objectID\":99568126,\"online\":0,\"onlive\":0,\"showStarsFlag\":false,\"trueName\":\"李**\",\"userAge\":24},{\"advantageMsgList\":[],\"advantageNatureTagList\":[],\"avatarURL\":\"https:\\\\u002F\\\\u002Fphoto.zastatic.com\\\\u002Fimages\\\\u002Fphoto\\\\u002F27563\\\\u002F110249871\\\\u002F101352276377934202.png?scrop=1&crop=1&cpos=north&w=100&h=100\",\"emotionStatus\":0,\"flagList\":[{\"status\":2,\"type\":5}],\"gender\":1,\"hasShortVideo\":true,\"height\":163,\"introduceContent\":\"一颗柔软的心更有力量 喜欢你看我的眼神 。\",\"lastLoginTime\":\"2018-01-08 11:20:41\",\"liveType\":0,\"natureTags\":[],\"nickname\":\"伊一\",\"objectID\":110249871,\"online\":0,\"onlive\":0,\"showStarsFlag\":false,\"trueName\":\"尹*\",\"userAge\":25},{\"advantageMsgList\":[],\"advantageNatureTagList\":[],\"avatarURL\":\"https:\\\\u002F\\\\u002Fphoto.zastatic.com\\\\u002Fimages\\\\u002Fphoto\\\\u002F27541\\\\u002F110162810\\\\u002F13790384112014536.png?scrop=1&crop=1&cpos=north&w=100&h=100\",\"emotionStatus\":0,\"flagList\":[],\"gender\":1,\"hasShortVideo\":true,\"height\":160,\"introduceContent\":\"我不想做混世大魔王了，只想做你的小公主可以吗？\",\"lastLoginTime\":\"2018-01-04 23:29:52\",\"liveType\":0,\"natureTags\":[],\"nickname\":\"xiaoxiao\",\"objectID\":110162810,\"online\":0,\"onlive\":0,\"showStarsFlag\":false,\"trueName\":\"\",\"userAge\":25},{\"advantageMsgList\":[],\"advantageNatureTagList\":[],\"avatarURL\":\"https:\\\\u002F\\\\u002Fphoto.zastatic.com\\\\u002Fimages\\\\u002Fphoto\\\\u002F27479\\\\u002F109912832\\\\u002F11266031787315002.png?scrop=1&crop=1&cpos=north&w=100&h=100\",\"emotionStatus\":0,\"flagList\":[{\"status\":2,\"type\":5}],\"gender\":1,\"hasShortVideo\":true,\"height\":160,\"introduceContent\":\"我是个活泼的孩子，喜欢成熟稳重有责任感的男孩子。\\\\n\",\"lastLoginTime\":\"2019-01-06 13:10:49\",\"liveType\":0,\"natureTags\":[{\"tagColor\":2,\"tagDesc\":\"对生活的品质有要求，享受即刻可以体验的瞬间，也不会错过生活中的美好事物。\",\"tagFlag\":1,\"tagName\":\"享受当下\",\"tagType\":3}],\"nickname\":\"时光\",\"objectID\":109912832,\"online\":0,\"onlive\":0,\"showStarsFlag\":false,\"trueName\":\"曾**\",\"userAge\":24},{\"advantageMsgList\":[],\"advantageNatureTagList\":[],\"avatarURL\":\"https:\\\\u002F\\\\u002Fphoto.zastatic.com\\\\u002Fimages\\\\u002Fphoto\\\\u002F27456\\\\u002F109821287\\\\u002F99638150127424646.jpg?scrop=1&crop=1&cpos=north&w=100&h=100\",\"emotionStatus\":0,\"flagList\":[],\"gender\":1,\"hasShortVideo\":true,\"height\":168,\"introduceContent\":\"想找一个成熟稳重的，孝顺父母的.合适一起过日子就好了.我平时爱好都是宅在家里.算是一个比较内向的女孩。有时间会去钓鱼，旅游等等有一点还是要说明一下（如果是我喜欢的人和别的女孩走得比较近我可能会吃醋.说白了我就是个醋坛子吧！其实女人都一样不希望自己的另一半太随意）（希望在这里可以找到我的另一半！信任才最重要如果没有了最基本的信任其他都是浮云、也有事情自己问心无愧就好了！为爱可以付出生命但别丢了尊严！\",\"lastLoginTime\":\"2018-04-03 01:58:35\",\"liveType\":0,\"natureTags\":[],\"nickname\":\"让爱情嫁给幸福\",\"objectID\":109821287,\"online\":0,\"onlive\":0,\"showStarsFlag\":false,\"trueName\":\"\",\"userAge\":24},{\"advantageMsgList\":[],\"advantageNatureTagList\":[],\"avatarURL\":\"https:\\\\u002F\\\\u002Fphoto.zastatic.com\\\\u002Fimages\\\\u002Fphoto\\\\u002F27215\\\\u002F108857647\\\\u002F1510244464192.jpg?scrop=1&crop=1&cpos=north&w=100&h=100\",\"emotionStatus\":0,\"flagList\":[{\"status\":2,\"type\":5}],\"gender\":1,\"hasShortVideo\":true,\"height\":169,\"introduceContent\":\"我喜欢成熟稳重的男人。\\\\n我比较独立，喜欢健身，心地善良，孝顺，目前是健身教练，微胖，大圆脸，性格直爽，脑子简单，不喜欢太多套路的人，简单点，相处不累最重要\\\\n这样漫长的一生共度起来才不会太费劲\\\\r\\\\n没有解锁信息，无法回复你\",\"lastLoginTime\":\"2019-03-31 22:09:03\",\"liveType\":0,\"natureTags\":[],\"nickname\":\"爱笑的眼睛\",\"objectID\":108857647,\"online\":0,\"onlive\":0,\"showStarsFlag\":false,\"trueName\":\"张**\",\"userAge\":23},{\"advantageMsgList\":[],\"advantageNatureTagList\":[],\"avatarURL\":\"https:\\\\u002F\\\\u002Fphoto.zastatic.com\\\\u002Fimages\\\\u002Fphoto\\\\u002F25097\\\\u002F100386307\\\\u002F6148917496569586.jpg?scrop=1&crop=1&cpos=north&w=100&h=100\",\"emotionStatus\":0,\"flagList\":[{\"status\":2,\"type\":2},{\"status\":2,\"type\":5}],\"gender\":1,\"hasShortVideo\":true,\"height\":166,\"introduceContent\":\"顺其自然没什么想说的，简单点好，感情经历不要丰富，这个年纪该好好谈个恋爱了，自己做艺术类教育培训的，有几个培训机构，在武汉也有自己的小家，和小车车，性格活泼开朗，你要被我喜欢，你一定会很幸福?\",\"lastLoginTime\":\"2020-01-15 14:49:11\",\"liveType\":0,\"natureTags\":[],\"nickname\":\"顺其自然\",\"objectID\":100386307,\"online\":0,\"onlive\":0,\"showStarsFlag\":false,\"trueName\":\"王**\",\"userAge\":25},{\"advantageMsgList\":[],\"advantageNatureTagList\":[],\"avatarURL\":\"https:\\\\u002F\\\\u002Fphoto.zastatic.com\\\\u002Fimages\\\\u002Fphoto\\\\u002F27522\\\\u002F110084062\\\\u002F100776277983864424.png?scrop=1&crop=1&cpos=north&w=100&h=100\",\"emotionStatus\":0,\"flagList\":[],\"gender\":1,\"hasShortVideo\":true,\"height\":168,\"introduceContent\":\"我正在寻找广东,年龄在18-29岁,月薪在12000元以上的男性\",\"lastLoginTime\":\"2018-03-18 04:08:41\",\"liveType\":0,\"natureTags\":[{\"tagColor\":2,\"tagDesc\":\"渴望亲密无间的爱情，彼此坦诚相待，喜欢两人的生活紧紧牵连在一起的亲密感。\",\"tagFlag\":1,\"tagName\":\"亲密爱人\",\"tagType\":3}],\"nickname\":\"纯洁的白\",\"objectID\":110084062,\"online\":0,\"onlive\":0,\"showStarsFlag\":false,\"trueName\":\"\",\"userAge\":22},{\"advantageMsgList\":[],\"advantageNatureTagList\":[],\"avatarURL\":\"https:\\\\u002F\\\\u002Fphoto.zastatic.com\\\\u002Fimages\\\\u002Fphoto\\\\u002F25325\\\\u002F101297097\\\\u002F12143219581804629.png?scrop=1&crop=1&cpos=north&w=100&h=100\",\"emotionStatus\":0,\"flagList\":[],\"gender\":1,\"hasShortVideo\":true,\"height\":163,\"introduceContent\":\"我是一个吃货，喜欢做饭。我个人比较珍惜眼前所拥有的，可往往抓得太紧，失去太快。\",\"lastLoginTime\":\"2018-05-01 11:06:42\",\"liveType\":0,\"natureTags\":[],\"nickname\":\"熊熊\",\"objectID\":101297097,\"online\":0,\"onlive\":0,\"showStarsFlag\":false,\"trueName\":\"\",\"userAge\":24},{\"advantageMsgList\":[],\"advantageNatureTagList\":[],\"avatarURL\":\"https:\\\\u002F\\\\u002Fphoto.zastatic.com\\\\u002Fimages\\\\u002Fphoto\\\\u002F390440\\\\u002F1561759599\\\\u002F15793619359325403.jpg?scrop=1&crop=1&cpos=north&w=100&h=100\",\"emotionStatus\":0,\"flagList\":[{\"status\":2,\"type\":5}],\"gender\":1,\"hasShortVideo\":true,\"height\":150,\"introduceContent\":\"\\\\n我喜欢阳光，我爱我的小事业，我爱我的家\",\"lastLoginTime\":\"2019-01-28 11:11:37\",\"liveType\":0,\"natureTags\":[{\"tagColor\":2,\"tagDesc\":\"渴望亲密无间的爱情，彼此坦诚相待，喜欢两人的生活紧紧牵连在一起的亲密感。\",\"tagFlag\":1,\"tagName\":\"亲密爱人\",\"tagType\":3}],\"nickname\":\"闪闪惹人爱\",\"objectID\":1561759599,\"online\":0,\"onlive\":0,\"showStarsFlag\":false,\"trueName\":\"江**\",\"userAge\":25},{\"advantageMsgList\":[],\"advantageNatureTagList\":[],\"avatarURL\":\"https:\\\\u002F\\\\u002Fphoto.zastatic.com\\\\u002Fimages\\\\u002Fphoto\\\\u002F458389\\\\u002F1833555501\\\\u002F47703023416685257.jpg?scrop=1&crop=1&cpos=north&w=100&h=100\",\"emotionStatus\":0,\"flagList\":[{\"status\":2,\"type\":5}],\"gender\":1,\"hasShortVideo\":true,\"height\":168,\"introduceContent\":\"我比较喜欢有素质  绅士一点的 年纪太小的就不要打招呼了哈哈\",\"lastLoginTime\":\"2018-06-18 16:31:18\",\"liveType\":0,\"natureTags\":[{\"tagColor\":2,\"tagDesc\":\"有自我批判精神，时常检视自己，心中有向往的生活并愿意为之付出努力。\",\"tagFlag\":1,\"tagName\":\"有追求\",\"tagType\":3}],\"nickname\":\"LiuYuXin\",\"objectID\":1833555501,\"online\":0,\"onlive\":0,\"showStarsFlag\":false,\"trueName\":\"刘**\",\"userAge\":24},{\"advantageMsgList\":[],\"advantageNatureTagList\":[],\"avatarURL\":\"https:\\\\u002F\\\\u002Fphoto.zastatic.com\\\\u002Fimages\\\\u002Fphoto\\\\u002F258468\\\\u002F1033869260\\\\u002F11880954563264304.png?scrop=1&crop=1&cpos=north&w=100&h=100\",\"emotionStatus\":0,\"flagList\":[],\"gender\":1,\"hasShortVideo\":true,\"height\":160,\"introduceContent\":\"我正在寻找广东中山,年龄在18-30岁,月薪在20000元以上的男性\",\"lastLoginTime\":\"2019-09-27 12:49:32\",\"liveType\":0,\"natureTags\":[],\"nickname\":\"Tina\",\"objectID\":1033869260,\"online\":0,\"onlive\":0,\"showStarsFlag\":false,\"trueName\":\"\",\"userAge\":23},{\"advantageMsgList\":[],\"advantageNatureTagList\":[],\"avatarURL\":\"https:\\\\u002F\\\\u002Fphoto.zastatic.com\\\\u002Fimages\\\\u002Fphoto\\\\u002F441639\\\\u002F1766555892\\\\u002F14568870461807561.jpg?scrop=1&crop=1&cpos=north&w=100&h=100\",\"emotionStatus\":0,\"flagList\":[],\"gender\":1,\"hasShortVideo\":true,\"height\":162,\"introduceContent\":\"我正在寻找重庆,年龄在18-31岁,月薪在20000元以上的男性\",\"lastLoginTime\":\"2018-03-10 08:21:52\",\"liveType\":0,\"natureTags\":[],\"nickname\":\"曼曼\",\"objectID\":1766555892,\"online\":0,\"onlive\":0,\"showStarsFlag\":false,\"trueName\":\"\",\"userAge\":24},{\"advantageMsgList\":[],\"advantageNatureTagList\":[],\"avatarURL\":\"https:\\\\u002F\\\\u002Fphoto.zastatic.com\\\\u002Fimages\\\\u002Fphoto\\\\u002F333646\\\\u002F1334583635\\\\u002F9330280332587309.png?scrop=1&crop=1&cpos=north&w=100&h=100\",\"emotionStatus\":0,\"flagList\":[{\"status\":2,\"type\":2},{\"status\":2,\"type\":5}],\"gender\":1,\"hasShortVideo\":true,\"height\":160,\"introduceContent\":\"只要爱情是真的，可以来得晚一些。余生很长，希望有你相伴。\\\\n\",\"lastLoginTime\":\"2020-01-13 01:59:54\",\"liveType\":0,\"natureTags\":[],\"nickname\":\"余生\",\"objectID\":1334583635,\"online\":0,\"onlive\":0,\"showStarsFlag\":false,\"trueName\":\"蒙**\",\"userAge\":24},{\"advantageMsgList\":[],\"advantageNatureTagList\":[],\"avatarURL\":\"https:\\\\u002F\\\\u002Fphoto.zastatic.com\\\\u002Fimages\\\\u002Fphoto\\\\u002F290639\\\\u002F1162552468\\\\u002F31346141721633677.png?scrop=1&crop=1&cpos=north&w=100&h=100\",\"emotionStatus\":0,\"flagList\":[{\"status\":2,\"type\":2}],\"gender\":1,\"hasShortVideo\":false,\"height\":159,\"introduceContent\":\"我正在寻找江苏无锡锡山区,年龄在25-33岁,身高在175-182cm,月薪在20000-50000元的男性\",\"lastLoginTime\":\"2019-06-24 13:59:13\",\"liveType\":0,\"natureTags\":[],\"nickname\":\"冰雪\",\"objectID\":1162552468,\"online\":0,\"onlive\":0,\"showStarsFlag\":false,\"trueName\":\"\",\"userAge\":25},{\"advantageMsgList\":[],\"advantageNatureTagList\":[],\"avatarURL\":\"https:\\\\u002F\\\\u002Fphoto.zastatic.com\\\\u002Fimages\\\\u002Fphoto\\\\u002F27045\\\\u002F108176648\\\\u002F1508077367298.jpg?scrop=1&crop=1&cpos=north&w=100&h=100\",\"emotionStatus\":0,\"flagList\":[{\"status\":2,\"type\":5}],\"gender\":1,\"hasShortVideo\":false,\"height\":165,\"introduceContent\":\"我是慢热型，慢慢咱就熟了，不会说话，不要介意哦（要是想了解的咱们连麦吧，私信会漏掉）\",\"lastLoginTime\":\"2018-10-18 20:27:49\",\"liveType\":0,\"natureTags\":[],\"nickname\":\"全幼儿园最可爱\",\"objectID\":108176648,\"online\":0,\"onlive\":0,\"showStarsFlag\":false,\"trueName\":\"肖**\",\"userAge\":24},{\"advantageMsgList\":[],\"advantageNatureTagList\":[],\"avatarURL\":\"https:\\\\u002F\\\\u002Fphoto.zastatic.com\\\\u002Fimages\\\\u002Fphoto\\\\u002F484736\\\\u002F1938942603\\\\u002F1847437039255429.png?scrop=1&crop=1&cpos=north&w=100&h=100\",\"emotionStatus\":0,\"flagList\":[{\"status\":2,\"type\":5}],\"gender\":1,\"hasShortVideo\":true,\"height\":164,\"introduceContent\":\"人甜心善，服装设计师，有房有车房子在贷款车子全款买下，以结婚为目的谈恋爱\",\"lastLoginTime\":\"2019-03-18 19:00:22\",\"liveType\":0,\"natureTags\":[],\"nickname\":\"ASophina\",\"objectID\":1938942603,\"online\":0,\"onlive\":0,\"showStarsFlag\":false,\"trueName\":\"邓**\",\"userAge\":21}],\"seoInfo\":{\"location\":[{\"currLocation\":false,\"linkContent\":\"珍爱首页\",\"linkURL\":\"http:\\\\u002F\\\\u002Fwww.zhenai.com\"},{\"currLocation\":false,\"linkContent\":\"房山征婚\",\"linkURL\":\"http:\\\\u002F\\\\u002Fwww.zhenai.com\\\\u002Fzhenghun\\\\u002Ffangshan1\"},{\"currLocation\":false,\"linkContent\":\"房山女士征婚\",\"linkURL\":\"http:\\\\u002F\\\\u002Fwww.zhenai.com\\\\u002Fzhenghun\\\\u002Ffangshan1\\\\u002Fnv\"}],\"nearbyCitys\":[{\"linkContent\":\"东城征婚\",\"linkURL\":\"http:\\\\u002F\\\\u002Fwww.zhenai.com\\\\u002Fzhenghun\\\\u002Fdongcheng\"},{\"linkContent\":\"西城征婚\",\"linkURL\":\"http:\\\\u002F\\\\u002Fwww.zhenai.com\\\\u002Fzhenghun\\\\u002Fxicheng\"},{\"linkContent\":\"朝阳征婚\",\"linkURL\":\"http:\\\\u002F\\\\u002Fwww.zhenai.com\\\\u002Fzhenghun\\\\u002Fchaoyang1\"},{\"linkContent\":\"丰台征婚\",\"linkURL\":\"http:\\\\u002F\\\\u002Fwww.zhenai.com\\\\u002Fzhenghun\\\\u002Ffengtai1\"},{\"linkContent\":\"石景山征婚\",\"linkURL\":\"http:\\\\u002F\\\\u002Fwww.zhenai.com\\\\u002Fzhenghun\\\\u002Fshijingshan\"},{\"linkContent\":\"海淀征婚\",\"linkURL\":\"http:\\\\u002F\\\\u002Fwww.zhenai.com\\\\u002Fzhenghun\\\\u002Fhaidian\"},{\"linkContent\":\"门头沟征婚\",\"linkURL\":\"http:\\\\u002F\\\\u002Fwww.zhenai.com\\\\u002Fzhenghun\\\\u002Fmentougou\"},{\"linkContent\":\"通州征婚\",\"linkURL\":\"http:\\\\u002F\\\\u002Fwww.zhenai.com\\\\u002Fzhenghun\\\\u002Ftongzhou\"},{\"linkContent\":\"顺义征婚\",\"linkURL\":\"http:\\\\u002F\\\\u002Fwww.zhenai.com\\\\u002Fzhenghun\\\\u002Fshunyi\"},{\"linkContent\":\"昌平征婚\",\"linkURL\":\"http:\\\\u002F\\\\u002Fwww.zhenai.com\\\\u002Fzhenghun\\\\u002Fchangping\"},{\"linkContent\":\"大兴征婚\",\"linkURL\":\"http:\\\\u002F\\\\u002Fwww.zhenai.com\\\\u002Fzhenghun\\\\u002Fdaxing\"},{\"linkContent\":\"怀柔征婚\",\"linkURL\":\"http:\\\\u002F\\\\u002Fwww.zhenai.com\\\\u002Fzhenghun\\\\u002Fhuairou\"},{\"linkContent\":\"平谷征婚\",\"linkURL\":\"http:\\\\u002F\\\\u002Fwww.zhenai.com\\\\u002Fzhenghun\\\\u002Fpinggu\"},{\"linkContent\":\"密云征婚\",\"linkURL\":\"http:\\\\u002F\\\\u002Fwww.zhenai.com\\\\u002Fzhenghun\\\\u002Fmiyun\"},{\"linkContent\":\"延庆征婚\",\"linkURL\":\"http:\\\\u002F\\\\u002Fwww.zhenai.com\\\\u002Fzhenghun\\\\u002Fyanqing\"}]},\"isSearchEntryFlag\":false};(function(){var s;(s=document.currentScript||document.scripts[document.scripts.length-1]).parentNode.removeChild(s);}());</script><script type=\"text/javascript\" src=\"//i.zhenai.com/common/m/base/js/vue.min.2.5.16.js\"></script><script type=\"text/javascript\" src=\"//i.zhenai.com/common/m/base/js/zhenai-1.8.2.min.js\"></script><script src=\"//i.zhenai.com/common/m/base/js/vue.min.2.5.16.js\"></script><script src=\"//i.zhenai.com/common/m/base/js/vuex.min.3.0.1.js\"></script><script src=\"//i.zhenai.com/common/m/base/js/zhenai-1.5.9.min.js\"></script><script type=\"text/javascript\">window.Z&&Z.tj&&Z.tj.pv&&(Z.setUAPlatform(1),Z.tj.pv({forDc:!0}))</script><script type=\"text/javascript\" src=\"//i.zhenai.com/pc/portal/user/index/js/index.d604546555d743bb1e79.js\"></script></body></html>'"
      ]
     },
     "execution_count": 3,
     "metadata": {},
     "output_type": "execute_result"
    }
   ],
   "source": [
    "a = text.text\n",
    "a"
   ]
  },
  {
   "cell_type": "code",
   "execution_count": 4,
   "metadata": {
    "ExecuteTime": {
     "end_time": "2020-01-15T06:53:37.794525Z",
     "start_time": "2020-01-15T06:53:37.792509Z"
    }
   },
   "outputs": [],
   "source": [
    "import re"
   ]
  },
  {
   "cell_type": "code",
   "execution_count": null,
   "metadata": {},
   "outputs": [],
   "source": []
  },
  {
   "cell_type": "markdown",
   "metadata": {},
   "source": [
    "### 取名称"
   ]
  },
  {
   "cell_type": "code",
   "execution_count": 5,
   "metadata": {
    "ExecuteTime": {
     "end_time": "2020-01-15T06:53:38.233351Z",
     "start_time": "2020-01-15T06:53:38.229341Z"
    }
   },
   "outputs": [],
   "source": [
    "def y1():\n",
    "    try:\n",
    "        x1 = re.findall('''<h1(.*)</h1>''', a)\n",
    "        x1 = x1[0].split('>')[-1]\n",
    "        return x1\n",
    "    except:\n",
    "        return 'flag'"
   ]
  },
  {
   "cell_type": "code",
   "execution_count": 6,
   "metadata": {
    "ExecuteTime": {
     "end_time": "2020-01-15T06:53:38.400882Z",
     "start_time": "2020-01-15T06:53:38.395896Z"
    }
   },
   "outputs": [
    {
     "data": {
      "text/plain": [
       "'Colar'"
      ]
     },
     "execution_count": 6,
     "metadata": {},
     "output_type": "execute_result"
    }
   ],
   "source": [
    "x1 = re.findall('''<h1(.*)</h1>''', a)\n",
    "x1 = x1[0].split('>')[-1]\n",
    "x1"
   ]
  },
  {
   "cell_type": "code",
   "execution_count": 7,
   "metadata": {
    "ExecuteTime": {
     "end_time": "2020-01-15T06:53:38.587383Z",
     "start_time": "2020-01-15T06:53:38.583394Z"
    }
   },
   "outputs": [
    {
     "data": {
      "text/plain": [
       "'Colar'"
      ]
     },
     "execution_count": 7,
     "metadata": {},
     "output_type": "execute_result"
    }
   ],
   "source": [
    "x1 = y1()\n",
    "x1"
   ]
  },
  {
   "cell_type": "code",
   "execution_count": null,
   "metadata": {
    "ExecuteTime": {
     "end_time": "2020-01-15T06:05:50.835091Z",
     "start_time": "2020-01-15T06:05:50.826089Z"
    }
   },
   "outputs": [],
   "source": []
  },
  {
   "cell_type": "code",
   "execution_count": null,
   "metadata": {},
   "outputs": [],
   "source": []
  },
  {
   "cell_type": "code",
   "execution_count": null,
   "metadata": {},
   "outputs": [],
   "source": []
  },
  {
   "cell_type": "markdown",
   "metadata": {},
   "source": [
    "### 取个人信息"
   ]
  },
  {
   "cell_type": "code",
   "execution_count": 8,
   "metadata": {
    "ExecuteTime": {
     "end_time": "2020-01-15T06:53:39.471030Z",
     "start_time": "2020-01-15T06:53:39.468027Z"
    }
   },
   "outputs": [],
   "source": [
    "def y2():\n",
    "    try:\n",
    "        x2 = re.findall('''<div class=\"des f-cl\" (.*?)</div>''', a)\n",
    "        x2 = x2[0].split('>')\n",
    "        x2 = x2[-1]\n",
    "        return x2\n",
    "    except:\n",
    "        return 'flag'"
   ]
  },
  {
   "cell_type": "code",
   "execution_count": 9,
   "metadata": {
    "ExecuteTime": {
     "end_time": "2020-01-15T06:53:39.657553Z",
     "start_time": "2020-01-15T06:53:39.653532Z"
    }
   },
   "outputs": [],
   "source": [
    "x2 = y2()"
   ]
  },
  {
   "cell_type": "code",
   "execution_count": 10,
   "metadata": {
    "ExecuteTime": {
     "end_time": "2020-01-15T06:53:39.848052Z",
     "start_time": "2020-01-15T06:53:39.844023Z"
    }
   },
   "outputs": [
    {
     "data": {
      "text/plain": [
       "'北京 | 25岁 | 大学本科 | 未婚 | 165cm | 12001-20000元'"
      ]
     },
     "execution_count": 10,
     "metadata": {},
     "output_type": "execute_result"
    }
   ],
   "source": [
    "x2"
   ]
  },
  {
   "cell_type": "code",
   "execution_count": null,
   "metadata": {},
   "outputs": [],
   "source": []
  },
  {
   "cell_type": "markdown",
   "metadata": {},
   "source": [
    "### 取内心独白"
   ]
  },
  {
   "cell_type": "code",
   "execution_count": 11,
   "metadata": {
    "ExecuteTime": {
     "end_time": "2020-01-15T06:53:40.366862Z",
     "start_time": "2020-01-15T06:53:40.363872Z"
    }
   },
   "outputs": [],
   "source": [
    "def y3():\n",
    "    try:\n",
    "        x3 = re.findall('''<div class=\"m-content-box m-des\" (.*?)</div>''', a, re.DOTALL)\n",
    "        x3 = x3[0].strip('</span>').split('>')[-1]\n",
    "        return x3\n",
    "    except:\n",
    "        return 'flag'"
   ]
  },
  {
   "cell_type": "code",
   "execution_count": 12,
   "metadata": {
    "ExecuteTime": {
     "end_time": "2020-01-15T06:53:40.550340Z",
     "start_time": "2020-01-15T06:53:40.545355Z"
    }
   },
   "outputs": [
    {
     "data": {
      "text/plain": [
       "'94年10月天蝎座，在北京三年，现在开了两家店，单身半年多，比较要强，感情里小女生，有点喜欢主动，体贴的男生，比我强一点，让我有崇拜感，有上进心，让我觉得有安全感'"
      ]
     },
     "execution_count": 12,
     "metadata": {},
     "output_type": "execute_result"
    }
   ],
   "source": [
    "x3 = y3()\n",
    "x3"
   ]
  },
  {
   "cell_type": "markdown",
   "metadata": {},
   "source": [
    "### 个人详细信息1"
   ]
  },
  {
   "cell_type": "code",
   "execution_count": 13,
   "metadata": {
    "ExecuteTime": {
     "end_time": "2020-01-15T06:53:40.911406Z",
     "start_time": "2020-01-15T06:53:40.907385Z"
    }
   },
   "outputs": [],
   "source": [
    "def y4():\n",
    "    try:\n",
    "        x4 = re.findall('''<div class=\"m-btn purple\" (.*?)</div>''', a)\n",
    "        x4 = [i.split('>')[-1] for i in x4]\n",
    "        x4 = '|'.join(x4)\n",
    "        return x4\n",
    "    except:\n",
    "        return 'flag'"
   ]
  },
  {
   "cell_type": "code",
   "execution_count": 14,
   "metadata": {
    "ExecuteTime": {
     "end_time": "2020-01-15T06:53:41.294183Z",
     "start_time": "2020-01-15T06:53:41.290183Z"
    }
   },
   "outputs": [
    {
     "data": {
      "text/plain": [
       "'未婚|25岁|天蝎座(10.23-11.21)|165cm|50kg|工作地:北京房山区|月收入:1.2-2万|餐饮管理|大学本科'"
      ]
     },
     "execution_count": 14,
     "metadata": {},
     "output_type": "execute_result"
    }
   ],
   "source": [
    "x4 = y4()\n",
    "x4"
   ]
  },
  {
   "cell_type": "code",
   "execution_count": null,
   "metadata": {},
   "outputs": [],
   "source": []
  },
  {
   "cell_type": "markdown",
   "metadata": {},
   "source": [
    "### 个人详细信息2"
   ]
  },
  {
   "cell_type": "code",
   "execution_count": 15,
   "metadata": {
    "ExecuteTime": {
     "end_time": "2020-01-15T06:53:41.879638Z",
     "start_time": "2020-01-15T06:53:41.874644Z"
    }
   },
   "outputs": [],
   "source": [
    "def y5():\n",
    "    try:\n",
    "        x5 = re.findall('''<div class=\"m-btn pink\" (.*?)</div>''', a)\n",
    "        x5 = [i.split('>')[-1] for i in x5]\n",
    "        x5 = '|'.join(x5)\n",
    "        return x5\n",
    "    except:\n",
    "        return 'flag'"
   ]
  },
  {
   "cell_type": "code",
   "execution_count": 16,
   "metadata": {
    "ExecuteTime": {
     "end_time": "2020-01-15T06:53:42.223929Z",
     "start_time": "2020-01-15T06:53:42.218942Z"
    }
   },
   "outputs": [
    {
     "data": {
      "text/plain": [
       "'汉族|籍贯:河南安阳|体型:苗条|不吸烟|不喝酒|租房|已买车|没有小孩|是否想要孩子:视情况而定|何时结婚:两年内'"
      ]
     },
     "execution_count": 16,
     "metadata": {},
     "output_type": "execute_result"
    }
   ],
   "source": [
    "x5 = y5()\n",
    "x5"
   ]
  },
  {
   "cell_type": "markdown",
   "metadata": {},
   "source": [
    "### 提取个人爱好"
   ]
  },
  {
   "cell_type": "code",
   "execution_count": 17,
   "metadata": {
    "ExecuteTime": {
     "end_time": "2020-01-15T06:53:43.166563Z",
     "start_time": "2020-01-15T06:53:43.159610Z"
    }
   },
   "outputs": [],
   "source": [
    "def y6():\n",
    "    try:\n",
    "        s1 = re.findall('''<div class=\"item f-fl\" (.*?)</div>''', a)\n",
    "        s1 = [i.split('>')[-1] for i in s1]\n",
    "        s2 = re.findall('''<div class=\"answer f-fl\" (.*?)</div>''', a, re.DOTALL)\n",
    "        s2 = [i.split('>')[-1] for i in s2]\n",
    "        x6 = [s1[i]+s2[i]  for i in range(len(s1))]\n",
    "        x6 = '|'.join(x6)\n",
    "        return x6\n",
    "    except:\n",
    "        return 'flag'"
   ]
  },
  {
   "cell_type": "code",
   "execution_count": 18,
   "metadata": {
    "ExecuteTime": {
     "end_time": "2020-01-15T06:53:43.347082Z",
     "start_time": "2020-01-15T06:53:43.342096Z"
    }
   },
   "outputs": [
    {
     "data": {
      "text/plain": [
       "'喜欢的一道菜：火锅\\n|欣赏的一个名人：蔡健雅|喜欢的一首歌：别那么骄傲|喜欢的一本书：白夜行|喜欢做的事：歌唱'"
      ]
     },
     "execution_count": 18,
     "metadata": {},
     "output_type": "execute_result"
    }
   ],
   "source": [
    "x6 = y6()\n",
    "x6"
   ]
  },
  {
   "cell_type": "markdown",
   "metadata": {},
   "source": [
    "### 提取择偶标准"
   ]
  },
  {
   "cell_type": "code",
   "execution_count": 19,
   "metadata": {
    "ExecuteTime": {
     "end_time": "2020-01-15T06:53:44.663040Z",
     "start_time": "2020-01-15T06:53:44.658042Z"
    }
   },
   "outputs": [],
   "source": [
    "def y7():\n",
    "    try:\n",
    "        x7 = re.findall('''<div class=\"m-btn\" (.*?)</div>''', a)\n",
    "        x7 = [i.split('>')[-1] for i in x7]\n",
    "        x7 = '|'.join(x7)\n",
    "        return x7\n",
    "    except:\n",
    "        return 'flag'"
   ]
  },
  {
   "cell_type": "code",
   "execution_count": 20,
   "metadata": {
    "ExecuteTime": {
     "end_time": "2020-01-15T06:53:45.477391Z",
     "start_time": "2020-01-15T06:53:45.473425Z"
    }
   },
   "outputs": [
    {
     "data": {
      "text/plain": [
       "'21-35岁|工作地:北京房山区|月薪:2万以上|大学本科|未婚|没有小孩|是否想要孩子:视情况而定'"
      ]
     },
     "execution_count": 20,
     "metadata": {},
     "output_type": "execute_result"
    }
   ],
   "source": [
    "x7 = y7()\n",
    "x7"
   ]
  },
  {
   "cell_type": "markdown",
   "metadata": {
    "ExecuteTime": {
     "end_time": "2020-01-15T05:43:03.728165Z",
     "start_time": "2020-01-15T05:43:03.724146Z"
    }
   },
   "source": [
    "### 将所有数据拼接成大字符串"
   ]
  },
  {
   "cell_type": "code",
   "execution_count": 21,
   "metadata": {
    "ExecuteTime": {
     "end_time": "2020-01-15T06:53:49.877226Z",
     "start_time": "2020-01-15T06:53:49.873212Z"
    }
   },
   "outputs": [],
   "source": [
    "def y8():\n",
    "    try:\n",
    "        s = '--->'.join([x1, x2, x3, x4, x5, x6, x7])\n",
    "        return s\n",
    "    except:\n",
    "        return 'flag'"
   ]
  },
  {
   "cell_type": "code",
   "execution_count": 22,
   "metadata": {
    "ExecuteTime": {
     "end_time": "2020-01-15T06:53:50.779079Z",
     "start_time": "2020-01-15T06:53:50.774092Z"
    }
   },
   "outputs": [
    {
     "data": {
      "text/plain": [
       "'Colar--->北京 | 25岁 | 大学本科 | 未婚 | 165cm | 12001-20000元--->94年10月天蝎座，在北京三年，现在开了两家店，单身半年多，比较要强，感情里小女生，有点喜欢主动，体贴的男生，比我强一点，让我有崇拜感，有上进心，让我觉得有安全感--->未婚|25岁|天蝎座(10.23-11.21)|165cm|50kg|工作地:北京房山区|月收入:1.2-2万|餐饮管理|大学本科--->汉族|籍贯:河南安阳|体型:苗条|不吸烟|不喝酒|租房|已买车|没有小孩|是否想要孩子:视情况而定|何时结婚:两年内--->喜欢的一道菜：火锅\\n|欣赏的一个名人：蔡健雅|喜欢的一首歌：别那么骄傲|喜欢的一本书：白夜行|喜欢做的事：歌唱--->21-35岁|工作地:北京房山区|月薪:2万以上|大学本科|未婚|没有小孩|是否想要孩子:视情况而定'"
      ]
     },
     "execution_count": 22,
     "metadata": {},
     "output_type": "execute_result"
    }
   ],
   "source": [
    "x8 = y8()\n",
    "x8"
   ]
  },
  {
   "cell_type": "code",
   "execution_count": 23,
   "metadata": {
    "ExecuteTime": {
     "end_time": "2020-01-15T06:53:52.868602Z",
     "start_time": "2020-01-15T06:53:52.856632Z"
    }
   },
   "outputs": [
    {
     "data": {
      "text/html": [
       "<div>\n",
       "<style scoped>\n",
       "    .dataframe tbody tr th:only-of-type {\n",
       "        vertical-align: middle;\n",
       "    }\n",
       "\n",
       "    .dataframe tbody tr th {\n",
       "        vertical-align: top;\n",
       "    }\n",
       "\n",
       "    .dataframe thead th {\n",
       "        text-align: right;\n",
       "    }\n",
       "</style>\n",
       "<table border=\"1\" class=\"dataframe\">\n",
       "  <thead>\n",
       "    <tr style=\"text-align: right;\">\n",
       "      <th></th>\n",
       "      <th>0</th>\n",
       "      <th>1</th>\n",
       "      <th>2</th>\n",
       "      <th>3</th>\n",
       "      <th>4</th>\n",
       "      <th>5</th>\n",
       "      <th>6</th>\n",
       "    </tr>\n",
       "  </thead>\n",
       "  <tbody>\n",
       "    <tr>\n",
       "      <td>0</td>\n",
       "      <td>Colar</td>\n",
       "      <td>北京 | 25岁 | 大学本科 | 未婚 | 165cm | 12001-20000元</td>\n",
       "      <td>94年10月天蝎座，在北京三年，现在开了两家店，单身半年多，比较要强，感情里小女生，有点喜欢...</td>\n",
       "      <td>未婚|25岁|天蝎座(10.23-11.21)|165cm|50kg|工作地:北京房山区|月...</td>\n",
       "      <td>汉族|籍贯:河南安阳|体型:苗条|不吸烟|不喝酒|租房|已买车|没有小孩|是否想要孩子:视情...</td>\n",
       "      <td>喜欢的一道菜：火锅\\n|欣赏的一个名人：蔡健雅|喜欢的一首歌：别那么骄傲|喜欢的一本书：白夜...</td>\n",
       "      <td>21-35岁|工作地:北京房山区|月薪:2万以上|大学本科|未婚|没有小孩|是否想要孩子:视...</td>\n",
       "    </tr>\n",
       "  </tbody>\n",
       "</table>\n",
       "</div>"
      ],
      "text/plain": [
       "       0                                            1  \\\n",
       "0  Colar  北京 | 25岁 | 大学本科 | 未婚 | 165cm | 12001-20000元   \n",
       "\n",
       "                                                   2  \\\n",
       "0  94年10月天蝎座，在北京三年，现在开了两家店，单身半年多，比较要强，感情里小女生，有点喜欢...   \n",
       "\n",
       "                                                   3  \\\n",
       "0  未婚|25岁|天蝎座(10.23-11.21)|165cm|50kg|工作地:北京房山区|月...   \n",
       "\n",
       "                                                   4  \\\n",
       "0  汉族|籍贯:河南安阳|体型:苗条|不吸烟|不喝酒|租房|已买车|没有小孩|是否想要孩子:视情...   \n",
       "\n",
       "                                                   5  \\\n",
       "0  喜欢的一道菜：火锅\\n|欣赏的一个名人：蔡健雅|喜欢的一首歌：别那么骄傲|喜欢的一本书：白夜...   \n",
       "\n",
       "                                                   6  \n",
       "0  21-35岁|工作地:北京房山区|月薪:2万以上|大学本科|未婚|没有小孩|是否想要孩子:视...  "
      ]
     },
     "execution_count": 23,
     "metadata": {},
     "output_type": "execute_result"
    }
   ],
   "source": [
    "pd.Series(x8).str.split('--->', expand=True)"
   ]
  },
  {
   "cell_type": "code",
   "execution_count": null,
   "metadata": {},
   "outputs": [],
   "source": []
  },
  {
   "cell_type": "code",
   "execution_count": null,
   "metadata": {},
   "outputs": [],
   "source": []
  },
  {
   "cell_type": "markdown",
   "metadata": {},
   "source": [
    "### 提取所有人的数据"
   ]
  },
  {
   "cell_type": "markdown",
   "metadata": {},
   "source": [
    "#### 导入所有链接"
   ]
  },
  {
   "cell_type": "code",
   "execution_count": 24,
   "metadata": {
    "ExecuteTime": {
     "end_time": "2020-01-15T06:53:56.380957Z",
     "start_time": "2020-01-15T06:53:56.219369Z"
    }
   },
   "outputs": [
    {
     "data": {
      "text/plain": [
       "0       http://album.zhenai.com/u/1458639718\n",
       "1       http://album.zhenai.com/u/1949155807\n",
       "2       http://album.zhenai.com/u/1147272608\n",
       "3       http://album.zhenai.com/u/1896588144\n",
       "4         http://album.zhenai.com/u/86800064\n",
       "                        ...                 \n",
       "4371    http://album.zhenai.com/u/1428356951\n",
       "4372    http://album.zhenai.com/u/1955226150\n",
       "4373    http://album.zhenai.com/u/1514350948\n",
       "4374    http://album.zhenai.com/u/1498042748\n",
       "4375    http://album.zhenai.com/u/1074117747\n",
       "Name: 个人资料链接, Length: 4376, dtype: object"
      ]
     },
     "execution_count": 24,
     "metadata": {},
     "output_type": "execute_result"
    }
   ],
   "source": [
    "df = pd.read_excel(r\"C:\\Users\\EDZ\\Desktop\\案列\\珍爱网各城市小姐姐分析\\珍爱网-小姐姐-个人资料链接.xlsx\")\n",
    "df.个人资料链接"
   ]
  },
  {
   "cell_type": "code",
   "execution_count": 25,
   "metadata": {
    "ExecuteTime": {
     "end_time": "2020-01-15T06:53:58.326772Z",
     "start_time": "2020-01-15T06:53:58.322783Z"
    }
   },
   "outputs": [],
   "source": [
    "data0 = pd.DataFrame()"
   ]
  },
  {
   "cell_type": "code",
   "execution_count": 26,
   "metadata": {
    "ExecuteTime": {
     "end_time": "2020-01-15T07:16:16.499468Z",
     "start_time": "2020-01-15T06:54:01.736764Z"
    }
   },
   "outputs": [],
   "source": [
    "for i in df.个人资料链接:\n",
    "    text= requests.request('GET', i)\n",
    "    a = text.text\n",
    "    \n",
    "    x1 = y1()\n",
    "   \n",
    "    x2 = y2()\n",
    "    \n",
    "    x3 = y3()\n",
    "     \n",
    "    x4 = y4()\n",
    "    \n",
    "    x5 = y5()\n",
    "    \n",
    "    x6 = y6()\n",
    "    \n",
    "    x7 = y7()\n",
    "    \n",
    "    x8 = y8()\n",
    "\n",
    "    try:\n",
    "        data = pd.Series(x8).str.split('--->', expand=True)\n",
    "        data0 = data0.append(data, ignore_index=True)\n",
    "        data0\n",
    "    except:\n",
    "        continue    "
   ]
  },
  {
   "cell_type": "code",
   "execution_count": 27,
   "metadata": {
    "ExecuteTime": {
     "end_time": "2020-01-15T07:16:16.513237Z",
     "start_time": "2020-01-15T07:16:16.501269Z"
    }
   },
   "outputs": [
    {
     "data": {
      "text/html": [
       "<div>\n",
       "<style scoped>\n",
       "    .dataframe tbody tr th:only-of-type {\n",
       "        vertical-align: middle;\n",
       "    }\n",
       "\n",
       "    .dataframe tbody tr th {\n",
       "        vertical-align: top;\n",
       "    }\n",
       "\n",
       "    .dataframe thead th {\n",
       "        text-align: right;\n",
       "    }\n",
       "</style>\n",
       "<table border=\"1\" class=\"dataframe\">\n",
       "  <thead>\n",
       "    <tr style=\"text-align: right;\">\n",
       "      <th></th>\n",
       "      <th>0</th>\n",
       "      <th>1</th>\n",
       "      <th>2</th>\n",
       "      <th>3</th>\n",
       "      <th>4</th>\n",
       "      <th>5</th>\n",
       "      <th>6</th>\n",
       "    </tr>\n",
       "  </thead>\n",
       "  <tbody>\n",
       "    <tr>\n",
       "      <td>0</td>\n",
       "      <td>玉水福兰</td>\n",
       "      <td>北京 | 33岁 | 中专 | 离异 | 165cm | 3000元以下</td>\n",
       "      <td>88年属龙的，摩羯座，寻找有眼缘的聊得来的他共度余生</td>\n",
       "      <td>离异|33岁|魔羯座(12.22-01.19)|165cm|52kg|工作地:北京朝阳区|月...</td>\n",
       "      <td>汉族|籍贯:吉林通化|体型:富线条美|不吸烟|不喝酒|租房|未买车|有孩子且住在一起|是否想...</td>\n",
       "      <td>喜欢的一道菜：土豆丝|欣赏的一个名人：特斯拉|喜欢做的事：跳拉丁舞|喜欢的一首歌：未填写|喜...</td>\n",
       "      <td>33-40岁|175-195cm|不要吸烟</td>\n",
       "    </tr>\n",
       "    <tr>\n",
       "      <td>1</td>\n",
       "      <td>找爱的玫瑰</td>\n",
       "      <td>北京 | 47岁 | 高中及以下 | 离异 | 158cm | 8001-12000元</td>\n",
       "      <td>生活规律，按时睡觉，就是爱美，出的厅堂下得厨房！喜欢厨艺，喜欢跳东方舞！</td>\n",
       "      <td>离异|47岁|魔羯座(12.22-01.19)|158cm|55kg|工作地:北京海淀区|月...</td>\n",
       "      <td>汉族|籍贯:河北张家口|体型:富线条美|不吸烟|不喝酒|和家人同住|已买车|有孩子但不在身边...</td>\n",
       "      <td>喜欢的一道菜：酸菜牛肉汤|欣赏的一个名人：马云|喜欢的一首歌：甜蜜蜜|喜欢的一本书：水浒传|...</td>\n",
       "      <td>45-54岁|170-188cm|月薪:1.2万以上|大学本科|不要吸烟|是否想要孩子:以后...</td>\n",
       "    </tr>\n",
       "    <tr>\n",
       "      <td>2</td>\n",
       "      <td>芯儿</td>\n",
       "      <td>北京 | 36岁 | 大学本科 | 未婚 | 160cm | 5001-8000元</td>\n",
       "      <td>我吃素 看不得杀生 荤腥上桌了 这点很重要 希望能找到吃素的另一半 ?</td>\n",
       "      <td>未婚|36岁|天蝎座(10.23-11.21)|160cm|45kg|工作地:北京朝阳区|月...</td>\n",
       "      <td>汉族|籍贯:河北保定|体型:苗条|不吸烟|稍微喝一点酒|租房|未买车|没有小孩|是否想要孩子...</td>\n",
       "      <td>喜欢的一道菜：素什锦 小时候的味道 满满的回忆|欣赏的一个名人：太多啦 赫本吧 老年的她大爱...</td>\n",
       "      <td>31-45岁|工作地:北京朝阳区|月薪:8千以上|未婚</td>\n",
       "    </tr>\n",
       "    <tr>\n",
       "      <td>3</td>\n",
       "      <td>沁心夜雨</td>\n",
       "      <td>北京 | 49岁 | 高中及以下 | 离异 | 168cm | 5001-8000元</td>\n",
       "      <td>我静静的等待那个属于我和我共度余生的你。</td>\n",
       "      <td>离异|49岁|魔羯座(12.22-01.19)|168cm|58kg|工作地:北京朝阳区|月...</td>\n",
       "      <td>汉族|籍贯:河北保定|体型:苗条|不吸烟|不喝酒|已购房|未买车|有孩子且住在一起|何时结婚...</td>\n",
       "      <td>喜欢的一道菜： 粉丝娃娃菜|喜欢的一首歌：雨花石|喜欢做的事：游泳爬山|欣赏的一个名人：未填...</td>\n",
       "      <td>46-53岁|170-180cm|工作地:北京朝阳区|月薪:8千以上|离异|体型:运动员型|...</td>\n",
       "    </tr>\n",
       "    <tr>\n",
       "      <td>4</td>\n",
       "      <td>冰心</td>\n",
       "      <td>北京 | 48岁 | 高中及以下 | 离异 | 160cm | 3001-5000元</td>\n",
       "      <td>我的性格温和 是一个有耐心和爱心的女人</td>\n",
       "      <td>离异|48岁|射手座(11.22-12.21)|160cm|工作地:北京石景山区|月收入:3...</td>\n",
       "      <td>汉族|籍贯:黑龙江牡丹江|不吸烟|不喝酒|和家人同住|未买车|有孩子但不在身边|是否想要孩子...</td>\n",
       "      <td>喜欢的一道菜：未填写|欣赏的一个名人：未填写|喜欢的一首歌：未填写|喜欢的一本书：未填写|喜...</td>\n",
       "      <td>39-54岁|月薪:5千以上</td>\n",
       "    </tr>\n",
       "    <tr>\n",
       "      <td>...</td>\n",
       "      <td>...</td>\n",
       "      <td>...</td>\n",
       "      <td>...</td>\n",
       "      <td>...</td>\n",
       "      <td>...</td>\n",
       "      <td>...</td>\n",
       "      <td>...</td>\n",
       "    </tr>\n",
       "    <tr>\n",
       "      <td>4371</td>\n",
       "      <td>Miya</td>\n",
       "      <td>珠海 | 35岁 | 高中及以下 | 离异 | 156cm | 12001-20000元</td>\n",
       "      <td>不以善小而不为，不以恶小而为之。清清楚楚做人，明白自己的底线。</td>\n",
       "      <td>离异|35岁|魔羯座(12.22-01.19)|156cm|47kg|工作地:珠海香洲区|月...</td>\n",
       "      <td>汉族|籍贯:重庆|体型:一般|稍微抽一点烟|稍微喝一点酒|租房|未买车|有孩子但不在身边|是...</td>\n",
       "      <td>喜欢的一道菜：土匪猪肝|欣赏的一个名人：李清照|喜欢的一首歌：蓝雨|喜欢的一本书：小李飞刀|...</td>\n",
       "      <td>40-47岁|170-178cm|工作地:广东珠海|月薪:2万以上|体型:一般|不要喝酒|有...</td>\n",
       "    </tr>\n",
       "    <tr>\n",
       "      <td>4372</td>\n",
       "      <td>薰薰</td>\n",
       "      <td>珠海 | 36岁 | 高中及以下 | 离异 | 166cm | 12001-20000元</td>\n",
       "      <td>我是澳門人。地區不能選。居住在澳門。不在珠海。尋找真心之人。非城勿擾。謝謝</td>\n",
       "      <td>离异|36岁|魔羯座(12.22-01.19)|166cm|工作地:珠海香洲区|月收入:1....</td>\n",
       "      <td>不吸烟|没有小孩|是否想要孩子:以后再告诉你</td>\n",
       "      <td>喜欢的一道菜：未填写|欣赏的一个名人：未填写|喜欢的一首歌：未填写|喜欢的一本书：未填写|喜...</td>\n",
       "      <td>31-45岁|172-182cm|月薪:2万以上</td>\n",
       "    </tr>\n",
       "    <tr>\n",
       "      <td>4373</td>\n",
       "      <td>淡然</td>\n",
       "      <td>珠海 | 35岁 | 中专 | 未婚 | 160cm | 20001-50000元</td>\n",
       "      <td>不用多好，有人懂就好...\\n舒適自然坦承是最無壓力的相處模式...</td>\n",
       "      <td>未婚|35岁|天秤座(09.23-10.22)|160cm|48kg|工作地:珠海香洲区|月...</td>\n",
       "      <td>籍贯:广东珠海|体型:瘦长|不吸烟|社交场合会喝酒|已购房|已买车|是否想要孩子:以后再告诉你</td>\n",
       "      <td>喜欢的一道菜：醬蟹|喜欢的一首歌：我的夢|喜欢做的事：瑜珈|欣赏的一个名人：未填写|喜欢的一...</td>\n",
       "      <td>33-43岁|170-180cm|工作地:广东珠海香洲区|未婚</td>\n",
       "    </tr>\n",
       "    <tr>\n",
       "      <td>4374</td>\n",
       "      <td>云宝贝</td>\n",
       "      <td>珠海 | 28岁 | 大学本科 | 离异 | 163cm | 5001-8000元</td>\n",
       "      <td>想找我一个能让着我，宠着我的他~余生太长，无法将就！</td>\n",
       "      <td>离异|28岁|天秤座(09.23-10.22)|163cm|53kg|工作地:珠海香洲区|月...</td>\n",
       "      <td>汉族|籍贯:广东梅州|体型:一般|不吸烟|稍微喝一点酒|住在单位宿舍|未买车|没有小孩|是否...</td>\n",
       "      <td>欣赏的一个名人：喜欢beyond乐队|喜欢的一首歌：喜欢老歌~张学友，谭咏麟，陈奕迅这些|喜...</td>\n",
       "      <td>29-35岁|170-185cm|工作地:广东珠海|月薪:1.2万以上|大学本科|不要喝酒|...</td>\n",
       "    </tr>\n",
       "    <tr>\n",
       "      <td>4375</td>\n",
       "      <td>Mask</td>\n",
       "      <td>珠海 | 54岁 | 大专 | 未婚 | 165cm | 20001-50000元</td>\n",
       "      <td>时光请慢点走，请善待我爱及爱我的人?? 这一年，又要过去了，感恩时光；谢谢自己</td>\n",
       "      <td>未婚|54岁|魔羯座(12.22-01.19)|165cm|52kg|工作地:珠海香洲区|月...</td>\n",
       "      <td>籍贯:北京|体型:保密|稍微喝一点酒|已购房|已买车|没有小孩|是否想要孩子:不想要孩子</td>\n",
       "      <td>喜欢的一道菜：台灣滷肉飯|欣赏的一个名人：陳文茜|喜欢做的事：高尔夫球|喜欢的一本书：未填写...</td>\n",
       "      <td>49-63岁|工作地:广东珠海香洲区|月薪:5万以上|未婚</td>\n",
       "    </tr>\n",
       "  </tbody>\n",
       "</table>\n",
       "<p>4376 rows × 7 columns</p>\n",
       "</div>"
      ],
      "text/plain": [
       "          0                                             1  \\\n",
       "0      玉水福兰          北京 | 33岁 | 中专 | 离异 | 165cm | 3000元以下   \n",
       "1     找爱的玫瑰   北京 | 47岁 | 高中及以下 | 离异 | 158cm | 8001-12000元   \n",
       "2        芯儿     北京 | 36岁 | 大学本科 | 未婚 | 160cm | 5001-8000元   \n",
       "3      沁心夜雨    北京 | 49岁 | 高中及以下 | 离异 | 168cm | 5001-8000元   \n",
       "4        冰心    北京 | 48岁 | 高中及以下 | 离异 | 160cm | 3001-5000元   \n",
       "...     ...                                           ...   \n",
       "4371   Miya  珠海 | 35岁 | 高中及以下 | 离异 | 156cm | 12001-20000元   \n",
       "4372     薰薰  珠海 | 36岁 | 高中及以下 | 离异 | 166cm | 12001-20000元   \n",
       "4373     淡然     珠海 | 35岁 | 中专 | 未婚 | 160cm | 20001-50000元   \n",
       "4374    云宝贝     珠海 | 28岁 | 大学本科 | 离异 | 163cm | 5001-8000元   \n",
       "4375   Mask     珠海 | 54岁 | 大专 | 未婚 | 165cm | 20001-50000元   \n",
       "\n",
       "                                            2  \\\n",
       "0                  88年属龙的，摩羯座，寻找有眼缘的聊得来的他共度余生   \n",
       "1        生活规律，按时睡觉，就是爱美，出的厅堂下得厨房！喜欢厨艺，喜欢跳东方舞！   \n",
       "2         我吃素 看不得杀生 荤腥上桌了 这点很重要 希望能找到吃素的另一半 ?   \n",
       "3                        我静静的等待那个属于我和我共度余生的你。   \n",
       "4                         我的性格温和 是一个有耐心和爱心的女人   \n",
       "...                                       ...   \n",
       "4371          不以善小而不为，不以恶小而为之。清清楚楚做人，明白自己的底线。   \n",
       "4372    我是澳門人。地區不能選。居住在澳門。不在珠海。尋找真心之人。非城勿擾。謝謝   \n",
       "4373       不用多好，有人懂就好...\\n舒適自然坦承是最無壓力的相處模式...   \n",
       "4374               想找我一个能让着我，宠着我的他~余生太长，无法将就！   \n",
       "4375  时光请慢点走，请善待我爱及爱我的人?? 这一年，又要过去了，感恩时光；谢谢自己   \n",
       "\n",
       "                                                      3  \\\n",
       "0     离异|33岁|魔羯座(12.22-01.19)|165cm|52kg|工作地:北京朝阳区|月...   \n",
       "1     离异|47岁|魔羯座(12.22-01.19)|158cm|55kg|工作地:北京海淀区|月...   \n",
       "2     未婚|36岁|天蝎座(10.23-11.21)|160cm|45kg|工作地:北京朝阳区|月...   \n",
       "3     离异|49岁|魔羯座(12.22-01.19)|168cm|58kg|工作地:北京朝阳区|月...   \n",
       "4     离异|48岁|射手座(11.22-12.21)|160cm|工作地:北京石景山区|月收入:3...   \n",
       "...                                                 ...   \n",
       "4371  离异|35岁|魔羯座(12.22-01.19)|156cm|47kg|工作地:珠海香洲区|月...   \n",
       "4372  离异|36岁|魔羯座(12.22-01.19)|166cm|工作地:珠海香洲区|月收入:1....   \n",
       "4373  未婚|35岁|天秤座(09.23-10.22)|160cm|48kg|工作地:珠海香洲区|月...   \n",
       "4374  离异|28岁|天秤座(09.23-10.22)|163cm|53kg|工作地:珠海香洲区|月...   \n",
       "4375  未婚|54岁|魔羯座(12.22-01.19)|165cm|52kg|工作地:珠海香洲区|月...   \n",
       "\n",
       "                                                      4  \\\n",
       "0     汉族|籍贯:吉林通化|体型:富线条美|不吸烟|不喝酒|租房|未买车|有孩子且住在一起|是否想...   \n",
       "1     汉族|籍贯:河北张家口|体型:富线条美|不吸烟|不喝酒|和家人同住|已买车|有孩子但不在身边...   \n",
       "2     汉族|籍贯:河北保定|体型:苗条|不吸烟|稍微喝一点酒|租房|未买车|没有小孩|是否想要孩子...   \n",
       "3     汉族|籍贯:河北保定|体型:苗条|不吸烟|不喝酒|已购房|未买车|有孩子且住在一起|何时结婚...   \n",
       "4     汉族|籍贯:黑龙江牡丹江|不吸烟|不喝酒|和家人同住|未买车|有孩子但不在身边|是否想要孩子...   \n",
       "...                                                 ...   \n",
       "4371  汉族|籍贯:重庆|体型:一般|稍微抽一点烟|稍微喝一点酒|租房|未买车|有孩子但不在身边|是...   \n",
       "4372                             不吸烟|没有小孩|是否想要孩子:以后再告诉你   \n",
       "4373    籍贯:广东珠海|体型:瘦长|不吸烟|社交场合会喝酒|已购房|已买车|是否想要孩子:以后再告诉你   \n",
       "4374  汉族|籍贯:广东梅州|体型:一般|不吸烟|稍微喝一点酒|住在单位宿舍|未买车|没有小孩|是否...   \n",
       "4375       籍贯:北京|体型:保密|稍微喝一点酒|已购房|已买车|没有小孩|是否想要孩子:不想要孩子   \n",
       "\n",
       "                                                      5  \\\n",
       "0     喜欢的一道菜：土豆丝|欣赏的一个名人：特斯拉|喜欢做的事：跳拉丁舞|喜欢的一首歌：未填写|喜...   \n",
       "1     喜欢的一道菜：酸菜牛肉汤|欣赏的一个名人：马云|喜欢的一首歌：甜蜜蜜|喜欢的一本书：水浒传|...   \n",
       "2     喜欢的一道菜：素什锦 小时候的味道 满满的回忆|欣赏的一个名人：太多啦 赫本吧 老年的她大爱...   \n",
       "3     喜欢的一道菜： 粉丝娃娃菜|喜欢的一首歌：雨花石|喜欢做的事：游泳爬山|欣赏的一个名人：未填...   \n",
       "4     喜欢的一道菜：未填写|欣赏的一个名人：未填写|喜欢的一首歌：未填写|喜欢的一本书：未填写|喜...   \n",
       "...                                                 ...   \n",
       "4371  喜欢的一道菜：土匪猪肝|欣赏的一个名人：李清照|喜欢的一首歌：蓝雨|喜欢的一本书：小李飞刀|...   \n",
       "4372  喜欢的一道菜：未填写|欣赏的一个名人：未填写|喜欢的一首歌：未填写|喜欢的一本书：未填写|喜...   \n",
       "4373  喜欢的一道菜：醬蟹|喜欢的一首歌：我的夢|喜欢做的事：瑜珈|欣赏的一个名人：未填写|喜欢的一...   \n",
       "4374  欣赏的一个名人：喜欢beyond乐队|喜欢的一首歌：喜欢老歌~张学友，谭咏麟，陈奕迅这些|喜...   \n",
       "4375  喜欢的一道菜：台灣滷肉飯|欣赏的一个名人：陳文茜|喜欢做的事：高尔夫球|喜欢的一本书：未填写...   \n",
       "\n",
       "                                                      6  \n",
       "0                                 33-40岁|175-195cm|不要吸烟  \n",
       "1     45-54岁|170-188cm|月薪:1.2万以上|大学本科|不要吸烟|是否想要孩子:以后...  \n",
       "2                           31-45岁|工作地:北京朝阳区|月薪:8千以上|未婚  \n",
       "3     46-53岁|170-180cm|工作地:北京朝阳区|月薪:8千以上|离异|体型:运动员型|...  \n",
       "4                                        39-54岁|月薪:5千以上  \n",
       "...                                                 ...  \n",
       "4371  40-47岁|170-178cm|工作地:广东珠海|月薪:2万以上|体型:一般|不要喝酒|有...  \n",
       "4372                           31-45岁|172-182cm|月薪:2万以上  \n",
       "4373                    33-43岁|170-180cm|工作地:广东珠海香洲区|未婚  \n",
       "4374  29-35岁|170-185cm|工作地:广东珠海|月薪:1.2万以上|大学本科|不要喝酒|...  \n",
       "4375                      49-63岁|工作地:广东珠海香洲区|月薪:5万以上|未婚  \n",
       "\n",
       "[4376 rows x 7 columns]"
      ]
     },
     "execution_count": 27,
     "metadata": {},
     "output_type": "execute_result"
    }
   ],
   "source": [
    "data0"
   ]
  },
  {
   "cell_type": "code",
   "execution_count": null,
   "metadata": {},
   "outputs": [],
   "source": []
  }
 ],
 "metadata": {
  "kernelspec": {
   "display_name": "Python 3",
   "language": "python",
   "name": "python3"
  },
  "language_info": {
   "codemirror_mode": {
    "name": "ipython",
    "version": 3
   },
   "file_extension": ".py",
   "mimetype": "text/x-python",
   "name": "python",
   "nbconvert_exporter": "python",
   "pygments_lexer": "ipython3",
   "version": "3.7.4"
  },
  "toc": {
   "base_numbering": 1,
   "nav_menu": {},
   "number_sections": true,
   "sideBar": true,
   "skip_h1_title": false,
   "title_cell": "Table of Contents",
   "title_sidebar": "Contents",
   "toc_cell": false,
   "toc_position": {},
   "toc_section_display": true,
   "toc_window_display": true
  }
 },
 "nbformat": 4,
 "nbformat_minor": 2
}
